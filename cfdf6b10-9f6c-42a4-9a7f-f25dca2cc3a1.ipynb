{
 "cells": [
  {
   "cell_type": "markdown",
   "id": "22e7845b",
   "metadata": {},
   "source": [
    "Привет, меня зовут Артем Носенко и я буду проверять твой проект.\n",
    "<br>Небольшая вступительная часть и начнем работу)\n",
    "<br> Если не против, то предлагаю общаться на «ты». Если это не удобно - дай знать, и мы перейдем на \"вы\". Моя основная цель — не указать на совершенные ошибки, а поделиться своим опытом и помочь сделать твой проект лучше. Для этого я буду использовать разный стиль оформления комментариев.\n",
    "<div class=\"alert alert-block alert-success\">\n",
    "✔️ Все хорошо.\n",
    "</div>\n",
    "\n",
    "<div class=\"alert alert-warning\">\n",
    "⚠️ Критических замечаний нет, но есть возможность сделать твою работу лучше.\n",
    "</div>\n",
    "\n",
    "<div class=\"alert alert-block alert-danger\">\n",
    "❌ Если требуются исправления. Работа не может быть принята с красными комментариями.\n",
    "</div>\n",
    "\n",
    "\n",
    "Давай работать над проектом в диалоге: если ты что-то меняешь в проекте по моим рекомендациям — пиши об этом.\n",
    "Будет очень хорошо, если ты будешь помечать свои действия следующим образом:\n",
    "<div class=\"alert alert-block alert-info\">\n",
    "<b>Комментарий студента:</b> ...\n",
    "</div>\n",
    "Пожалуйста, не перемещай, не изменяй и не удаляй мои комментарии. Всё это поможет выполнить повторную проверку твоего проекта оперативнее»."
   ]
  },
  {
   "cell_type": "markdown",
   "id": "419f6e57",
   "metadata": {},
   "source": [
    "<div class=\"alert alert-block alert-info\">\n",
    "<b>Комментарий студента:</b> <br>\n",
    "Артем, привет! <br> \n",
    "Спасибо за ревью <br>\n",
    "Постарался учесть боьшинство твоих замечаний    \n",
    "</div>"
   ]
  },
  {
   "cell_type": "code",
   "execution_count": 1,
   "id": "da5605f3",
   "metadata": {},
   "outputs": [],
   "source": [
    "import re\n",
    "import numpy as np\n",
    "import pandas as pd\n",
    "\n",
    "from sklearn.preprocessing import StandardScaler, OneHotEncoder\n",
    "from sklearn.model_selection import train_test_split\n",
    "from sklearn.metrics import r2_score,mean_squared_error\n",
    "\n",
    "import torch\n",
    "import torch.nn as nn\n",
    "\n",
    "import matplotlib.pyplot as plt\n",
    "from matplotlib.patches import Patch "
   ]
  },
  {
   "cell_type": "markdown",
   "id": "33050c79",
   "metadata": {},
   "source": [
    "<b>Комментарий от ревьюера v1</b>\n",
    "\n",
    "<div class=\"alert alert-block alert-success\">\n",
    "✔️ Отлично. Все необходимые библиотеки импортированы.\n",
    "</div>"
   ]
  },
  {
   "cell_type": "code",
   "execution_count": 2,
   "id": "afea4d81",
   "metadata": {},
   "outputs": [],
   "source": [
    "np.random.seed(499)\n",
    "torch.use_deterministic_algorithms(True)\n",
    "torch.manual_seed(499)\n",
    "rmse = lambda target,pred: mean_squared_error(target,pred,squared=False)"
   ]
  },
  {
   "cell_type": "markdown",
   "id": "467937b0",
   "metadata": {},
   "source": [
    "<b>Комментарий от ревьюера v1</b>\n",
    "\n",
    "<div class=\"alert alert-block alert-success\">\n",
    "    \n",
    "✔️ `SEED` зафиксирован. Отлично!\n",
    "</div>"
   ]
  },
  {
   "cell_type": "markdown",
   "id": "corresponding-armstrong",
   "metadata": {
    "ExecuteTime": {
     "end_time": "2022-05-05T04:58:05.692448Z",
     "start_time": "2022-05-05T04:58:05.688565Z"
    }
   },
   "source": [
    "## Загрузка данных"
   ]
  },
  {
   "cell_type": "code",
   "execution_count": 3,
   "id": "78be7209",
   "metadata": {},
   "outputs": [
    {
     "name": "stdout",
     "output_type": "stream",
     "text": [
      "<class 'pandas.core.frame.DataFrame'>\n",
      "Int64Index: 240 entries, 0 to 239\n",
      "Data columns (total 6 columns):\n",
      " #   Column                  Non-Null Count  Dtype  \n",
      "---  ------                  --------------  -----  \n",
      " 0   Temperature (K)         240 non-null    int64  \n",
      " 1   Luminosity(L/Lo)        240 non-null    float64\n",
      " 2   Radius(R/Ro)            240 non-null    float64\n",
      " 3   Absolute magnitude(Mv)  240 non-null    float64\n",
      " 4   Star type               240 non-null    int64  \n",
      " 5   Star color              240 non-null    object \n",
      "dtypes: float64(3), int64(2), object(1)\n",
      "memory usage: 13.1+ KB\n"
     ]
    },
    {
     "data": {
      "text/html": [
       "<div>\n",
       "<style scoped>\n",
       "    .dataframe tbody tr th:only-of-type {\n",
       "        vertical-align: middle;\n",
       "    }\n",
       "\n",
       "    .dataframe tbody tr th {\n",
       "        vertical-align: top;\n",
       "    }\n",
       "\n",
       "    .dataframe thead th {\n",
       "        text-align: right;\n",
       "    }\n",
       "</style>\n",
       "<table border=\"1\" class=\"dataframe\">\n",
       "  <thead>\n",
       "    <tr style=\"text-align: right;\">\n",
       "      <th></th>\n",
       "      <th>Temperature (K)</th>\n",
       "      <th>Luminosity(L/Lo)</th>\n",
       "      <th>Radius(R/Ro)</th>\n",
       "      <th>Absolute magnitude(Mv)</th>\n",
       "      <th>Star type</th>\n",
       "      <th>Star color</th>\n",
       "    </tr>\n",
       "  </thead>\n",
       "  <tbody>\n",
       "    <tr>\n",
       "      <th>0</th>\n",
       "      <td>3068</td>\n",
       "      <td>0.002400</td>\n",
       "      <td>0.1700</td>\n",
       "      <td>16.12</td>\n",
       "      <td>0</td>\n",
       "      <td>Red</td>\n",
       "    </tr>\n",
       "    <tr>\n",
       "      <th>1</th>\n",
       "      <td>3042</td>\n",
       "      <td>0.000500</td>\n",
       "      <td>0.1542</td>\n",
       "      <td>16.60</td>\n",
       "      <td>0</td>\n",
       "      <td>Red</td>\n",
       "    </tr>\n",
       "    <tr>\n",
       "      <th>2</th>\n",
       "      <td>2600</td>\n",
       "      <td>0.000300</td>\n",
       "      <td>0.1020</td>\n",
       "      <td>18.70</td>\n",
       "      <td>0</td>\n",
       "      <td>Red</td>\n",
       "    </tr>\n",
       "    <tr>\n",
       "      <th>3</th>\n",
       "      <td>2800</td>\n",
       "      <td>0.000200</td>\n",
       "      <td>0.1600</td>\n",
       "      <td>16.65</td>\n",
       "      <td>0</td>\n",
       "      <td>Red</td>\n",
       "    </tr>\n",
       "    <tr>\n",
       "      <th>4</th>\n",
       "      <td>1939</td>\n",
       "      <td>0.000138</td>\n",
       "      <td>0.1030</td>\n",
       "      <td>20.06</td>\n",
       "      <td>0</td>\n",
       "      <td>Red</td>\n",
       "    </tr>\n",
       "  </tbody>\n",
       "</table>\n",
       "</div>"
      ],
      "text/plain": [
       "   Temperature (K)  Luminosity(L/Lo)  Radius(R/Ro)  Absolute magnitude(Mv)  \\\n",
       "0             3068          0.002400        0.1700                   16.12   \n",
       "1             3042          0.000500        0.1542                   16.60   \n",
       "2             2600          0.000300        0.1020                   18.70   \n",
       "3             2800          0.000200        0.1600                   16.65   \n",
       "4             1939          0.000138        0.1030                   20.06   \n",
       "\n",
       "   Star type Star color  \n",
       "0          0        Red  \n",
       "1          0        Red  \n",
       "2          0        Red  \n",
       "3          0        Red  \n",
       "4          0        Red  "
      ]
     },
     "execution_count": 3,
     "metadata": {},
     "output_type": "execute_result"
    }
   ],
   "source": [
    "df = pd.read_csv('/datasets/6_class.csv',index_col=0)\n",
    "df.info()\n",
    "df.head(5)"
   ]
  },
  {
   "cell_type": "markdown",
   "id": "3b9ffcc3",
   "metadata": {},
   "source": [
    "<s>Удалим ненужную колонку с номером строки,</s> остальным присвоим более короткике и удобные имена"
   ]
  },
  {
   "cell_type": "code",
   "execution_count": 4,
   "id": "ed3bd0ce",
   "metadata": {},
   "outputs": [
    {
     "data": {
      "text/html": [
       "<div>\n",
       "<style scoped>\n",
       "    .dataframe tbody tr th:only-of-type {\n",
       "        vertical-align: middle;\n",
       "    }\n",
       "\n",
       "    .dataframe tbody tr th {\n",
       "        vertical-align: top;\n",
       "    }\n",
       "\n",
       "    .dataframe thead th {\n",
       "        text-align: right;\n",
       "    }\n",
       "</style>\n",
       "<table border=\"1\" class=\"dataframe\">\n",
       "  <thead>\n",
       "    <tr style=\"text-align: right;\">\n",
       "      <th></th>\n",
       "      <th>tem</th>\n",
       "      <th>lum</th>\n",
       "      <th>rad</th>\n",
       "      <th>mag</th>\n",
       "      <th>type</th>\n",
       "      <th>color</th>\n",
       "    </tr>\n",
       "  </thead>\n",
       "  <tbody>\n",
       "    <tr>\n",
       "      <th>0</th>\n",
       "      <td>3068</td>\n",
       "      <td>0.002400</td>\n",
       "      <td>0.1700</td>\n",
       "      <td>16.12</td>\n",
       "      <td>0</td>\n",
       "      <td>Red</td>\n",
       "    </tr>\n",
       "    <tr>\n",
       "      <th>1</th>\n",
       "      <td>3042</td>\n",
       "      <td>0.000500</td>\n",
       "      <td>0.1542</td>\n",
       "      <td>16.60</td>\n",
       "      <td>0</td>\n",
       "      <td>Red</td>\n",
       "    </tr>\n",
       "    <tr>\n",
       "      <th>2</th>\n",
       "      <td>2600</td>\n",
       "      <td>0.000300</td>\n",
       "      <td>0.1020</td>\n",
       "      <td>18.70</td>\n",
       "      <td>0</td>\n",
       "      <td>Red</td>\n",
       "    </tr>\n",
       "    <tr>\n",
       "      <th>3</th>\n",
       "      <td>2800</td>\n",
       "      <td>0.000200</td>\n",
       "      <td>0.1600</td>\n",
       "      <td>16.65</td>\n",
       "      <td>0</td>\n",
       "      <td>Red</td>\n",
       "    </tr>\n",
       "    <tr>\n",
       "      <th>4</th>\n",
       "      <td>1939</td>\n",
       "      <td>0.000138</td>\n",
       "      <td>0.1030</td>\n",
       "      <td>20.06</td>\n",
       "      <td>0</td>\n",
       "      <td>Red</td>\n",
       "    </tr>\n",
       "  </tbody>\n",
       "</table>\n",
       "</div>"
      ],
      "text/plain": [
       "    tem       lum     rad    mag  type color\n",
       "0  3068  0.002400  0.1700  16.12     0   Red\n",
       "1  3042  0.000500  0.1542  16.60     0   Red\n",
       "2  2600  0.000300  0.1020  18.70     0   Red\n",
       "3  2800  0.000200  0.1600  16.65     0   Red\n",
       "4  1939  0.000138  0.1030  20.06     0   Red"
      ]
     },
     "execution_count": 4,
     "metadata": {},
     "output_type": "execute_result"
    }
   ],
   "source": [
    "df.columns = ['tem','lum','rad','mag','type','color']\n",
    "df.head()"
   ]
  },
  {
   "cell_type": "markdown",
   "id": "b1d10f81",
   "metadata": {},
   "source": [
    "<b>Комментарий от ревьюера v1</b>\n",
    "\n",
    "<div class=\"alert alert-warning\">\n",
    "    \n",
    "⚠️ У метода `read_csv` есть атрибут `index_col`, который в данном случае удобно установить равным 0.\\\n",
    "Тогда не придется удалять лишнюю колонку. Пример кода ниже:\n",
    "</div>\n",
    "\n",
    "```python\n",
    "pd.read_csv('/datasets/6_class.csv', index_col=0)\n",
    "```"
   ]
  },
  {
   "cell_type": "markdown",
   "id": "simple-subdivision",
   "metadata": {},
   "source": [
    "## Предобработка и анализ данных"
   ]
  },
  {
   "cell_type": "markdown",
   "id": "b93f5d31",
   "metadata": {},
   "source": [
    "Проверим неопределенные значения и убедимся что их нет "
   ]
  },
  {
   "cell_type": "code",
   "execution_count": 5,
   "id": "0318ebdc",
   "metadata": {},
   "outputs": [
    {
     "data": {
      "text/plain": [
       "tem      0\n",
       "lum      0\n",
       "rad      0\n",
       "mag      0\n",
       "type     0\n",
       "color    0\n",
       "dtype: int64"
      ]
     },
     "execution_count": 5,
     "metadata": {},
     "output_type": "execute_result"
    }
   ],
   "source": [
    "df.isna().sum()"
   ]
  },
  {
   "cell_type": "markdown",
   "id": "254b8015",
   "metadata": {},
   "source": [
    "Для использвания в нейронной сети все входные данные должны быть числовыми .   \n",
    "Светимость, радиус и величина являются нормальными числовыми колонками и нуждаются только в масштабировании.  \n"
   ]
  },
  {
   "cell_type": "code",
   "execution_count": 6,
   "id": "b3cd5a42",
   "metadata": {},
   "outputs": [
    {
     "data": {
      "text/plain": [
       "Red                   112\n",
       "Blue                   55\n",
       "Blue-white             26\n",
       "Blue White             10\n",
       "yellow-white            8\n",
       "White                   7\n",
       "Yellowish White         3\n",
       "Blue white              3\n",
       "white                   3\n",
       "Orange                  2\n",
       "yellowish               2\n",
       "Whitish                 2\n",
       "Blue white              1\n",
       "Orange-Red              1\n",
       "Blue                    1\n",
       "Pale yellow orange      1\n",
       "White-Yellow            1\n",
       "Blue-White              1\n",
       "Yellowish               1\n",
       "Name: color, dtype: int64"
      ]
     },
     "execution_count": 6,
     "metadata": {},
     "output_type": "execute_result"
    }
   ],
   "source": [
    "df.color.value_counts()"
   ]
  },
  {
   "cell_type": "markdown",
   "id": "b2a772d4",
   "metadata": {},
   "source": [
    "Цвет звезды может быть одним из 5 цветов (Red/Blue/Yellow/Orange/White) или комбинацией двух цветов.  \n",
    "Перед преобразованием надо привести название цвета к стандартным наименованиям каждого цвета. Так как названия базовых цветов начинаются с разных букв можно урезать слова до первой буквы в нижнем регистре и упорядочить буквы в получившейся  строке - это даст все возможные классы"
   ]
  },
  {
   "cell_type": "code",
   "execution_count": 7,
   "id": "4cb2ca39",
   "metadata": {},
   "outputs": [
    {
     "data": {
      "text/plain": [
       "0    40\n",
       "1    40\n",
       "2    40\n",
       "3    40\n",
       "4    40\n",
       "5    40\n",
       "Name: type, dtype: int64"
      ]
     },
     "execution_count": 7,
     "metadata": {},
     "output_type": "execute_result"
    }
   ],
   "source": [
    "df.type.value_counts()"
   ]
  },
  {
   "cell_type": "markdown",
   "id": "1ae607e9",
   "metadata": {},
   "source": [
    "Колонка \"класс звезды\" фактически является категориальной , причем по каждой каждому классу отобрано одинаковое количесто объектов"
   ]
  },
  {
   "cell_type": "markdown",
   "id": "58d0897f",
   "metadata": {},
   "source": [
    "### Преобразования цвета "
   ]
  },
  {
   "cell_type": "markdown",
   "id": "798fd39f",
   "metadata": {},
   "source": [
    "Хотя одно-двухбуквенные названимя цветов можно закодировать непосредственно в OneHotEncoder, при этом потеряется инофрмация о близости смешанных цветов к каждому из компонентов. Поэтому мне кажется более правильным кодировать в одтельную колонку пять базовых цветов, а для смешанных цветов   выводить их сочетания в соответствующих колонках "
   ]
  },
  {
   "cell_type": "code",
   "execution_count": 8,
   "id": "2254bb8d",
   "metadata": {
    "scrolled": true
   },
   "outputs": [
    {
     "data": {
      "text/html": [
       "<div>\n",
       "<style scoped>\n",
       "    .dataframe tbody tr th:only-of-type {\n",
       "        vertical-align: middle;\n",
       "    }\n",
       "\n",
       "    .dataframe tbody tr th {\n",
       "        vertical-align: top;\n",
       "    }\n",
       "\n",
       "    .dataframe thead th {\n",
       "        text-align: right;\n",
       "    }\n",
       "</style>\n",
       "<table border=\"1\" class=\"dataframe\">\n",
       "  <thead>\n",
       "    <tr style=\"text-align: right;\">\n",
       "      <th></th>\n",
       "      <th>b</th>\n",
       "      <th>o</th>\n",
       "      <th>r</th>\n",
       "      <th>w</th>\n",
       "      <th>y</th>\n",
       "    </tr>\n",
       "  </thead>\n",
       "  <tbody>\n",
       "    <tr>\n",
       "      <th>180</th>\n",
       "      <td>0</td>\n",
       "      <td>0</td>\n",
       "      <td>1</td>\n",
       "      <td>0</td>\n",
       "      <td>0</td>\n",
       "    </tr>\n",
       "    <tr>\n",
       "      <th>181</th>\n",
       "      <td>0</td>\n",
       "      <td>0</td>\n",
       "      <td>1</td>\n",
       "      <td>0</td>\n",
       "      <td>0</td>\n",
       "    </tr>\n",
       "    <tr>\n",
       "      <th>182</th>\n",
       "      <td>0</td>\n",
       "      <td>0</td>\n",
       "      <td>1</td>\n",
       "      <td>0</td>\n",
       "      <td>0</td>\n",
       "    </tr>\n",
       "    <tr>\n",
       "      <th>183</th>\n",
       "      <td>0</td>\n",
       "      <td>0</td>\n",
       "      <td>1</td>\n",
       "      <td>0</td>\n",
       "      <td>0</td>\n",
       "    </tr>\n",
       "    <tr>\n",
       "      <th>184</th>\n",
       "      <td>0</td>\n",
       "      <td>0</td>\n",
       "      <td>1</td>\n",
       "      <td>0</td>\n",
       "      <td>0</td>\n",
       "    </tr>\n",
       "    <tr>\n",
       "      <th>185</th>\n",
       "      <td>0</td>\n",
       "      <td>0</td>\n",
       "      <td>1</td>\n",
       "      <td>0</td>\n",
       "      <td>0</td>\n",
       "    </tr>\n",
       "    <tr>\n",
       "      <th>186</th>\n",
       "      <td>0</td>\n",
       "      <td>0</td>\n",
       "      <td>1</td>\n",
       "      <td>0</td>\n",
       "      <td>0</td>\n",
       "    </tr>\n",
       "    <tr>\n",
       "      <th>187</th>\n",
       "      <td>0</td>\n",
       "      <td>0</td>\n",
       "      <td>1</td>\n",
       "      <td>0</td>\n",
       "      <td>0</td>\n",
       "    </tr>\n",
       "    <tr>\n",
       "      <th>188</th>\n",
       "      <td>0</td>\n",
       "      <td>0</td>\n",
       "      <td>1</td>\n",
       "      <td>0</td>\n",
       "      <td>0</td>\n",
       "    </tr>\n",
       "    <tr>\n",
       "      <th>189</th>\n",
       "      <td>0</td>\n",
       "      <td>0</td>\n",
       "      <td>1</td>\n",
       "      <td>0</td>\n",
       "      <td>0</td>\n",
       "    </tr>\n",
       "    <tr>\n",
       "      <th>190</th>\n",
       "      <td>0</td>\n",
       "      <td>0</td>\n",
       "      <td>1</td>\n",
       "      <td>0</td>\n",
       "      <td>0</td>\n",
       "    </tr>\n",
       "    <tr>\n",
       "      <th>191</th>\n",
       "      <td>0</td>\n",
       "      <td>0</td>\n",
       "      <td>1</td>\n",
       "      <td>0</td>\n",
       "      <td>0</td>\n",
       "    </tr>\n",
       "    <tr>\n",
       "      <th>192</th>\n",
       "      <td>0</td>\n",
       "      <td>0</td>\n",
       "      <td>1</td>\n",
       "      <td>0</td>\n",
       "      <td>0</td>\n",
       "    </tr>\n",
       "    <tr>\n",
       "      <th>193</th>\n",
       "      <td>0</td>\n",
       "      <td>0</td>\n",
       "      <td>1</td>\n",
       "      <td>0</td>\n",
       "      <td>0</td>\n",
       "    </tr>\n",
       "    <tr>\n",
       "      <th>194</th>\n",
       "      <td>0</td>\n",
       "      <td>0</td>\n",
       "      <td>1</td>\n",
       "      <td>0</td>\n",
       "      <td>0</td>\n",
       "    </tr>\n",
       "    <tr>\n",
       "      <th>195</th>\n",
       "      <td>0</td>\n",
       "      <td>0</td>\n",
       "      <td>1</td>\n",
       "      <td>0</td>\n",
       "      <td>0</td>\n",
       "    </tr>\n",
       "    <tr>\n",
       "      <th>196</th>\n",
       "      <td>0</td>\n",
       "      <td>0</td>\n",
       "      <td>1</td>\n",
       "      <td>0</td>\n",
       "      <td>0</td>\n",
       "    </tr>\n",
       "    <tr>\n",
       "      <th>197</th>\n",
       "      <td>0</td>\n",
       "      <td>0</td>\n",
       "      <td>1</td>\n",
       "      <td>0</td>\n",
       "      <td>0</td>\n",
       "    </tr>\n",
       "    <tr>\n",
       "      <th>198</th>\n",
       "      <td>0</td>\n",
       "      <td>0</td>\n",
       "      <td>1</td>\n",
       "      <td>0</td>\n",
       "      <td>0</td>\n",
       "    </tr>\n",
       "    <tr>\n",
       "      <th>199</th>\n",
       "      <td>0</td>\n",
       "      <td>0</td>\n",
       "      <td>1</td>\n",
       "      <td>0</td>\n",
       "      <td>0</td>\n",
       "    </tr>\n",
       "    <tr>\n",
       "      <th>200</th>\n",
       "      <td>1</td>\n",
       "      <td>0</td>\n",
       "      <td>0</td>\n",
       "      <td>0</td>\n",
       "      <td>0</td>\n",
       "    </tr>\n",
       "    <tr>\n",
       "      <th>201</th>\n",
       "      <td>1</td>\n",
       "      <td>0</td>\n",
       "      <td>0</td>\n",
       "      <td>0</td>\n",
       "      <td>0</td>\n",
       "    </tr>\n",
       "    <tr>\n",
       "      <th>202</th>\n",
       "      <td>1</td>\n",
       "      <td>0</td>\n",
       "      <td>0</td>\n",
       "      <td>0</td>\n",
       "      <td>0</td>\n",
       "    </tr>\n",
       "    <tr>\n",
       "      <th>203</th>\n",
       "      <td>1</td>\n",
       "      <td>0</td>\n",
       "      <td>0</td>\n",
       "      <td>0</td>\n",
       "      <td>0</td>\n",
       "    </tr>\n",
       "    <tr>\n",
       "      <th>204</th>\n",
       "      <td>1</td>\n",
       "      <td>0</td>\n",
       "      <td>0</td>\n",
       "      <td>0</td>\n",
       "      <td>0</td>\n",
       "    </tr>\n",
       "    <tr>\n",
       "      <th>205</th>\n",
       "      <td>1</td>\n",
       "      <td>0</td>\n",
       "      <td>0</td>\n",
       "      <td>0</td>\n",
       "      <td>0</td>\n",
       "    </tr>\n",
       "    <tr>\n",
       "      <th>206</th>\n",
       "      <td>1</td>\n",
       "      <td>0</td>\n",
       "      <td>0</td>\n",
       "      <td>0</td>\n",
       "      <td>0</td>\n",
       "    </tr>\n",
       "    <tr>\n",
       "      <th>207</th>\n",
       "      <td>1</td>\n",
       "      <td>0</td>\n",
       "      <td>0</td>\n",
       "      <td>0</td>\n",
       "      <td>0</td>\n",
       "    </tr>\n",
       "    <tr>\n",
       "      <th>208</th>\n",
       "      <td>1</td>\n",
       "      <td>0</td>\n",
       "      <td>0</td>\n",
       "      <td>0</td>\n",
       "      <td>0</td>\n",
       "    </tr>\n",
       "    <tr>\n",
       "      <th>209</th>\n",
       "      <td>1</td>\n",
       "      <td>0</td>\n",
       "      <td>0</td>\n",
       "      <td>0</td>\n",
       "      <td>0</td>\n",
       "    </tr>\n",
       "    <tr>\n",
       "      <th>210</th>\n",
       "      <td>1</td>\n",
       "      <td>0</td>\n",
       "      <td>0</td>\n",
       "      <td>1</td>\n",
       "      <td>0</td>\n",
       "    </tr>\n",
       "    <tr>\n",
       "      <th>211</th>\n",
       "      <td>1</td>\n",
       "      <td>0</td>\n",
       "      <td>0</td>\n",
       "      <td>1</td>\n",
       "      <td>0</td>\n",
       "    </tr>\n",
       "    <tr>\n",
       "      <th>212</th>\n",
       "      <td>1</td>\n",
       "      <td>0</td>\n",
       "      <td>0</td>\n",
       "      <td>1</td>\n",
       "      <td>0</td>\n",
       "    </tr>\n",
       "    <tr>\n",
       "      <th>213</th>\n",
       "      <td>1</td>\n",
       "      <td>0</td>\n",
       "      <td>0</td>\n",
       "      <td>1</td>\n",
       "      <td>0</td>\n",
       "    </tr>\n",
       "    <tr>\n",
       "      <th>214</th>\n",
       "      <td>1</td>\n",
       "      <td>0</td>\n",
       "      <td>0</td>\n",
       "      <td>0</td>\n",
       "      <td>0</td>\n",
       "    </tr>\n",
       "    <tr>\n",
       "      <th>215</th>\n",
       "      <td>1</td>\n",
       "      <td>0</td>\n",
       "      <td>0</td>\n",
       "      <td>0</td>\n",
       "      <td>0</td>\n",
       "    </tr>\n",
       "    <tr>\n",
       "      <th>216</th>\n",
       "      <td>1</td>\n",
       "      <td>0</td>\n",
       "      <td>0</td>\n",
       "      <td>1</td>\n",
       "      <td>0</td>\n",
       "    </tr>\n",
       "    <tr>\n",
       "      <th>217</th>\n",
       "      <td>1</td>\n",
       "      <td>0</td>\n",
       "      <td>0</td>\n",
       "      <td>1</td>\n",
       "      <td>0</td>\n",
       "    </tr>\n",
       "    <tr>\n",
       "      <th>218</th>\n",
       "      <td>1</td>\n",
       "      <td>0</td>\n",
       "      <td>0</td>\n",
       "      <td>1</td>\n",
       "      <td>0</td>\n",
       "    </tr>\n",
       "    <tr>\n",
       "      <th>219</th>\n",
       "      <td>0</td>\n",
       "      <td>0</td>\n",
       "      <td>0</td>\n",
       "      <td>1</td>\n",
       "      <td>1</td>\n",
       "    </tr>\n",
       "    <tr>\n",
       "      <th>220</th>\n",
       "      <td>1</td>\n",
       "      <td>0</td>\n",
       "      <td>0</td>\n",
       "      <td>0</td>\n",
       "      <td>0</td>\n",
       "    </tr>\n",
       "    <tr>\n",
       "      <th>221</th>\n",
       "      <td>1</td>\n",
       "      <td>0</td>\n",
       "      <td>0</td>\n",
       "      <td>0</td>\n",
       "      <td>0</td>\n",
       "    </tr>\n",
       "    <tr>\n",
       "      <th>222</th>\n",
       "      <td>1</td>\n",
       "      <td>0</td>\n",
       "      <td>0</td>\n",
       "      <td>0</td>\n",
       "      <td>0</td>\n",
       "    </tr>\n",
       "    <tr>\n",
       "      <th>223</th>\n",
       "      <td>1</td>\n",
       "      <td>0</td>\n",
       "      <td>0</td>\n",
       "      <td>0</td>\n",
       "      <td>0</td>\n",
       "    </tr>\n",
       "    <tr>\n",
       "      <th>224</th>\n",
       "      <td>1</td>\n",
       "      <td>0</td>\n",
       "      <td>0</td>\n",
       "      <td>0</td>\n",
       "      <td>0</td>\n",
       "    </tr>\n",
       "    <tr>\n",
       "      <th>225</th>\n",
       "      <td>1</td>\n",
       "      <td>0</td>\n",
       "      <td>0</td>\n",
       "      <td>0</td>\n",
       "      <td>0</td>\n",
       "    </tr>\n",
       "    <tr>\n",
       "      <th>226</th>\n",
       "      <td>1</td>\n",
       "      <td>0</td>\n",
       "      <td>0</td>\n",
       "      <td>0</td>\n",
       "      <td>0</td>\n",
       "    </tr>\n",
       "    <tr>\n",
       "      <th>227</th>\n",
       "      <td>1</td>\n",
       "      <td>0</td>\n",
       "      <td>0</td>\n",
       "      <td>0</td>\n",
       "      <td>0</td>\n",
       "    </tr>\n",
       "    <tr>\n",
       "      <th>228</th>\n",
       "      <td>1</td>\n",
       "      <td>0</td>\n",
       "      <td>0</td>\n",
       "      <td>0</td>\n",
       "      <td>0</td>\n",
       "    </tr>\n",
       "    <tr>\n",
       "      <th>229</th>\n",
       "      <td>1</td>\n",
       "      <td>0</td>\n",
       "      <td>0</td>\n",
       "      <td>0</td>\n",
       "      <td>0</td>\n",
       "    </tr>\n",
       "    <tr>\n",
       "      <th>230</th>\n",
       "      <td>1</td>\n",
       "      <td>0</td>\n",
       "      <td>0</td>\n",
       "      <td>1</td>\n",
       "      <td>0</td>\n",
       "    </tr>\n",
       "    <tr>\n",
       "      <th>231</th>\n",
       "      <td>1</td>\n",
       "      <td>0</td>\n",
       "      <td>0</td>\n",
       "      <td>0</td>\n",
       "      <td>0</td>\n",
       "    </tr>\n",
       "    <tr>\n",
       "      <th>232</th>\n",
       "      <td>1</td>\n",
       "      <td>0</td>\n",
       "      <td>0</td>\n",
       "      <td>0</td>\n",
       "      <td>0</td>\n",
       "    </tr>\n",
       "    <tr>\n",
       "      <th>233</th>\n",
       "      <td>1</td>\n",
       "      <td>0</td>\n",
       "      <td>0</td>\n",
       "      <td>1</td>\n",
       "      <td>0</td>\n",
       "    </tr>\n",
       "    <tr>\n",
       "      <th>234</th>\n",
       "      <td>1</td>\n",
       "      <td>0</td>\n",
       "      <td>0</td>\n",
       "      <td>1</td>\n",
       "      <td>0</td>\n",
       "    </tr>\n",
       "    <tr>\n",
       "      <th>235</th>\n",
       "      <td>1</td>\n",
       "      <td>0</td>\n",
       "      <td>0</td>\n",
       "      <td>0</td>\n",
       "      <td>0</td>\n",
       "    </tr>\n",
       "    <tr>\n",
       "      <th>236</th>\n",
       "      <td>1</td>\n",
       "      <td>0</td>\n",
       "      <td>0</td>\n",
       "      <td>0</td>\n",
       "      <td>0</td>\n",
       "    </tr>\n",
       "    <tr>\n",
       "      <th>237</th>\n",
       "      <td>0</td>\n",
       "      <td>0</td>\n",
       "      <td>0</td>\n",
       "      <td>1</td>\n",
       "      <td>0</td>\n",
       "    </tr>\n",
       "    <tr>\n",
       "      <th>238</th>\n",
       "      <td>0</td>\n",
       "      <td>0</td>\n",
       "      <td>0</td>\n",
       "      <td>1</td>\n",
       "      <td>0</td>\n",
       "    </tr>\n",
       "    <tr>\n",
       "      <th>239</th>\n",
       "      <td>1</td>\n",
       "      <td>0</td>\n",
       "      <td>0</td>\n",
       "      <td>0</td>\n",
       "      <td>0</td>\n",
       "    </tr>\n",
       "  </tbody>\n",
       "</table>\n",
       "</div>"
      ],
      "text/plain": [
       "     b  o  r  w  y\n",
       "180  0  0  1  0  0\n",
       "181  0  0  1  0  0\n",
       "182  0  0  1  0  0\n",
       "183  0  0  1  0  0\n",
       "184  0  0  1  0  0\n",
       "185  0  0  1  0  0\n",
       "186  0  0  1  0  0\n",
       "187  0  0  1  0  0\n",
       "188  0  0  1  0  0\n",
       "189  0  0  1  0  0\n",
       "190  0  0  1  0  0\n",
       "191  0  0  1  0  0\n",
       "192  0  0  1  0  0\n",
       "193  0  0  1  0  0\n",
       "194  0  0  1  0  0\n",
       "195  0  0  1  0  0\n",
       "196  0  0  1  0  0\n",
       "197  0  0  1  0  0\n",
       "198  0  0  1  0  0\n",
       "199  0  0  1  0  0\n",
       "200  1  0  0  0  0\n",
       "201  1  0  0  0  0\n",
       "202  1  0  0  0  0\n",
       "203  1  0  0  0  0\n",
       "204  1  0  0  0  0\n",
       "205  1  0  0  0  0\n",
       "206  1  0  0  0  0\n",
       "207  1  0  0  0  0\n",
       "208  1  0  0  0  0\n",
       "209  1  0  0  0  0\n",
       "210  1  0  0  1  0\n",
       "211  1  0  0  1  0\n",
       "212  1  0  0  1  0\n",
       "213  1  0  0  1  0\n",
       "214  1  0  0  0  0\n",
       "215  1  0  0  0  0\n",
       "216  1  0  0  1  0\n",
       "217  1  0  0  1  0\n",
       "218  1  0  0  1  0\n",
       "219  0  0  0  1  1\n",
       "220  1  0  0  0  0\n",
       "221  1  0  0  0  0\n",
       "222  1  0  0  0  0\n",
       "223  1  0  0  0  0\n",
       "224  1  0  0  0  0\n",
       "225  1  0  0  0  0\n",
       "226  1  0  0  0  0\n",
       "227  1  0  0  0  0\n",
       "228  1  0  0  0  0\n",
       "229  1  0  0  0  0\n",
       "230  1  0  0  1  0\n",
       "231  1  0  0  0  0\n",
       "232  1  0  0  0  0\n",
       "233  1  0  0  1  0\n",
       "234  1  0  0  1  0\n",
       "235  1  0  0  0  0\n",
       "236  1  0  0  0  0\n",
       "237  0  0  0  1  0\n",
       "238  0  0  0  1  0\n",
       "239  1  0  0  0  0"
      ]
     },
     "execution_count": 8,
     "metadata": {},
     "output_type": "execute_result"
    }
   ],
   "source": [
    "color_chars= ['b','o','r','w','y']\n",
    "def enc_color(colorname):\n",
    "    colors = re.findall(r'\\b(\\w)' ,colorname.lower())      # first letters of base color names  \n",
    "    colors = [ re.sub('p','w',c) for c in colors ]         # to catch  only case where 'pale' apparently means 'white'\n",
    "    return ( { c: int(c in colors) for c in color_chars })\n",
    "\n",
    "df_color = pd.DataFrame.from_records( df.color.apply(enc_color) ,index = df.index)\n",
    "df_color.tail(60 )"
   ]
  },
  {
   "cell_type": "markdown",
   "id": "541374fb",
   "metadata": {},
   "source": [
    "<b>Комментарий от ревьюера v1</b>\n",
    "\n",
    "<div class=\"alert alert-block alert-success\">\n",
    "    \n",
    "✔️ Преобразование корректное, хорошо.\n",
    "</div>"
   ]
  },
  {
   "cell_type": "markdown",
   "id": "f9a1b2d4",
   "metadata": {},
   "source": [
    "### Преобразования типа"
   ]
  },
  {
   "cell_type": "code",
   "execution_count": 9,
   "id": "c351a095",
   "metadata": {},
   "outputs": [],
   "source": [
    "ohe = OneHotEncoder(sparse=False,drop='first')\n",
    "df_type = pd.DataFrame( ohe.fit_transform(df[['type']]) )"
   ]
  },
  {
   "cell_type": "markdown",
   "id": "52ba170e",
   "metadata": {},
   "source": [
    "### Проверка числовых колонок"
   ]
  },
  {
   "cell_type": "markdown",
   "id": "699582b2",
   "metadata": {},
   "source": [
    "Перед преобразованием колонок проверим наличие выбросов"
   ]
  },
  {
   "cell_type": "code",
   "execution_count": 10,
   "id": "aa810481",
   "metadata": {},
   "outputs": [
    {
     "data": {
      "image/png": "[encoded data removed]",
      "text/plain": [
       "<Figure size 1440x432 with 4 Axes>"
      ]
     },
     "metadata": {
      "needs_background": "light"
     },
     "output_type": "display_data"
    }
   ],
   "source": [
    "num_features = ['lum','rad','mag']\n",
    "num_cols = ['tem'] + num_features\n",
    "axes = df[num_cols].hist(figsize=(20,6),bins=30).flatten();\n",
    "for ax,title in zip(axes,['Температура,K','Относительная светимость','Радиус относительно Cолнцa','Звездная величина']):\n",
    "    ax.set_title( title+', распределение объектов ') "
   ]
  },
  {
   "cell_type": "markdown",
   "id": "538858be",
   "metadata": {},
   "source": [
    "<b>Комментарий от ревьюера v1</b>\n",
    "\n",
    "<div class=\"alert alert-block alert-success\">\n",
    "    \n",
    "✔️ Распределения признаков отрисованы. Выводы верные.\n",
    "</div>\n",
    "\n",
    "<div class=\"alert alert-warning\">\n",
    "        \n",
    "⚠️ Здесь и в дальнейшем, для улучшения читабельности графиков оси стоит подписывать. Это позволит улучшить восприятие графиков \n",
    "    и сделает твои выводы более наглядными для других.\n",
    "</div>"
   ]
  },
  {
   "cell_type": "markdown",
   "id": "c97429e7",
   "metadata": {},
   "source": [
    "<b>Комментарий от ревьюера v2</b>\n",
    "\n",
    "<div class=\"alert alert-block alert-success\">\n",
    "    \n",
    "✔️ Отлично!\n",
    "</div>"
   ]
  },
  {
   "cell_type": "markdown",
   "id": "614611bc",
   "metadata": {},
   "source": [
    "Колонка звездной величины выглядит довольно естественно, по остальным вроде бы  есть выбросы, но можно убедиться что это специфическая зависимость от класса звезды "
   ]
  },
  {
   "cell_type": "code",
   "execution_count": 11,
   "id": "90f1d638",
   "metadata": {},
   "outputs": [
    {
     "data": {
      "text/plain": [
       "4    40\n",
       "5    40\n",
       "3     6\n",
       "Name: type, dtype: int64"
      ]
     },
     "execution_count": 11,
     "metadata": {},
     "output_type": "execute_result"
    }
   ],
   "source": [
    "df[df.lum>60_000].type.value_counts()"
   ]
  },
  {
   "cell_type": "markdown",
   "id": "24aaa815",
   "metadata": {},
   "source": [
    "Верхнмй хвост по светимости состоит из звезд 4и 5го классов и их распределение естественно "
   ]
  },
  {
   "cell_type": "code",
   "execution_count": 12,
   "id": "62ad0496",
   "metadata": {},
   "outputs": [
    {
     "data": {
      "image/png": "[encoded data removed]",
      "text/plain": [
       "<Figure size 1440x576 with 1 Axes>"
      ]
     },
     "metadata": {
      "needs_background": "light"
     },
     "output_type": "display_data"
    }
   ],
   "source": [
    "for ty in range(3,6):\n",
    "    df.lum[df.type==ty].hist(figsize=(20,8),alpha = .4);"
   ]
  },
  {
   "cell_type": "markdown",
   "id": "71fcdd8d",
   "metadata": {},
   "source": [
    "Некоторые сомнения вызывают 6 звезд главной последовательности в районе 200К, но нужно уточнять у астрофизиков, возможно ли это "
   ]
  },
  {
   "cell_type": "code",
   "execution_count": 13,
   "id": "4917c8a2",
   "metadata": {},
   "outputs": [
    {
     "data": {
      "image/png": "[encoded data removed]",
      "text/plain": [
       "<Figure size 1440x576 with 1 Axes>"
      ]
     },
     "metadata": {
      "needs_background": "light"
     },
     "output_type": "display_data"
    }
   ],
   "source": [
    "for ty in range(3):\n",
    "    df.lum[df.type==ty].hist(bins=40, figsize=(20,8),alpha = 1/(ty+1) ,color = 'rgb'[ty])"
   ]
  },
  {
   "cell_type": "markdown",
   "id": "d9cfc16a",
   "metadata": {},
   "source": [
    "У карликов распредеение светимости тоже выглядит естествнно, хотя масштаб существенно различается "
   ]
  },
  {
   "cell_type": "code",
   "execution_count": 14,
   "id": "a2410e3d",
   "metadata": {},
   "outputs": [
    {
     "data": {
      "text/plain": [
       "5    40\n",
       "Name: type, dtype: int64"
      ]
     },
     "execution_count": 14,
     "metadata": {},
     "output_type": "execute_result"
    }
   ],
   "source": [
    "df[df.rad>400].type.value_counts()"
   ]
  },
  {
   "cell_type": "markdown",
   "id": "0f20f908",
   "metadata": {},
   "source": [
    "Весь верхний хвост по радиусу состоит из звездв 5го класса и только из них"
   ]
  },
  {
   "cell_type": "code",
   "execution_count": 15,
   "id": "626df2a5",
   "metadata": {},
   "outputs": [
    {
     "data": {
      "image/png": "[encoded data removed]",
      "text/plain": [
       "<Figure size 1440x576 with 1 Axes>"
      ]
     },
     "metadata": {
      "needs_background": "light"
     },
     "output_type": "display_data"
    }
   ],
   "source": [
    "for ty in range(4):\n",
    "    df.rad[df.type==ty].hist(bins=40, figsize=(20,8),alpha = 1/(ty+1) ,color = 'rgbm'[ty])"
   ]
  },
  {
   "cell_type": "markdown",
   "id": "bd407ab3",
   "metadata": {},
   "source": [
    "В целом , можно сказать , что числовые характеристики очень сильно зависят от класса звезда, переход к следующему классу может вызвать изменение на порядок. Некоторые гистограммы вызвают впоросы. Но вряд ли можно менять данные или выбрасывать  объекты без консультаций со специалистами."
   ]
  },
  {
   "cell_type": "markdown",
   "id": "6c2917ca",
   "metadata": {},
   "source": [
    "<b>Комментарий от ревьюера v1</b>\n",
    "\n",
    "<div class=\"alert alert-block alert-success\">\n",
    "    \n",
    "✔️ Хорошо, произведена стандартизация данных. Так нужно делать для улучшения сходимости нейронных сетей.\n",
    "</div>\n",
    "\n",
    "<div class=\"alert alert-warning\">\n",
    "    \n",
    "⚠️ Стандартизацию стоит делать после разбиения на `train` и `test`. Подбирать параметры стандартизации необходимо на `train`, а применять на `test`. Это поможет избежать утечки информации из train выборки."
   ]
  },
  {
   "cell_type": "markdown",
   "id": "7bbca5ea",
   "metadata": {},
   "source": [
    "<div class=\"alert alert-block alert-info\">\n",
    "<b>Комментарий студента:</b> <br>\n",
    "Перенес ниже , после разделения наборов\n",
    "</div>"
   ]
  },
  {
   "cell_type": "markdown",
   "id": "34a89232",
   "metadata": {},
   "source": [
    "### Корреляция признаков"
   ]
  },
  {
   "cell_type": "code",
   "execution_count": 16,
   "id": "58229500",
   "metadata": {},
   "outputs": [
    {
     "data": {
      "text/html": [
       "<div>\n",
       "<style scoped>\n",
       "    .dataframe tbody tr th:only-of-type {\n",
       "        vertical-align: middle;\n",
       "    }\n",
       "\n",
       "    .dataframe tbody tr th {\n",
       "        vertical-align: top;\n",
       "    }\n",
       "\n",
       "    .dataframe thead th {\n",
       "        text-align: right;\n",
       "    }\n",
       "</style>\n",
       "<table border=\"1\" class=\"dataframe\">\n",
       "  <thead>\n",
       "    <tr style=\"text-align: right;\">\n",
       "      <th></th>\n",
       "      <th>tem</th>\n",
       "      <th>lum</th>\n",
       "      <th>rad</th>\n",
       "      <th>mag</th>\n",
       "      <th>type</th>\n",
       "    </tr>\n",
       "  </thead>\n",
       "  <tbody>\n",
       "    <tr>\n",
       "      <th>tem</th>\n",
       "      <td>1.000000</td>\n",
       "      <td>0.393404</td>\n",
       "      <td>0.064216</td>\n",
       "      <td>-0.420261</td>\n",
       "      <td>0.411129</td>\n",
       "    </tr>\n",
       "    <tr>\n",
       "      <th>lum</th>\n",
       "      <td>0.393404</td>\n",
       "      <td>1.000000</td>\n",
       "      <td>0.526516</td>\n",
       "      <td>-0.692619</td>\n",
       "      <td>0.676845</td>\n",
       "    </tr>\n",
       "    <tr>\n",
       "      <th>rad</th>\n",
       "      <td>0.064216</td>\n",
       "      <td>0.526516</td>\n",
       "      <td>1.000000</td>\n",
       "      <td>-0.608728</td>\n",
       "      <td>0.660975</td>\n",
       "    </tr>\n",
       "    <tr>\n",
       "      <th>mag</th>\n",
       "      <td>-0.420261</td>\n",
       "      <td>-0.692619</td>\n",
       "      <td>-0.608728</td>\n",
       "      <td>1.000000</td>\n",
       "      <td>-0.955276</td>\n",
       "    </tr>\n",
       "    <tr>\n",
       "      <th>type</th>\n",
       "      <td>0.411129</td>\n",
       "      <td>0.676845</td>\n",
       "      <td>0.660975</td>\n",
       "      <td>-0.955276</td>\n",
       "      <td>1.000000</td>\n",
       "    </tr>\n",
       "  </tbody>\n",
       "</table>\n",
       "</div>"
      ],
      "text/plain": [
       "           tem       lum       rad       mag      type\n",
       "tem   1.000000  0.393404  0.064216 -0.420261  0.411129\n",
       "lum   0.393404  1.000000  0.526516 -0.692619  0.676845\n",
       "rad   0.064216  0.526516  1.000000 -0.608728  0.660975\n",
       "mag  -0.420261 -0.692619 -0.608728  1.000000 -0.955276\n",
       "type  0.411129  0.676845  0.660975 -0.955276  1.000000"
      ]
     },
     "execution_count": 16,
     "metadata": {},
     "output_type": "execute_result"
    }
   ],
   "source": [
    "df.corr()"
   ]
  },
  {
   "cell_type": "markdown",
   "id": "05770b01",
   "metadata": {},
   "source": [
    "Есть сильная антикорреляция между величиной и класс звезды. Но так как класс - это фактически категориальная переменная и я ожидаю , что нейросеть будет проводить оценку \"внутри\" класса, я принял решение оставить как есть .  \n",
    "В конце концов, мы не может выкинуть класс из модели,он слишком важен.\n",
    "Возможно , следует провести отдельное масштабирование дял каждого класса и посмотреть , улучшит ли оно результат"
   ]
  },
  {
   "cell_type": "markdown",
   "id": "c12b16c3",
   "metadata": {},
   "source": [
    "### Train- test split"
   ]
  },
  {
   "cell_type": "markdown",
   "id": "de4ec44b",
   "metadata": {},
   "source": [
    "Создадим для работы новый датафрейм из преобразованных колонок"
   ]
  },
  {
   "cell_type": "code",
   "execution_count": 17,
   "id": "da5e46c3",
   "metadata": {},
   "outputs": [],
   "source": [
    "X = pd.concat([df[num_features],df_color,df_type], axis=1)\n",
    "y = df[['tem']]"
   ]
  },
  {
   "cell_type": "markdown",
   "id": "4f6f9682",
   "metadata": {},
   "source": [
    "И разобьем на тренировочный и тестовый наборы.  \n",
    "Так как класс звезды играет огромную роль в модели (фактически рабивает её на несколько независимых) , я считаю , что разбиение дожно быть стратифицировано именно по классу."
   ]
  },
  {
   "cell_type": "code",
   "execution_count": 18,
   "id": "41a1ecb3",
   "metadata": {},
   "outputs": [],
   "source": [
    "X_tr,X_te,y_tr,y_te = train_test_split(X,y,test_size = .25, shuffle=True, stratify = df.type)\n",
    "i_tr = y_tr.index\n",
    "i_te = y_te.index"
   ]
  },
  {
   "cell_type": "markdown",
   "id": "7a22835d",
   "metadata": {},
   "source": [
    "#### Масштабирование"
   ]
  },
  {
   "cell_type": "code",
   "execution_count": 19,
   "id": "507ff984",
   "metadata": {
    "scrolled": false
   },
   "outputs": [],
   "source": [
    "X_tr = X_tr.copy()\n",
    "X_te = X_te.copy()"
   ]
  },
  {
   "cell_type": "markdown",
   "id": "1de108c5",
   "metadata": {},
   "source": [
    "<div class=\"alert alert-block alert-info\">\n",
    "<b>Комментарий студента:</b> <br>\n",
    "Здесь пришлось явно скопировать фреймы , чтобы избежать <i>SettingWithCopyWarning<i>\n",
    "</div>"
   ]
  },
  {
   "cell_type": "code",
   "execution_count": 20,
   "id": "870b0fe7",
   "metadata": {},
   "outputs": [],
   "source": [
    "scl = StandardScaler()\n",
    "scl.fit(X_tr[num_features])\n",
    "X_tr[num_features] = scl.transform(X_tr[ num_features] )\n",
    "X_te[num_features] = scl.transform(X_te[ num_features] )"
   ]
  },
  {
   "cell_type": "markdown",
   "id": "funded-electric",
   "metadata": {},
   "source": [
    "## Построение базовой нейронной сети"
   ]
  },
  {
   "cell_type": "code",
   "execution_count": 21,
   "id": "7af9f6ad",
   "metadata": {},
   "outputs": [],
   "source": [
    "X_tr = torch.FloatTensor(X_tr.values)\n",
    "X_te = torch.FloatTensor(X_te.values)\n",
    "y_tr = torch.FloatTensor(y_tr.values)\n",
    "y_te = torch.FloatTensor(y_te.values)"
   ]
  },
  {
   "cell_type": "markdown",
   "id": "f4fe6299",
   "metadata": {},
   "source": [
    "Нам нужно рассчитать числовую величину, пожтому в качестве метрики выбрана r2, а в качестве функции потерь - MSELoss\n",
    "Для скорости обучения и инициализации весов взяты типичные значения  из упражнений  "
   ]
  },
  {
   "cell_type": "markdown",
   "id": "70d55230",
   "metadata": {},
   "source": [
    "<b>Комментарий от ревьюера v1</b>\n",
    "\n",
    "<div class=\"alert alert-block alert-success\">\n",
    "    \n",
    "✔️ Функция потерь выбрана верно. Отлично!\n",
    "</div>\n",
    "\n",
    "<div class=\"alert alert-block alert-danger\">\n",
    "❌ В качестве ключевой метрики по условию необходимо выбрать метрику RMSE.По ней мы будем выбирать лучшее решение.\n",
    "    \n",
    "</div>"
   ]
  },
  {
   "cell_type": "markdown",
   "id": "b65eab38",
   "metadata": {},
   "source": [
    "<div class=\"alert alert-block alert-info\">\n",
    "<b>Комментарий студента:</b> <br>\n",
    "Вообще я не ожидал большого расхождения в оптимальных гиперпараметрах между RMSE и R2 <br> \n",
    "Поэтому подбирал по R2(где качество сразу понятно)   и только в конце посчитал RMSE <br>\n",
    "Но после перехода на RMSE оптимальная точка существенно изменилась\n",
    "</div>"
   ]
  },
  {
   "cell_type": "markdown",
   "id": "0b65e055",
   "metadata": {},
   "source": [
    "<b>Комментарий от ревьюера v2</b>\n",
    "\n",
    "<div class=\"alert alert-block alert-success\">\n",
    "    \n",
    "✔️ Метрики R2 и RMSE схожи, но все-таки могут иметь оптимальные значения для разных моделей. Все верно!\n",
    "</div>"
   ]
  },
  {
   "cell_type": "code",
   "execution_count": 22,
   "id": "4daf05fe",
   "metadata": {},
   "outputs": [],
   "source": [
    "n_in_neurons = len(X.columns)\n",
    "n_hidden_neurons_1 = 10\n",
    "n_hidden_neurons_2 = 5\n",
    "n_out_neurons = 1 \n",
    "\n",
    "net = nn.Sequential(\n",
    "    nn.Linear(n_in_neurons,n_hidden_neurons_1),\n",
    "    nn.ReLU(),\n",
    "    nn.Linear(n_hidden_neurons_1, n_hidden_neurons_2),\n",
    "    nn.ReLU(),\n",
    "    nn.Linear(n_hidden_neurons_2, n_out_neurons)#, \n",
    ")\n",
    "\n",
    "def init_weights(layer):\n",
    "    if type(layer) == nn.Linear: \n",
    "        nn.init.kaiming_uniform_(layer.weight, mode='fan_in', nonlinearity='relu') \n",
    "net.apply(init_weights)        \n",
    "\n",
    "optimizer = torch.optim.Adam(net.parameters(), lr=1e-3)\n",
    "\n",
    "loss = nn.MSELoss()"
   ]
  },
  {
   "cell_type": "code",
   "execution_count": 23,
   "id": "675759d9",
   "metadata": {},
   "outputs": [
    {
     "name": "stdout",
     "output_type": "stream",
     "text": [
      "-1.3110980943190746\n",
      "-1.311055642078074\n",
      "-1.3110095937934756\n",
      "-1.3109657247380624\n",
      "-1.3109223482507684\n",
      "-1.310873965596667\n",
      "-1.3108213635656263\n",
      "-1.3107643347303575\n",
      "-1.3107047962160703\n",
      "-1.3106441482047595\n"
     ]
    }
   ],
   "source": [
    "num_epochs = 100\n",
    "\n",
    "for epoch in range(num_epochs):\n",
    "    optimizer.zero_grad()\n",
    "    \n",
    "    preds = net.forward(X_tr) \n",
    "       \n",
    "    loss_value = loss(preds, y_tr)\n",
    "    loss_value.backward()\n",
    "            \n",
    "    optimizer.step()\n",
    "    \n",
    "    if epoch % 10 == 0:\n",
    "        net.eval()\n",
    "        with torch.no_grad():\n",
    "            test_preds = net.forward(X_te)\n",
    "            r2 = r2_score(y_te.numpy(),test_preds.detach().numpy() )\n",
    "            print(r2)"
   ]
  },
  {
   "cell_type": "markdown",
   "id": "6b405f3b",
   "metadata": {},
   "source": [
    "<b>Комментарий от ревьюера v1</b>\n",
    "\n",
    "<div class=\"alert alert-block alert-success\">\n",
    "    \n",
    "✔️ Базовая модель реализована, так держать.\n",
    "</div>\n",
    "\n",
    "<div class=\"alert alert-warning\">\n",
    "        \n",
    "⚠️ В момент валидации (`model.eval`) данных стоит отключать вычиления градиентов (`torch.no_grad()`).\n",
    "</div>"
   ]
  },
  {
   "cell_type": "markdown",
   "id": "7115d7b0",
   "metadata": {},
   "source": [
    "<div class=\"alert alert-block alert-info\">\n",
    "<b>Комментарий студента:</b> <br>\n",
    "Добавил, время сократилось на 30% \n",
    "</div>"
   ]
  },
  {
   "cell_type": "markdown",
   "id": "10fc940e",
   "metadata": {},
   "source": [
    ":( Сеть вообще не обучилась , попробуем увеличить скорость и продлить обучение "
   ]
  },
  {
   "cell_type": "code",
   "execution_count": 24,
   "id": "8454f155",
   "metadata": {},
   "outputs": [],
   "source": [
    "n_in_neurons = len(X.columns)\n",
    "n_hidden_neurons_1 = 10\n",
    "n_hidden_neurons_2 = 5\n",
    "n_out_neurons = 1 \n",
    "\n",
    "net1 = nn.Sequential(\n",
    "    nn.Linear(n_in_neurons,n_hidden_neurons_1),\n",
    "    nn.ReLU(),\n",
    "    nn.Linear(n_hidden_neurons_1, n_hidden_neurons_2),\n",
    "    nn.ReLU(),\n",
    "    nn.Linear(n_hidden_neurons_2, n_out_neurons)#, \n",
    ")\n",
    "\n",
    "def init_weights(layer):\n",
    "    if type(layer) == nn.Linear: \n",
    "        nn.init.kaiming_uniform_(layer.weight, mode='fan_in', nonlinearity='relu') \n",
    "net1.apply(init_weights)        \n",
    "\n",
    "optimizer = torch.optim.Adam(net.parameters(), lr=1e-2)    # increase learnig rate  10 times\n",
    "\n",
    "loss = nn.MSELoss()"
   ]
  },
  {
   "cell_type": "code",
   "execution_count": 25,
   "id": "forced-concentrate",
   "metadata": {},
   "outputs": [
    {
     "name": "stdout",
     "output_type": "stream",
     "text": [
      "-1.310537017554195\n",
      "-1.236895067659494\n",
      "-0.7139109019464103\n",
      "0.0880966660489948\n",
      "0.4991187858371051\n",
      "0.6098274553711115\n",
      "0.6460001422542316\n",
      "0.6697206306982317\n",
      "0.6884933338869353\n",
      "0.7040197414052363\n"
     ]
    }
   ],
   "source": [
    "num_epochs = 1000             # increase num_epochs 10 times\n",
    "for epoch in range(num_epochs):\n",
    "    optimizer.zero_grad()\n",
    "    \n",
    "    preds = net.forward(X_tr) \n",
    "       \n",
    "    loss_value = loss(preds, y_tr)\n",
    "    loss_value.backward()\n",
    "            \n",
    "    optimizer.step()\n",
    "    \n",
    "    if epoch % 100 == 0:\n",
    "        net1.eval()\n",
    "        test_preds = net.forward(X_te)\n",
    "        r2 = r2_score(y_te.numpy(),test_preds.detach().numpy() )\n",
    "        print(r2)"
   ]
  },
  {
   "cell_type": "code",
   "execution_count": 26,
   "id": "326c10cc",
   "metadata": {},
   "outputs": [
    {
     "name": "stdout",
     "output_type": "stream",
     "text": [
      "Финальная метрика 0.7040197414052363\n"
     ]
    }
   ],
   "source": [
    "print( 'Финальная метрика',r2)"
   ]
  },
  {
   "cell_type": "markdown",
   "id": "e48ec62d",
   "metadata": {},
   "source": [
    "Результат уже более-менее вменяемый, но "
   ]
  },
  {
   "cell_type": "markdown",
   "id": "15664c2c",
   "metadata": {},
   "source": [
    "### Сравним с линейной регрессией"
   ]
  },
  {
   "cell_type": "code",
   "execution_count": 27,
   "id": "345ffe36",
   "metadata": {},
   "outputs": [
    {
     "data": {
      "text/plain": [
       "0.7645573981642865"
      ]
     },
     "execution_count": 27,
     "metadata": {},
     "output_type": "execute_result"
    }
   ],
   "source": [
    "from sklearn.linear_model import LinearRegression\n",
    "model = LinearRegression()\n",
    "model.fit(X_tr,y_tr)\n",
    "y_pr = model.predict(X_te)\n",
    "r2_score(y_te,y_pr)"
   ]
  },
  {
   "cell_type": "markdown",
   "id": "dc0d9c68",
   "metadata": {},
   "source": [
    "Простая регрессия считает лучше, чем нейронная сеть :("
   ]
  },
  {
   "cell_type": "markdown",
   "id": "170f2be5",
   "metadata": {},
   "source": [
    "### Иллюстрация"
   ]
  },
  {
   "cell_type": "markdown",
   "id": "4a2655b8",
   "metadata": {},
   "source": [
    "Диаграмма, рекомендованная в задании (не совсем понял , какой должна быть, в таком формате она показывает только предсказания для тренировочного набора )"
   ]
  },
  {
   "cell_type": "code",
   "execution_count": 28,
   "id": "94f7bfb2",
   "metadata": {
    "scrolled": true
   },
   "outputs": [
    {
     "data": {
      "image/png": "[encoded data removed]",
      "text/plain": [
       "<Figure size 1440x432 with 1 Axes>"
      ]
     },
     "metadata": {
      "needs_background": "light"
     },
     "output_type": "display_data"
    }
   ],
   "source": [
    "def plot_match_bar( d_te, title):\n",
    "    fig, ax = plt.subplots(figsize=(20,6))\n",
    "    ax.set_title('Базовое предсказание темпреатуры звезды')\n",
    "    ax.set_xlabel('Номер звезды в таблице данных')\n",
    "    ax.set_ylabel('Температура K')\n",
    "    colors = { 'target':'blue','pred':'red'} \n",
    "    ax.bar(d_te.index,d_te.target,color='b',alpha =.8,width = .6);\n",
    "    ax.bar(d_te.index,d_te.pred,color='r',alpha =.5,width=1);\n",
    "    ax.legend(handles= [Patch(color='b', label='факт'),Patch(color='r', label='прогноз')] );\n",
    "\n",
    "plot_match_bar( pd.DataFrame({'target': y_te.numpy().flatten(),'pred':test_preds.detach().numpy().flatten()},index= i_te)\n",
    "               ,'Базовое предсказание температуры звезды')\n"
   ]
  },
  {
   "cell_type": "markdown",
   "id": "556cbead",
   "metadata": {},
   "source": [
    "Судя по картинке, нейросеть занижает температуру для горячих звезд  и завышает - для холодных "
   ]
  },
  {
   "cell_type": "markdown",
   "id": "growing-supply",
   "metadata": {},
   "source": [
    "## Улучшение нейронной сети"
   ]
  },
  {
   "cell_type": "code",
   "execution_count": 29,
   "id": "c77e21c0",
   "metadata": {},
   "outputs": [],
   "source": [
    "      \n",
    "class Net(nn.Sequential):\n",
    "    def __init__(self):\n",
    "        super(Net, self).__init__() \n",
    "\n"
   ]
  },
  {
   "cell_type": "markdown",
   "id": "3b3a2edf",
   "metadata": {},
   "source": [
    " Я решил , что для новой задачи проще написать свою тестовою решетку.  \n",
    " Во -первых создаем класс для прогона и записи результата одного обучения  "
   ]
  },
  {
   "cell_type": "code",
   "execution_count": 30,
   "id": "2c047886",
   "metadata": {},
   "outputs": [],
   "source": [
    "class Teacher:\n",
    "    base_params = {\n",
    "        'levels': [13,6,4,1],\n",
    "        'weights':[0.5,0.1],\n",
    "        'bias':[0.2,0.3],\n",
    "        'acts':[nn.ReLU()] ,\n",
    "        'fans':['fan_in'],\n",
    "        'init_methods':[nn.init.kaiming_uniform_],\n",
    "        'learn_rate':.1,\n",
    "        'loss':nn.MSELoss(),\n",
    "        'metric': rmse,\n",
    "        'label':''\n",
    "    }\n",
    "\n",
    "    def __init__(self,params,random_state = 49999):\n",
    "        print(f\"---> Testing with params {params}\")\n",
    "        self.random_state = random_state\n",
    "        params = self.base_params | params\n",
    "        depth = len(params['levels'])\n",
    "        arrange_array = lambda ar: (ar*int(depth/len(ar)))[:depth]\n",
    "        self.levels = params['levels']\n",
    "        self.activators = arrange_array(params['acts']) \n",
    "        self.fans = arrange_array(params['fans'])\n",
    "        self.init_methods = arrange_array(params['init_methods'])    \n",
    "        self.create_net()\n",
    "        self.learn_rate = params['learn_rate']\n",
    "        self.optimizer = torch.optim.Adam(self.net.parameters(), lr=self.learn_rate)\n",
    "        self.loss = params['loss']\n",
    "        self.epochs = params['epochs']\n",
    "        self.eval_rate = params['eval_rate']\n",
    "        self.eval_step =int(self.epochs*self.eval_rate)\n",
    "        self.metric = params['metric']\n",
    "        self.results = {}\n",
    "        self.label = params['label']\n",
    "        self.best = 10_000\n",
    "        self.best_epoch=0\n",
    "        self.final_metric =0 \n",
    "        self.final_preds = []\n",
    " \n",
    "        \n",
    "    def create_net(self):\n",
    "        torch.manual_seed(self.random_state)\n",
    "        self.net = Net()\n",
    "        for lev in range(len(self.levels)-1):\n",
    "            ll = nn.Linear(self.levels[lev],self.levels[lev+1])\n",
    "            self.init_methods[lev](ll.weight,mode=self.fans[lev] ,nonlinearity='relu')\n",
    "            self.net.add_module('Linear_'+str(lev),ll)\n",
    "            if lev < len(self.levels)-2:\n",
    "                self.net.add_module('Activator_'+str(lev),self.activators[lev] )\n",
    "        \n",
    "     \n",
    "    def run(self):   \n",
    "        for epoch in range(self.epochs):\n",
    "            self.optimizer.zero_grad()\n",
    "\n",
    "            preds = self.net.forward(X_tr) \n",
    "            loss_value = self.loss(preds, y_tr)\n",
    "            loss_value.backward()\n",
    "            self.optimizer.step()\n",
    "            \n",
    "            if (epoch % self.eval_step == 0) or (epoch==self.epochs-1) :\n",
    "                self.net.eval()\n",
    "                with torch.no_grad():\n",
    "                    test_preds = self.net.forward(X_te)\n",
    "                    res = self.metric(y_te.numpy(),test_preds.detach().numpy() )\n",
    "                    print(f\"epoch {epoch},\\tmetric {res:.4f}\")\n",
    "                    self.results[epoch] = res\n",
    "                    if res < self.best:\n",
    "                        self.best = res\n",
    "                        self.best_epoch = epoch\n",
    "            self.final_preds = test_preds\n",
    "            self.final_metric = res\n",
    "        print(f\"best {self.best:.4f} \\t (best epoch: {self.best_epoch} ) ---> \")"
   ]
  },
  {
   "cell_type": "markdown",
   "id": "767e9d3e",
   "metadata": {},
   "source": [
    "<b>Комментарий от ревьюера v1</b>\n",
    "\n",
    "<div class=\"alert alert-block alert-success\">\n",
    "    \n",
    "✔️ Training loop реализован верно. Молодец.\n",
    "</div>\n",
    "\n",
    "<div class=\"alert alert-warning\">\n",
    "        \n",
    "⚠️ Класс сложночитаемый, в него передается очень много параметров. Возможно стоит вынести часть кода в отделные классы.\n",
    "</div>"
   ]
  },
  {
   "cell_type": "markdown",
   "id": "21053ebc",
   "metadata": {},
   "source": [
    "<div class=\"alert alert-block alert-info\">\n",
    "<b>Комментарий студента:</b> <br>\n",
    "Согласен, но сходу исправить не получилось  <br> \n",
    "Так как с понедельника новый спринт, пока отправляю как есть  <br>\n",
    "</div>"
   ]
  },
  {
   "cell_type": "markdown",
   "id": "31c71ffd",
   "metadata": {},
   "source": [
    "<b>Комментарий от ревьюера v1</b>\n",
    "\n",
    "<div class=\"alert alert-block alert-success\">\n",
    "    \n",
    "✔️ Хорошо, принимаю так. Но на будущее код лучше разделять на несколько классов.\n",
    "</div>"
   ]
  },
  {
   "cell_type": "markdown",
   "id": "5d2c2fe9",
   "metadata": {},
   "source": [
    " И серию тестов с общим количеством эпох и оценочных этапов (eval_rate - доля оценочных этапов)"
   ]
  },
  {
   "cell_type": "code",
   "execution_count": 31,
   "id": "d9ce2866",
   "metadata": {},
   "outputs": [],
   "source": [
    "class TestSuit:\n",
    "    def __init__(self,params_array,epochs={'epochs':100,'eval_rate':.1},random_state=49999):\n",
    "        self.suit = params_array  \n",
    "        self.epochs= epochs                # the same step for all tests  \n",
    "        self.results = {}\n",
    "        self.random_state = random_state\n",
    "        \n",
    "\n",
    "    def run(self):\n",
    "        for params in self.suit:\n",
    "            params=self.epochs|params                               \n",
    "            t = Teacher(params,self.random_state)\n",
    "            t.run()\n",
    "            self.results[t.label] = t.results \n",
    "\n",
    "    def plot(self,ylim=(3500,7000),figsize=(20,8),styles=[*'rygbkm']):\n",
    "        fig ,ax = plt.subplots( figsize=figsize )\n",
    "        ax.set_ylim(ylim)\n",
    "        styles.reverse()\n",
    "        ax.set_xlabel('epochs passed')\n",
    "        ax.set_ylabel('RMSE score')\n",
    "        ticks = [ *range( int(1/self.epochs['eval_rate']) )]\n",
    "        ticks_labels = [ *range(0,self.epochs['epochs'],int(self.epochs['eval_rate']*self.epochs['epochs']) )]\n",
    "        ax.set_xticks(ticks)    \n",
    "        ax.set_xticklabels(ticks_labels )    \n",
    "\n",
    "        for (l,r)  in self.results.items():\n",
    "            ax.plot( r.values() , styles.pop() ,label=l) \n",
    "        ax.legend() ; \n",
    "\n"
   ]
  },
  {
   "cell_type": "markdown",
   "id": "4b97af86",
   "metadata": {},
   "source": [
    "###  Предварительный тест для оценки конфигурации"
   ]
  },
  {
   "cell_type": "markdown",
   "id": "976f8f05",
   "metadata": {},
   "source": [
    "На этой стадии поведем грубую оценку - определим количество слоев и эпох. на которых достигаются лучшие результаты   \n",
    "Я не знаю, как лучше выбирать размеры слоев, поэтому обычно просто равномерно  снижаю их с 13 до 1   \n",
    "Но для 4 слойной сети проверяется также 2х-кратное снижение на каждом слое (neg exponent)  "
   ]
  },
  {
   "cell_type": "code",
   "execution_count": 32,
   "id": "99a35728",
   "metadata": {},
   "outputs": [],
   "source": [
    "tests = [\n",
    "    { 'levels': [13,5,1], 'label' : '3 layers uniform'},\n",
    "    { 'levels': [13,8,4,1], 'label' : '4 layers uniform'},\n",
    "    { 'levels': [13,6,3,1], 'label' : '4 layers negative exp sizes'} , \n",
    "    { 'levels': [13,10,7,4,1], 'label' : '5 layers uniform'},\n",
    "    { 'levels': [13,11,9,7,5,3,1], 'label' : '7 layers uniform'},\n",
    "    { 'levels': [*range(13,0,-1)], 'label' : '13 layers uniform' }  # 1..13\n",
    "] "
   ]
  },
  {
   "cell_type": "markdown",
   "id": "a05328a1",
   "metadata": {},
   "source": [
    "На предварительном тестировании у меня появилось подозрезние, что random seed может сильно влиять на результат дя некоторых конфигураций, пожтому сначала проводим тестирование с одинаковыми параметрами и различными random_stateЮ чтобы проверить стабильность системы\n",
    "Все тесты идут для 400 эпох с оценкой через 10 "
   ]
  },
  {
   "cell_type": "code",
   "execution_count": 33,
   "id": "62e362b3",
   "metadata": {},
   "outputs": [
    {
     "name": "stdout",
     "output_type": "stream",
     "text": [
      "---> Testing with params {'epochs': 400, 'eval_rate': 0.04, 'levels': [13, 5, 1], 'label': '3 layers uniform'}\n",
      "epoch 0,\tmetric 14192.8486\n",
      "epoch 16,\tmetric 14148.7607\n",
      "epoch 32,\tmetric 14019.9814\n",
      "epoch 48,\tmetric 13775.3379\n",
      "epoch 64,\tmetric 13401.7676\n",
      "epoch 80,\tmetric 12907.3408\n",
      "epoch 96,\tmetric 12314.4014\n",
      "epoch 112,\tmetric 11651.9268\n",
      "epoch 128,\tmetric 10942.4570\n",
      "epoch 144,\tmetric 10204.6504\n",
      "epoch 160,\tmetric 9466.7480\n",
      "epoch 176,\tmetric 8760.8232\n",
      "epoch 192,\tmetric 8114.7554\n",
      "epoch 208,\tmetric 7548.0503\n",
      "epoch 224,\tmetric 7070.4414\n",
      "epoch 240,\tmetric 6682.6567\n",
      "epoch 256,\tmetric 6377.9927\n",
      "epoch 272,\tmetric 6144.3364\n",
      "epoch 288,\tmetric 5966.8721\n",
      "epoch 304,\tmetric 5831.0581\n",
      "epoch 320,\tmetric 5724.7588\n",
      "epoch 336,\tmetric 5638.9707\n",
      "epoch 352,\tmetric 5567.4639\n",
      "epoch 368,\tmetric 5506.0366\n",
      "epoch 384,\tmetric 5453.4468\n",
      "epoch 399,\tmetric 5411.7231\n",
      "best 5411.7231 \t (best epoch: 399 ) ---> \n",
      "---> Testing with params {'epochs': 400, 'eval_rate': 0.04, 'levels': [13, 8, 4, 1], 'label': '4 layers uniform'}\n",
      "epoch 0,\tmetric 14193.5693\n",
      "epoch 16,\tmetric 14033.9990\n",
      "epoch 32,\tmetric 12434.3760\n",
      "epoch 48,\tmetric 8245.7627\n",
      "epoch 64,\tmetric 6290.6357\n",
      "epoch 80,\tmetric 5591.9346\n",
      "epoch 96,\tmetric 5305.9907\n",
      "epoch 112,\tmetric 5108.2202\n",
      "epoch 128,\tmetric 4921.6333\n",
      "epoch 144,\tmetric 4794.1074\n",
      "epoch 160,\tmetric 4680.0303\n",
      "epoch 176,\tmetric 4626.2397\n",
      "epoch 192,\tmetric 4616.3359\n",
      "epoch 208,\tmetric 4575.2485\n",
      "epoch 224,\tmetric 4548.9033\n",
      "epoch 240,\tmetric 4522.1162\n",
      "epoch 256,\tmetric 4499.1401\n",
      "epoch 272,\tmetric 4502.7212\n",
      "epoch 288,\tmetric 4502.2935\n",
      "epoch 304,\tmetric 4512.1108\n",
      "epoch 320,\tmetric 4503.6733\n",
      "epoch 336,\tmetric 4519.9624\n",
      "epoch 352,\tmetric 4524.8350\n",
      "epoch 368,\tmetric 4533.4009\n",
      "epoch 384,\tmetric 4542.4292\n",
      "epoch 399,\tmetric 4551.6016\n",
      "best 4499.1401 \t (best epoch: 256 ) ---> \n",
      "---> Testing with params {'epochs': 400, 'eval_rate': 0.04, 'levels': [13, 6, 3, 1], 'label': '4 layers negative exp sizes'}\n",
      "epoch 0,\tmetric 14193.6338\n",
      "epoch 16,\tmetric 14133.8750\n",
      "epoch 32,\tmetric 13629.4297\n",
      "epoch 48,\tmetric 11923.7891\n",
      "epoch 64,\tmetric 9032.7354\n",
      "epoch 80,\tmetric 6974.3027\n",
      "epoch 96,\tmetric 5873.2681\n",
      "epoch 112,\tmetric 5554.9570\n",
      "epoch 128,\tmetric 5430.6011\n",
      "epoch 144,\tmetric 5320.8320\n",
      "epoch 160,\tmetric 5200.5200\n",
      "epoch 176,\tmetric 5083.7944\n",
      "epoch 192,\tmetric 4983.6270\n",
      "epoch 208,\tmetric 4906.9888\n",
      "epoch 224,\tmetric 4848.8818\n",
      "epoch 240,\tmetric 4814.5747\n",
      "epoch 256,\tmetric 4802.3955\n",
      "epoch 272,\tmetric 4802.8638\n",
      "epoch 288,\tmetric 4802.7729\n",
      "epoch 304,\tmetric 4777.7319\n",
      "epoch 320,\tmetric 4724.2583\n",
      "epoch 336,\tmetric 4681.1504\n",
      "epoch 352,\tmetric 4645.4844\n",
      "epoch 368,\tmetric 4632.1680\n",
      "epoch 384,\tmetric 4607.0981\n",
      "epoch 399,\tmetric 4594.3286\n",
      "best 4594.3286 \t (best epoch: 399 ) ---> \n",
      "---> Testing with params {'epochs': 400, 'eval_rate': 0.04, 'levels': [13, 10, 7, 4, 1], 'label': '5 layers uniform'}\n",
      "epoch 0,\tmetric 14192.2598\n",
      "epoch 16,\tmetric 13216.9385\n",
      "epoch 32,\tmetric 8253.0918\n",
      "epoch 48,\tmetric 5692.4868\n",
      "epoch 64,\tmetric 5189.6470\n",
      "epoch 80,\tmetric 4911.3330\n",
      "epoch 96,\tmetric 4718.7451\n",
      "epoch 112,\tmetric 4688.9712\n",
      "epoch 128,\tmetric 4640.0771\n",
      "epoch 144,\tmetric 4563.0137\n",
      "epoch 160,\tmetric 4580.4321\n",
      "epoch 176,\tmetric 4560.9834\n",
      "epoch 192,\tmetric 4568.5288\n",
      "epoch 208,\tmetric 4572.4912\n",
      "epoch 224,\tmetric 4601.3203\n",
      "epoch 240,\tmetric 4628.4453\n",
      "epoch 256,\tmetric 4593.0952\n",
      "epoch 272,\tmetric 4715.6978\n",
      "epoch 288,\tmetric 4716.4194\n",
      "epoch 304,\tmetric 4758.0435\n",
      "epoch 320,\tmetric 4786.5811\n",
      "epoch 336,\tmetric 4806.1074\n",
      "epoch 352,\tmetric 4817.6382\n",
      "epoch 368,\tmetric 4820.8286\n",
      "epoch 384,\tmetric 4836.6348\n",
      "epoch 399,\tmetric 4835.4697\n",
      "best 4560.9834 \t (best epoch: 176 ) ---> \n",
      "---> Testing with params {'epochs': 400, 'eval_rate': 0.04, 'levels': [13, 11, 9, 7, 5, 3, 1], 'label': '7 layers uniform'}\n",
      "epoch 0,\tmetric 14193.9854\n",
      "epoch 16,\tmetric 14192.7822\n",
      "epoch 32,\tmetric 14191.5771\n",
      "epoch 48,\tmetric 14190.3711\n",
      "epoch 64,\tmetric 14189.1670\n",
      "epoch 80,\tmetric 14187.9639\n",
      "epoch 96,\tmetric 14186.7588\n",
      "epoch 112,\tmetric 14185.5537\n",
      "epoch 128,\tmetric 14184.3506\n",
      "epoch 144,\tmetric 14183.1475\n",
      "epoch 160,\tmetric 14181.9424\n",
      "epoch 176,\tmetric 14180.7402\n",
      "epoch 192,\tmetric 14179.5371\n",
      "epoch 208,\tmetric 14178.3330\n",
      "epoch 224,\tmetric 14177.1299\n",
      "epoch 240,\tmetric 14175.9287\n",
      "epoch 256,\tmetric 14174.7266\n",
      "epoch 272,\tmetric 14173.5225\n",
      "epoch 288,\tmetric 14172.3203\n",
      "epoch 304,\tmetric 14171.1182\n",
      "epoch 320,\tmetric 14169.9160\n",
      "epoch 336,\tmetric 14168.7139\n",
      "epoch 352,\tmetric 14167.5117\n",
      "epoch 368,\tmetric 14166.3115\n",
      "epoch 384,\tmetric 14165.1104\n",
      "epoch 399,\tmetric 14163.9834\n",
      "best 10000.0000 \t (best epoch: 0 ) ---> \n",
      "---> Testing with params {'epochs': 400, 'eval_rate': 0.04, 'levels': [13, 12, 11, 10, 9, 8, 7, 6, 5, 4, 3, 2, 1], 'label': '13 layers uniform'}\n",
      "epoch 0,\tmetric 14191.4053\n",
      "epoch 16,\tmetric 6347.2046\n",
      "epoch 32,\tmetric 4981.6670\n",
      "epoch 48,\tmetric 4660.8413\n",
      "epoch 64,\tmetric 4504.8438\n",
      "epoch 80,\tmetric 4495.6348\n",
      "epoch 96,\tmetric 4628.2222\n",
      "epoch 112,\tmetric 4611.5688\n",
      "epoch 128,\tmetric 4627.8789\n",
      "epoch 144,\tmetric 4673.0728\n",
      "epoch 160,\tmetric 4680.9668\n",
      "epoch 176,\tmetric 4780.3696\n",
      "epoch 192,\tmetric 4861.4727\n",
      "epoch 208,\tmetric 4831.9824\n",
      "epoch 224,\tmetric 4808.8677\n",
      "epoch 240,\tmetric 4918.5029\n",
      "epoch 256,\tmetric 5238.7793\n",
      "epoch 272,\tmetric 5170.4634\n",
      "epoch 288,\tmetric 5048.9624\n",
      "epoch 304,\tmetric 4768.6323\n",
      "epoch 320,\tmetric 4917.5874\n",
      "epoch 336,\tmetric 4883.0273\n",
      "epoch 352,\tmetric 4890.3188\n",
      "epoch 368,\tmetric 5117.0483\n",
      "epoch 384,\tmetric 4957.4565\n",
      "epoch 399,\tmetric 4908.4346\n",
      "best 4495.6348 \t (best epoch: 80 ) ---> \n"
     ]
    },
    {
     "data": {
      "image/png": "[encoded data removed]",
      "text/plain": [
       "<Figure size 1440x720 with 1 Axes>"
      ]
     },
     "metadata": {
      "needs_background": "light"
     },
     "output_type": "display_data"
    }
   ],
   "source": [
    "ts = TestSuit(tests,epochs={'epochs':400,'eval_rate':.04},random_state = 123456789)\n",
    "ts.run() \n",
    "ts.plot(ylim=(3500,7000),figsize=(20,10), styles=['r', 'y', 'y:', 'g', 'b', 'k'] )"
   ]
  },
  {
   "cell_type": "code",
   "execution_count": 34,
   "id": "1279cbc6",
   "metadata": {},
   "outputs": [
    {
     "name": "stdout",
     "output_type": "stream",
     "text": [
      "---> Testing with params {'epochs': 400, 'eval_rate': 0.04, 'levels': [13, 5, 1], 'label': '3 layers uniform'}\n",
      "epoch 0,\tmetric 14193.3516\n",
      "epoch 16,\tmetric 14157.0146\n",
      "epoch 32,\tmetric 14056.2891\n",
      "epoch 48,\tmetric 13869.9570\n",
      "epoch 64,\tmetric 13576.6562\n",
      "epoch 80,\tmetric 13147.1074\n",
      "epoch 96,\tmetric 12581.8477\n",
      "epoch 112,\tmetric 11906.8242\n",
      "epoch 128,\tmetric 11158.9971\n",
      "epoch 144,\tmetric 10374.0391\n",
      "epoch 160,\tmetric 9584.0693\n",
      "epoch 176,\tmetric 8824.0547\n",
      "epoch 192,\tmetric 8132.1396\n",
      "epoch 208,\tmetric 7529.5947\n",
      "epoch 224,\tmetric 7032.5039\n",
      "epoch 240,\tmetric 6644.1860\n",
      "epoch 256,\tmetric 6349.4087\n",
      "epoch 272,\tmetric 6131.7725\n",
      "epoch 288,\tmetric 5969.3916\n",
      "epoch 304,\tmetric 5837.8662\n",
      "epoch 320,\tmetric 5732.0176\n",
      "epoch 336,\tmetric 5647.7271\n",
      "epoch 352,\tmetric 5578.2632\n",
      "epoch 368,\tmetric 5517.9458\n",
      "epoch 384,\tmetric 5464.0483\n",
      "epoch 399,\tmetric 5418.2041\n",
      "best 5418.2041 \t (best epoch: 399 ) ---> \n",
      "---> Testing with params {'epochs': 400, 'eval_rate': 0.04, 'levels': [13, 8, 4, 1], 'label': '4 layers uniform'}\n",
      "epoch 0,\tmetric 14192.9434\n",
      "epoch 16,\tmetric 13926.6670\n",
      "epoch 32,\tmetric 11867.3809\n",
      "epoch 48,\tmetric 7798.7153\n",
      "epoch 64,\tmetric 5948.8794\n",
      "epoch 80,\tmetric 5368.4678\n",
      "epoch 96,\tmetric 5162.6543\n",
      "epoch 112,\tmetric 4923.3203\n",
      "epoch 128,\tmetric 4739.7744\n",
      "epoch 144,\tmetric 4656.2515\n",
      "epoch 160,\tmetric 4617.7974\n",
      "epoch 176,\tmetric 4564.8857\n",
      "epoch 192,\tmetric 4545.0688\n",
      "epoch 208,\tmetric 4533.4702\n",
      "epoch 224,\tmetric 4541.9434\n",
      "epoch 240,\tmetric 4554.8047\n",
      "epoch 256,\tmetric 4568.7412\n",
      "epoch 272,\tmetric 4572.7402\n",
      "epoch 288,\tmetric 4591.2656\n",
      "epoch 304,\tmetric 4593.5396\n",
      "epoch 320,\tmetric 4603.4570\n",
      "epoch 336,\tmetric 4612.1548\n",
      "epoch 352,\tmetric 4619.4307\n",
      "epoch 368,\tmetric 4627.3569\n",
      "epoch 384,\tmetric 4635.1572\n",
      "epoch 399,\tmetric 4639.6523\n",
      "best 4533.4702 \t (best epoch: 208 ) ---> \n",
      "---> Testing with params {'epochs': 400, 'eval_rate': 0.04, 'levels': [13, 6, 3, 1], 'label': '4 layers negative exp sizes'}\n",
      "epoch 0,\tmetric 14193.5811\n",
      "epoch 16,\tmetric 14192.3535\n",
      "epoch 32,\tmetric 14191.1484\n",
      "epoch 48,\tmetric 14189.9434\n",
      "epoch 64,\tmetric 14188.7383\n",
      "epoch 80,\tmetric 14187.5342\n",
      "epoch 96,\tmetric 14186.3301\n",
      "epoch 112,\tmetric 14185.1260\n",
      "epoch 128,\tmetric 14183.9229\n",
      "epoch 144,\tmetric 14182.7188\n",
      "epoch 160,\tmetric 14181.5156\n",
      "epoch 176,\tmetric 14180.3115\n",
      "epoch 192,\tmetric 14179.1074\n",
      "epoch 208,\tmetric 14177.9053\n",
      "epoch 224,\tmetric 14176.7021\n",
      "epoch 240,\tmetric 14175.5000\n",
      "epoch 256,\tmetric 14174.2969\n",
      "epoch 272,\tmetric 14173.0947\n",
      "epoch 288,\tmetric 14171.8926\n",
      "epoch 304,\tmetric 14170.6904\n",
      "epoch 320,\tmetric 14169.4883\n",
      "epoch 336,\tmetric 14168.2861\n",
      "epoch 352,\tmetric 14167.0850\n",
      "epoch 368,\tmetric 14165.8838\n",
      "epoch 384,\tmetric 14164.6826\n",
      "epoch 399,\tmetric 14163.5557\n",
      "best 10000.0000 \t (best epoch: 0 ) ---> \n",
      "---> Testing with params {'epochs': 400, 'eval_rate': 0.04, 'levels': [13, 10, 7, 4, 1], 'label': '5 layers uniform'}\n",
      "epoch 0,\tmetric 14193.7988\n",
      "epoch 16,\tmetric 14150.7686\n",
      "epoch 32,\tmetric 12557.6074\n",
      "epoch 48,\tmetric 8305.4395\n",
      "epoch 64,\tmetric 6135.7520\n",
      "epoch 80,\tmetric 5411.4526\n",
      "epoch 96,\tmetric 5179.7202\n",
      "epoch 112,\tmetric 4975.4204\n",
      "epoch 128,\tmetric 4861.1050\n",
      "epoch 144,\tmetric 4800.1377\n",
      "epoch 160,\tmetric 4734.9448\n",
      "epoch 176,\tmetric 4695.0098\n",
      "epoch 192,\tmetric 4641.2646\n",
      "epoch 208,\tmetric 4594.3940\n",
      "epoch 224,\tmetric 4546.3877\n",
      "epoch 240,\tmetric 4511.3862\n",
      "epoch 256,\tmetric 4493.3022\n",
      "epoch 272,\tmetric 4470.8438\n",
      "epoch 288,\tmetric 4473.7686\n",
      "epoch 304,\tmetric 4475.7441\n",
      "epoch 320,\tmetric 4482.7969\n",
      "epoch 336,\tmetric 4491.0835\n",
      "epoch 352,\tmetric 4499.5000\n",
      "epoch 368,\tmetric 4508.1851\n",
      "epoch 384,\tmetric 4516.0469\n",
      "epoch 399,\tmetric 4527.3965\n",
      "best 4470.8438 \t (best epoch: 272 ) ---> \n",
      "---> Testing with params {'epochs': 400, 'eval_rate': 0.04, 'levels': [13, 11, 9, 7, 5, 3, 1], 'label': '7 layers uniform'}\n",
      "epoch 0,\tmetric 14193.8574\n",
      "epoch 16,\tmetric 12045.7627\n",
      "epoch 32,\tmetric 5959.0327\n",
      "epoch 48,\tmetric 5139.4185\n",
      "epoch 64,\tmetric 4897.5610\n",
      "epoch 80,\tmetric 4712.7456\n",
      "epoch 96,\tmetric 4651.6997\n",
      "epoch 112,\tmetric 4611.1572\n",
      "epoch 128,\tmetric 4585.7915\n",
      "epoch 144,\tmetric 4600.3809\n",
      "epoch 160,\tmetric 4611.1250\n",
      "epoch 176,\tmetric 4618.2783\n",
      "epoch 192,\tmetric 4633.3276\n",
      "epoch 208,\tmetric 4666.0537\n",
      "epoch 224,\tmetric 4684.9434\n",
      "epoch 240,\tmetric 4745.6870\n",
      "epoch 256,\tmetric 4746.4858\n",
      "epoch 272,\tmetric 4740.0093\n",
      "epoch 288,\tmetric 4704.5820\n",
      "epoch 304,\tmetric 4711.9673\n",
      "epoch 320,\tmetric 4712.9800\n",
      "epoch 336,\tmetric 4674.3267\n",
      "epoch 352,\tmetric 4645.5308\n",
      "epoch 368,\tmetric 4624.1494\n",
      "epoch 384,\tmetric 4598.8682\n",
      "epoch 399,\tmetric 4588.9224\n",
      "best 4585.7915 \t (best epoch: 128 ) ---> \n",
      "---> Testing with params {'epochs': 400, 'eval_rate': 0.04, 'levels': [13, 12, 11, 10, 9, 8, 7, 6, 5, 4, 3, 2, 1], 'label': '13 layers uniform'}\n",
      "epoch 0,\tmetric 14193.9121\n",
      "epoch 16,\tmetric 14185.4482\n",
      "epoch 32,\tmetric 14139.8262\n",
      "epoch 48,\tmetric 13991.5898\n",
      "epoch 64,\tmetric 13642.1357\n",
      "epoch 80,\tmetric 12987.7393\n",
      "epoch 96,\tmetric 11983.8604\n",
      "epoch 112,\tmetric 10764.6816\n",
      "epoch 128,\tmetric 9756.4961\n",
      "epoch 144,\tmetric 9366.6562\n",
      "epoch 160,\tmetric 9337.1484\n",
      "epoch 176,\tmetric 9337.1719\n",
      "epoch 192,\tmetric 9340.5674\n",
      "epoch 208,\tmetric 9341.6523\n",
      "epoch 224,\tmetric 9340.7891\n",
      "epoch 240,\tmetric 9340.3906\n",
      "epoch 256,\tmetric 9340.4590\n",
      "epoch 272,\tmetric 9340.5479\n",
      "epoch 288,\tmetric 9340.5488\n",
      "epoch 304,\tmetric 9340.5322\n",
      "epoch 320,\tmetric 9340.5293\n",
      "epoch 336,\tmetric 9340.5332\n",
      "epoch 352,\tmetric 9340.5342\n",
      "epoch 368,\tmetric 9340.5332\n",
      "epoch 384,\tmetric 9340.5332\n",
      "epoch 399,\tmetric 9340.5332\n",
      "best 9337.1484 \t (best epoch: 160 ) ---> \n"
     ]
    },
    {
     "data": {
      "image/png": "[encoded data removed]",
      "text/plain": [
       "<Figure size 1440x720 with 1 Axes>"
      ]
     },
     "metadata": {
      "needs_background": "light"
     },
     "output_type": "display_data"
    }
   ],
   "source": [
    "ts = TestSuit(tests,epochs={'epochs':400,'eval_rate':.04},random_state = 49999)\n",
    "ts.run() \n",
    "ts.plot(ylim=(3500,7000),figsize=(20,10), styles=['r', 'y', 'y:', 'g', 'b', 'k'] )"
   ]
  },
  {
   "cell_type": "code",
   "execution_count": 35,
   "id": "3654c049",
   "metadata": {},
   "outputs": [
    {
     "name": "stdout",
     "output_type": "stream",
     "text": [
      "---> Testing with params {'epochs': 400, 'eval_rate': 0.04, 'levels': [13, 5, 1], 'label': '3 layers uniform'}\n",
      "epoch 0,\tmetric 14192.6816\n",
      "epoch 16,\tmetric 14155.6865\n",
      "epoch 32,\tmetric 14055.1846\n",
      "epoch 48,\tmetric 13870.4238\n",
      "epoch 64,\tmetric 13591.2852\n",
      "epoch 80,\tmetric 13219.6963\n",
      "epoch 96,\tmetric 12767.1699\n",
      "epoch 112,\tmetric 12250.7666\n",
      "epoch 128,\tmetric 11685.8789\n",
      "epoch 144,\tmetric 11081.6689\n",
      "epoch 160,\tmetric 10450.7783\n",
      "epoch 176,\tmetric 9813.3506\n",
      "epoch 192,\tmetric 9189.6055\n",
      "epoch 208,\tmetric 8597.9434\n",
      "epoch 224,\tmetric 8054.0864\n",
      "epoch 240,\tmetric 7569.4521\n",
      "epoch 256,\tmetric 7150.3022\n",
      "epoch 272,\tmetric 6797.8257\n",
      "epoch 288,\tmetric 6508.7920\n",
      "epoch 304,\tmetric 6276.5503\n",
      "epoch 320,\tmetric 6092.3262\n",
      "epoch 336,\tmetric 5946.6782\n",
      "epoch 352,\tmetric 5830.7661\n",
      "epoch 368,\tmetric 5737.1489\n",
      "epoch 384,\tmetric 5660.0269\n",
      "epoch 399,\tmetric 5598.8604\n",
      "best 5598.8604 \t (best epoch: 399 ) ---> \n",
      "---> Testing with params {'epochs': 400, 'eval_rate': 0.04, 'levels': [13, 8, 4, 1], 'label': '4 layers uniform'}\n",
      "epoch 0,\tmetric 14191.6631\n",
      "epoch 16,\tmetric 13614.4258\n",
      "epoch 32,\tmetric 9920.9531\n",
      "epoch 48,\tmetric 6734.0542\n",
      "epoch 64,\tmetric 5707.9331\n",
      "epoch 80,\tmetric 5311.9917\n",
      "epoch 96,\tmetric 5174.4961\n",
      "epoch 112,\tmetric 4951.3496\n",
      "epoch 128,\tmetric 4850.2109\n",
      "epoch 144,\tmetric 4793.2114\n",
      "epoch 160,\tmetric 4735.4658\n",
      "epoch 176,\tmetric 4679.7295\n",
      "epoch 192,\tmetric 4629.0488\n",
      "epoch 208,\tmetric 4603.8896\n",
      "epoch 224,\tmetric 4567.9634\n",
      "epoch 240,\tmetric 4535.2026\n",
      "epoch 256,\tmetric 4502.7993\n",
      "epoch 272,\tmetric 4488.4551\n",
      "epoch 288,\tmetric 4482.6807\n",
      "epoch 304,\tmetric 4501.6465\n",
      "epoch 320,\tmetric 4504.4902\n",
      "epoch 336,\tmetric 4507.6592\n",
      "epoch 352,\tmetric 4518.5522\n",
      "epoch 368,\tmetric 4528.4272\n",
      "epoch 384,\tmetric 4539.0464\n",
      "epoch 399,\tmetric 4546.8755\n",
      "best 4482.6807 \t (best epoch: 288 ) ---> \n",
      "---> Testing with params {'epochs': 400, 'eval_rate': 0.04, 'levels': [13, 6, 3, 1], 'label': '4 layers negative exp sizes'}\n",
      "epoch 0,\tmetric 14193.7080\n",
      "epoch 16,\tmetric 14082.3057\n",
      "epoch 32,\tmetric 13185.2520\n",
      "epoch 48,\tmetric 10559.4355\n",
      "epoch 64,\tmetric 7773.1323\n",
      "epoch 80,\tmetric 5964.6235\n",
      "epoch 96,\tmetric 5422.1494\n",
      "epoch 112,\tmetric 5269.1172\n",
      "epoch 128,\tmetric 5169.9785\n",
      "epoch 144,\tmetric 5059.2114\n",
      "epoch 160,\tmetric 4960.9849\n",
      "epoch 176,\tmetric 4867.6099\n",
      "epoch 192,\tmetric 4778.6797\n",
      "epoch 208,\tmetric 4700.2671\n",
      "epoch 224,\tmetric 4661.5024\n",
      "epoch 240,\tmetric 4651.2002\n",
      "epoch 256,\tmetric 4642.1221\n",
      "epoch 272,\tmetric 4625.0122\n",
      "epoch 288,\tmetric 4611.8896\n",
      "epoch 304,\tmetric 4601.2939\n",
      "epoch 320,\tmetric 4592.9404\n",
      "epoch 336,\tmetric 4589.6313\n",
      "epoch 352,\tmetric 4589.8628\n",
      "epoch 368,\tmetric 4601.2925\n",
      "epoch 384,\tmetric 4607.1440\n",
      "epoch 399,\tmetric 4613.5029\n",
      "best 4589.6313 \t (best epoch: 336 ) ---> \n",
      "---> Testing with params {'epochs': 400, 'eval_rate': 0.04, 'levels': [13, 10, 7, 4, 1], 'label': '5 layers uniform'}\n",
      "epoch 0,\tmetric 14193.8340\n",
      "epoch 16,\tmetric 14192.5957\n",
      "epoch 32,\tmetric 14191.3896\n",
      "epoch 48,\tmetric 14190.1865\n",
      "epoch 64,\tmetric 14188.9814\n",
      "epoch 80,\tmetric 14187.7764\n",
      "epoch 96,\tmetric 14186.5723\n",
      "epoch 112,\tmetric 14185.3691\n",
      "epoch 128,\tmetric 14184.1650\n",
      "epoch 144,\tmetric 14182.9619\n",
      "epoch 160,\tmetric 14181.7568\n",
      "epoch 176,\tmetric 14180.5537\n",
      "epoch 192,\tmetric 14179.3506\n",
      "epoch 208,\tmetric 14178.1484\n",
      "epoch 224,\tmetric 14176.9443\n",
      "epoch 240,\tmetric 14175.7412\n",
      "epoch 256,\tmetric 14174.5391\n",
      "epoch 272,\tmetric 14173.3369\n",
      "epoch 288,\tmetric 14172.1348\n",
      "epoch 304,\tmetric 14170.9326\n",
      "epoch 320,\tmetric 14169.7305\n",
      "epoch 336,\tmetric 14168.5303\n",
      "epoch 352,\tmetric 14167.3281\n",
      "epoch 368,\tmetric 14166.1250\n",
      "epoch 384,\tmetric 14164.9248\n",
      "epoch 399,\tmetric 14163.7988\n",
      "best 10000.0000 \t (best epoch: 0 ) ---> \n",
      "---> Testing with params {'epochs': 400, 'eval_rate': 0.04, 'levels': [13, 11, 9, 7, 5, 3, 1], 'label': '7 layers uniform'}\n",
      "epoch 0,\tmetric 14191.5137\n",
      "epoch 16,\tmetric 9000.1328\n",
      "epoch 32,\tmetric 5147.3003\n",
      "epoch 48,\tmetric 5096.8042\n",
      "epoch 64,\tmetric 4641.5962\n",
      "epoch 80,\tmetric 4667.8276\n",
      "epoch 96,\tmetric 4672.3916\n",
      "epoch 112,\tmetric 4655.1167\n",
      "epoch 128,\tmetric 4683.0332\n",
      "epoch 144,\tmetric 4718.1050\n",
      "epoch 160,\tmetric 4733.2690\n",
      "epoch 176,\tmetric 4739.2251\n",
      "epoch 192,\tmetric 4741.4111\n",
      "epoch 208,\tmetric 4733.6011\n",
      "epoch 224,\tmetric 4724.3164\n",
      "epoch 240,\tmetric 4710.1484\n",
      "epoch 256,\tmetric 4707.1001\n",
      "epoch 272,\tmetric 4704.3276\n",
      "epoch 288,\tmetric 4697.2651\n",
      "epoch 304,\tmetric 4691.7974\n",
      "epoch 320,\tmetric 4687.2266\n",
      "epoch 336,\tmetric 4683.4722\n",
      "epoch 352,\tmetric 4679.6626\n",
      "epoch 368,\tmetric 4682.7896\n",
      "epoch 384,\tmetric 4688.8330\n",
      "epoch 399,\tmetric 4687.0859\n",
      "best 4641.5962 \t (best epoch: 64 ) ---> \n",
      "---> Testing with params {'epochs': 400, 'eval_rate': 0.04, 'levels': [13, 12, 11, 10, 9, 8, 7, 6, 5, 4, 3, 2, 1], 'label': '13 layers uniform'}\n",
      "epoch 0,\tmetric 14194.3506\n",
      "epoch 16,\tmetric 14193.1445\n",
      "epoch 32,\tmetric 14191.9395\n",
      "epoch 48,\tmetric 14190.7354\n",
      "epoch 64,\tmetric 14189.5293\n",
      "epoch 80,\tmetric 14188.3262\n",
      "epoch 96,\tmetric 14187.1211\n",
      "epoch 112,\tmetric 14185.9180\n",
      "epoch 128,\tmetric 14184.7139\n",
      "epoch 144,\tmetric 14183.5098\n",
      "epoch 160,\tmetric 14182.3047\n",
      "epoch 176,\tmetric 14181.1025\n",
      "epoch 192,\tmetric 14179.8994\n",
      "epoch 208,\tmetric 14178.6963\n",
      "epoch 224,\tmetric 14177.4922\n",
      "epoch 240,\tmetric 14176.2910\n",
      "epoch 256,\tmetric 14175.0879\n",
      "epoch 272,\tmetric 14173.8857\n",
      "epoch 288,\tmetric 14172.6826\n",
      "epoch 304,\tmetric 14171.4814\n",
      "epoch 320,\tmetric 14170.2793\n",
      "epoch 336,\tmetric 14169.0771\n",
      "epoch 352,\tmetric 14167.8760\n",
      "epoch 368,\tmetric 14166.6748\n",
      "epoch 384,\tmetric 14165.4717\n",
      "epoch 399,\tmetric 14164.3477\n",
      "best 10000.0000 \t (best epoch: 0 ) ---> \n"
     ]
    },
    {
     "data": {
      "image/png": "[encoded data removed]",
      "text/plain": [
       "<Figure size 1440x720 with 1 Axes>"
      ]
     },
     "metadata": {
      "needs_background": "light"
     },
     "output_type": "display_data"
    }
   ],
   "source": [
    "ts = TestSuit(tests,epochs={'epochs':400,'eval_rate':.04},random_state=35673567)\n",
    "ts.run() \n",
    "ts.plot(ylim=(3500,7_000),figsize=(20,10), styles=['r', 'y', 'y:', 'g', 'b', 'k'] )"
   ]
  },
  {
   "cell_type": "markdown",
   "id": "ba2215a3",
   "metadata": {},
   "source": [
    "В общем, можно сделать вывод, что чем больше слоев в сети, тем менее она стабильна. \n",
    "При некоторых  стартовых счетчиках сети 5+ слоев (зеленый, синий, черный  графики) вообще не смогли начать реальное обучение за 400 эпох, оставшись с r2 < -1. Хотя , если  рубеж -1 преодолен, дляних можно ожидать быстрое обучение.\n",
    "Трёхслойная сеть самая тупая. но и самая стабильная.  \n",
    "Все же, я считаю настолько нестабильные модели (срыв в одном случае из 3х) непригодными  \n",
    "Для дальнейшего тестирования остаются сети на 3-5 слоев с равномерным убыванием нейронов"
   ]
  },
  {
   "cell_type": "markdown",
   "id": "7ff2d5f7",
   "metadata": {},
   "source": [
    "Прогоним длинный тест , чтобы посмотреть , что происходит при большом увеличении количество эпох (10_000 эпох через 200)"
   ]
  },
  {
   "cell_type": "code",
   "execution_count": 36,
   "id": "f12ff7d1",
   "metadata": {},
   "outputs": [
    {
     "name": "stdout",
     "output_type": "stream",
     "text": [
      "CPU times: user 5 µs, sys: 0 ns, total: 5 µs\n",
      "Wall time: 9.54 µs\n",
      "---> Testing with params {'epochs': 10000, 'eval_rate': 0.02, 'levels': [13, 5, 1], 'label': '3 layers uniform'}\n",
      "epoch 0,\tmetric 14193.3516\n",
      "epoch 200,\tmetric 7818.5527\n",
      "epoch 400,\tmetric 5415.2710\n",
      "epoch 600,\tmetric 4982.1260\n",
      "epoch 800,\tmetric 4797.5483\n",
      "epoch 1000,\tmetric 4770.8979\n",
      "epoch 1200,\tmetric 4689.4111\n",
      "epoch 1400,\tmetric 4675.7495\n",
      "epoch 1600,\tmetric 4607.7402\n",
      "epoch 1800,\tmetric 4585.1504\n",
      "epoch 2000,\tmetric 4588.3828\n",
      "epoch 2200,\tmetric 4609.4438\n",
      "epoch 2400,\tmetric 4629.7817\n",
      "epoch 2600,\tmetric 4654.4160\n",
      "epoch 2800,\tmetric 4662.3613\n",
      "epoch 3000,\tmetric 4681.1465\n",
      "epoch 3200,\tmetric 4692.2471\n",
      "epoch 3400,\tmetric 4698.1787\n",
      "epoch 3600,\tmetric 4712.5391\n",
      "epoch 3800,\tmetric 4721.3604\n",
      "epoch 4000,\tmetric 4724.2993\n",
      "epoch 4200,\tmetric 4719.4556\n",
      "epoch 4400,\tmetric 4720.1758\n",
      "epoch 4600,\tmetric 4716.7832\n",
      "epoch 4800,\tmetric 4712.6455\n",
      "epoch 5000,\tmetric 4711.1323\n",
      "epoch 5200,\tmetric 4711.6611\n",
      "epoch 5400,\tmetric 4710.3403\n",
      "epoch 5600,\tmetric 4714.2847\n",
      "epoch 5800,\tmetric 4715.2119\n",
      "epoch 6000,\tmetric 4718.4507\n",
      "epoch 6200,\tmetric 4724.5420\n",
      "epoch 6400,\tmetric 4721.5957\n",
      "epoch 6600,\tmetric 4718.6655\n",
      "epoch 6800,\tmetric 4718.2700\n",
      "epoch 7000,\tmetric 4715.1548\n",
      "epoch 7200,\tmetric 4711.5620\n",
      "epoch 7400,\tmetric 4710.2183\n",
      "epoch 7600,\tmetric 4705.7407\n",
      "epoch 7800,\tmetric 4700.3652\n",
      "epoch 8000,\tmetric 4701.1396\n",
      "epoch 8200,\tmetric 4697.3247\n",
      "epoch 8400,\tmetric 4696.4634\n",
      "epoch 8600,\tmetric 4692.5117\n",
      "epoch 8800,\tmetric 4693.5459\n",
      "epoch 9000,\tmetric 4693.9390\n",
      "epoch 9200,\tmetric 4692.4863\n",
      "epoch 9400,\tmetric 4688.2134\n",
      "epoch 9600,\tmetric 4688.9092\n",
      "epoch 9800,\tmetric 4685.5747\n",
      "epoch 9999,\tmetric 4688.3623\n",
      "best 4585.1504 \t (best epoch: 1800 ) ---> \n",
      "---> Testing with params {'epochs': 10000, 'eval_rate': 0.02, 'levels': [13, 8, 4, 1], 'label': '4 layers uniform'}\n",
      "epoch 0,\tmetric 14192.9434\n",
      "epoch 200,\tmetric 4534.0776\n",
      "epoch 400,\tmetric 4639.5342\n",
      "epoch 600,\tmetric 4647.9321\n",
      "epoch 800,\tmetric 4635.5220\n",
      "epoch 1000,\tmetric 4624.8569\n",
      "epoch 1200,\tmetric 4609.5479\n",
      "epoch 1400,\tmetric 4599.7227\n",
      "epoch 1600,\tmetric 4601.2065\n",
      "epoch 1800,\tmetric 4674.6646\n",
      "epoch 2000,\tmetric 4692.8735\n",
      "epoch 2200,\tmetric 4717.1943\n",
      "epoch 2400,\tmetric 4739.9810\n",
      "epoch 2600,\tmetric 4743.0210\n",
      "epoch 2800,\tmetric 4738.6479\n",
      "epoch 3000,\tmetric 4733.3979\n",
      "epoch 3200,\tmetric 4728.0718\n",
      "epoch 3400,\tmetric 4705.2417\n",
      "epoch 3600,\tmetric 4659.9219\n",
      "epoch 3800,\tmetric 4653.8770\n",
      "epoch 4000,\tmetric 4660.7998\n",
      "epoch 4200,\tmetric 4664.6426\n",
      "epoch 4400,\tmetric 4662.7573\n",
      "epoch 4600,\tmetric 4655.1851\n",
      "epoch 4800,\tmetric 4662.9746\n",
      "epoch 5000,\tmetric 4663.1382\n",
      "epoch 5200,\tmetric 4607.9897\n",
      "epoch 5400,\tmetric 4599.9565\n",
      "epoch 5600,\tmetric 4819.8306\n",
      "epoch 5800,\tmetric 4858.4023\n",
      "epoch 6000,\tmetric 4902.3511\n",
      "epoch 6200,\tmetric 5064.3804\n",
      "epoch 6400,\tmetric 4942.9521\n",
      "epoch 6600,\tmetric 4965.6133\n",
      "epoch 6800,\tmetric 4925.1753\n",
      "epoch 7000,\tmetric 4970.6245\n",
      "epoch 7200,\tmetric 5052.5571\n",
      "epoch 7400,\tmetric 5093.2046\n",
      "epoch 7600,\tmetric 5093.9849\n",
      "epoch 7800,\tmetric 5043.6812\n",
      "epoch 8000,\tmetric 5061.7969\n",
      "epoch 8200,\tmetric 5213.1274\n",
      "epoch 8400,\tmetric 5157.6064\n",
      "epoch 8600,\tmetric 5104.7520\n",
      "epoch 8800,\tmetric 5125.5645\n",
      "epoch 9000,\tmetric 5192.2427\n",
      "epoch 9200,\tmetric 5132.0278\n",
      "epoch 9400,\tmetric 5283.1089\n",
      "epoch 9600,\tmetric 5062.2627\n",
      "epoch 9800,\tmetric 5140.5591\n",
      "epoch 9999,\tmetric 5085.4805\n",
      "best 4534.0776 \t (best epoch: 200 ) ---> \n",
      "---> Testing with params {'epochs': 10000, 'eval_rate': 0.02, 'levels': [13, 10, 7, 4, 1], 'label': '5 layers uniform'}\n",
      "epoch 0,\tmetric 14193.7988\n",
      "epoch 200,\tmetric 4612.0610\n",
      "epoch 400,\tmetric 4529.1353\n",
      "epoch 600,\tmetric 4599.5024\n",
      "epoch 800,\tmetric 4604.2183\n",
      "epoch 1000,\tmetric 4654.5303\n",
      "epoch 1200,\tmetric 4658.6631\n",
      "epoch 1400,\tmetric 4696.1631\n",
      "epoch 1600,\tmetric 4745.6382\n",
      "epoch 1800,\tmetric 4756.5181\n",
      "epoch 2000,\tmetric 4766.4819\n",
      "epoch 2200,\tmetric 4732.6509\n",
      "epoch 2400,\tmetric 4902.2285\n",
      "epoch 2600,\tmetric 4754.0088\n",
      "epoch 2800,\tmetric 4581.0142\n",
      "epoch 3000,\tmetric 4567.7114\n",
      "epoch 3200,\tmetric 4499.9697\n",
      "epoch 3400,\tmetric 4699.3013\n",
      "epoch 3600,\tmetric 4862.8481\n",
      "epoch 3800,\tmetric 5012.8721\n",
      "epoch 4000,\tmetric 5053.4312\n",
      "epoch 4200,\tmetric 5206.6870\n",
      "epoch 4400,\tmetric 5446.6118\n",
      "epoch 4600,\tmetric 5586.3960\n",
      "epoch 4800,\tmetric 5690.0117\n",
      "epoch 5000,\tmetric 5714.3359\n",
      "epoch 5200,\tmetric 5722.4331\n",
      "epoch 5400,\tmetric 5806.9990\n",
      "epoch 5600,\tmetric 5849.7222\n",
      "epoch 5800,\tmetric 5858.3706\n",
      "epoch 6000,\tmetric 5874.8799\n",
      "epoch 6200,\tmetric 5840.0293\n",
      "epoch 6400,\tmetric 5942.6768\n",
      "epoch 6600,\tmetric 5897.8057\n",
      "epoch 6800,\tmetric 5910.8501\n",
      "epoch 7000,\tmetric 5957.5312\n",
      "epoch 7200,\tmetric 5940.2480\n",
      "epoch 7400,\tmetric 5912.9785\n",
      "epoch 7600,\tmetric 5947.0825\n",
      "epoch 7800,\tmetric 5975.4067\n",
      "epoch 8000,\tmetric 5948.8911\n",
      "epoch 8200,\tmetric 5961.7456\n",
      "epoch 8400,\tmetric 5966.8857\n",
      "epoch 8600,\tmetric 5941.5820\n",
      "epoch 8800,\tmetric 5909.3936\n",
      "epoch 9000,\tmetric 5981.5083\n",
      "epoch 9200,\tmetric 5959.2246\n",
      "epoch 9400,\tmetric 5948.8335\n",
      "epoch 9600,\tmetric 5974.7114\n",
      "epoch 9800,\tmetric 6002.9600\n",
      "epoch 9999,\tmetric 5910.5483\n",
      "best 4499.9697 \t (best epoch: 3200 ) ---> \n"
     ]
    }
   ],
   "source": [
    "%time\n",
    "tests = [\n",
    "    { 'levels': [13,5,1], 'label' : '3 layers uniform'},\n",
    "    { 'levels': [13,8,4,1], 'label' : '4 layers uniform'},\n",
    "    { 'levels': [13,10,7,4,1], 'label' : '5 layers uniform'}\n",
    "]\n",
    "ts = TestSuit(tests,epochs={'epochs':10_000,'eval_rate':.02})\n",
    "ts.run()  "
   ]
  },
  {
   "cell_type": "code",
   "execution_count": 37,
   "id": "31e690df",
   "metadata": {},
   "outputs": [
    {
     "data": {
      "image/png": "[encoded data removed]",
      "text/plain": [
       "<Figure size 1440x720 with 1 Axes>"
      ]
     },
     "metadata": {
      "needs_background": "light"
     },
     "output_type": "display_data"
    }
   ],
   "source": [
    "ts.plot(ylim=(3500,7000),figsize=(20,10), styles=['r', 'y', 'g'] )"
   ]
  },
  {
   "cell_type": "markdown",
   "id": "b1fb5c99",
   "metadata": {},
   "source": [
    "Чем больше слоев , тем раньше начинается переобучение  \n",
    "исходя из графиков , наиболее перспективна 4- слойная модель с 5000 эпох "
   ]
  },
  {
   "cell_type": "markdown",
   "id": "a54e7222",
   "metadata": {},
   "source": [
    "### Тест параметров инициализации"
   ]
  },
  {
   "cell_type": "markdown",
   "id": "247a8bc7",
   "metadata": {},
   "source": [
    "Затем проверим , насколько могут повлиять на резултат более тонкие параметры - скорость обучения и способ инициализации.   \n",
    "(я предполагаю , что их влияние меньше, чем влияние макроструктуры сети)  \n",
    "Следуюший класс прогоняет тесты на нескольких скоростях с 6 вариантами инициалзации на каждой:\n",
    "нормальная / равномерная инициализация весов и для каждой 3 опции       \n",
    "fan_in, fan_out, попеременно fan_in/fan_out на соседних слоях"
   ]
  },
  {
   "cell_type": "code",
   "execution_count": 38,
   "id": "7a8db8c0",
   "metadata": {},
   "outputs": [],
   "source": [
    "class TestLearnRate:\n",
    "    def __init__(self,learn_rates,params,epochs={'epochs':2600,'eval_rate':.2},random_state=55555):\n",
    "        self.learn_rates = learn_rates  \n",
    "        self.params= params\n",
    "        self.epochs= epochs                # the same step for all tests  \n",
    "        self.results = {}\n",
    "        self.random_state = random_state\n",
    "        \n",
    "\n",
    "    def run(self):\n",
    "        for methods in [[nn.init.kaiming_uniform_],[nn.init.kaiming_normal_]]:\n",
    "            meth_names = list( map(lambda m: m.__name__[8:-1] ,methods) )\n",
    "            for fan in [['fan_in'],['fan_out'],['fan_in','fan_out']]:\n",
    "                label = '|'.join(meth_names)+'__'+'|'.join(fan) \n",
    "                serie = []\n",
    "                for learn_rate  in self.learn_rates:            \n",
    "                    params=self.epochs|self.params|{'learn_rate':learn_rate,'init_methods':methods,'fans':fan,'label':label}                               \n",
    "                    t = Teacher(params,random_state=self.random_state)\n",
    "                    t.run()\n",
    "                    serie.append(t.best)\n",
    "                self.results[label] = serie \n",
    "\n",
    "    def plot(self,ylim=(3500,7000),figsize=(20,8),styles=[*'rygbkm']):\n",
    "        fig ,ax = plt.subplots( figsize=figsize )\n",
    "        ax.set_ylim(ylim)\n",
    "        styles.reverse()\n",
    "        ax.set_title('Зависимость метрики R2 от скорости обучения при различных параметрах инициализации ')\n",
    "        ax.set_xlabel('learn_rate')\n",
    "        ax.set_ylabel('r2 score')\n",
    "        ticks = self.learn_rates\n",
    "        ax.set_xticks(ticks)    \n",
    "\n",
    "        for (l,r)  in self.results.items():\n",
    "            ax.plot( self.learn_rates,r , styles.pop() ,label=l) \n",
    "        ax.legend() ; \n",
    "\n"
   ]
  },
  {
   "cell_type": "markdown",
   "id": "5142abb6",
   "metadata": {},
   "source": [
    "Для каждой скорости прогоняется тест на полное количество эпох и оценивается финальный результат (~30 минут )"
   ]
  },
  {
   "cell_type": "code",
   "execution_count": 39,
   "id": "01815b07",
   "metadata": {},
   "outputs": [
    {
     "name": "stdout",
     "output_type": "stream",
     "text": [
      "---> Testing with params {'epochs': 5000, 'eval_rate': 0.04, 'levels': [13, 9, 5, 1], 'learn_rate': 0.01, 'init_methods': [<function kaiming_uniform_ at 0x7fb0f3804af0>], 'fans': ['fan_in'], 'label': 'uniform__fan_in'}\n",
      "epoch 0,\tmetric 14193.8174\n",
      "epoch 200,\tmetric 11331.4414\n",
      "epoch 400,\tmetric 5948.2339\n",
      "epoch 600,\tmetric 5331.5737\n",
      "epoch 800,\tmetric 5016.5059\n",
      "epoch 1000,\tmetric 4825.3999\n",
      "epoch 1200,\tmetric 4760.6816\n",
      "epoch 1400,\tmetric 4665.7241\n",
      "epoch 1600,\tmetric 4614.9800\n",
      "epoch 1800,\tmetric 4582.4702\n",
      "epoch 2000,\tmetric 4545.2329\n",
      "epoch 2200,\tmetric 4551.9829\n",
      "epoch 2400,\tmetric 4586.1108\n",
      "epoch 2600,\tmetric 4653.7026\n",
      "epoch 2800,\tmetric 4763.0210\n",
      "epoch 3000,\tmetric 4759.5913\n",
      "epoch 3200,\tmetric 4690.6025\n",
      "epoch 3400,\tmetric 4600.3081\n",
      "epoch 3600,\tmetric 4524.8511\n",
      "epoch 3800,\tmetric 4466.2417\n",
      "epoch 4000,\tmetric 4428.7666\n",
      "epoch 4200,\tmetric 4401.6240\n",
      "epoch 4400,\tmetric 4378.8960\n",
      "epoch 4600,\tmetric 4353.3271\n",
      "epoch 4800,\tmetric 4337.1401\n",
      "epoch 4999,\tmetric 4322.9443\n",
      "best 4322.9443 \t (best epoch: 4999 ) ---> \n",
      "---> Testing with params {'epochs': 5000, 'eval_rate': 0.04, 'levels': [13, 9, 5, 1], 'learn_rate': 0.03, 'init_methods': [<function kaiming_uniform_ at 0x7fb0f3804af0>], 'fans': ['fan_in'], 'label': 'uniform__fan_in'}\n",
      "epoch 0,\tmetric 14193.5986\n",
      "epoch 200,\tmetric 5442.1602\n",
      "epoch 400,\tmetric 4681.9189\n",
      "epoch 600,\tmetric 4536.6812\n",
      "epoch 800,\tmetric 4505.7583\n",
      "epoch 1000,\tmetric 4550.5269\n",
      "epoch 1200,\tmetric 4592.4292\n",
      "epoch 1400,\tmetric 4714.5601\n",
      "epoch 1600,\tmetric 4633.4761\n",
      "epoch 1800,\tmetric 4444.4541\n",
      "epoch 2000,\tmetric 4389.7725\n",
      "epoch 2200,\tmetric 4385.5576\n",
      "epoch 2400,\tmetric 4383.4824\n",
      "epoch 2600,\tmetric 4392.1055\n",
      "epoch 2800,\tmetric 4406.1172\n",
      "epoch 3000,\tmetric 4411.3501\n",
      "epoch 3200,\tmetric 4320.0244\n",
      "epoch 3400,\tmetric 4283.7935\n",
      "epoch 3600,\tmetric 4267.7729\n",
      "epoch 3800,\tmetric 4291.2632\n",
      "epoch 4000,\tmetric 4339.7822\n",
      "epoch 4200,\tmetric 4368.5542\n",
      "epoch 4400,\tmetric 4440.2617\n",
      "epoch 4600,\tmetric 4495.7583\n",
      "epoch 4800,\tmetric 4617.7261\n",
      "epoch 4999,\tmetric 4778.3687\n",
      "best 4267.7729 \t (best epoch: 3600 ) ---> \n",
      "---> Testing with params {'epochs': 5000, 'eval_rate': 0.04, 'levels': [13, 9, 5, 1], 'learn_rate': 0.06, 'init_methods': [<function kaiming_uniform_ at 0x7fb0f3804af0>], 'fans': ['fan_in'], 'label': 'uniform__fan_in'}\n",
      "epoch 0,\tmetric 14193.2295\n",
      "epoch 200,\tmetric 4758.9541\n",
      "epoch 400,\tmetric 4479.6973\n",
      "epoch 600,\tmetric 4551.3779\n",
      "epoch 800,\tmetric 4594.1851\n",
      "epoch 1000,\tmetric 4598.9829\n",
      "epoch 1200,\tmetric 4600.2891\n",
      "epoch 1400,\tmetric 4619.5474\n",
      "epoch 1600,\tmetric 4610.9102\n",
      "epoch 1800,\tmetric 4576.9341\n",
      "epoch 2000,\tmetric 4235.5063\n",
      "epoch 2200,\tmetric 4052.0918\n",
      "epoch 2400,\tmetric 4127.9937\n",
      "epoch 2600,\tmetric 4124.1445\n",
      "epoch 2800,\tmetric 4176.9268\n",
      "epoch 3000,\tmetric 4190.6147\n",
      "epoch 3200,\tmetric 4195.1450\n",
      "epoch 3400,\tmetric 4195.9897\n",
      "epoch 3600,\tmetric 4271.2954\n",
      "epoch 3800,\tmetric 4499.2544\n",
      "epoch 4000,\tmetric 4930.7427\n",
      "epoch 4200,\tmetric 5093.0176\n",
      "epoch 4400,\tmetric 5210.1465\n",
      "epoch 4600,\tmetric 5280.6050\n",
      "epoch 4800,\tmetric 5340.3281\n",
      "epoch 4999,\tmetric 5405.9873\n",
      "best 4052.0918 \t (best epoch: 2200 ) ---> \n",
      "---> Testing with params {'epochs': 5000, 'eval_rate': 0.04, 'levels': [13, 9, 5, 1], 'learn_rate': 0.1, 'init_methods': [<function kaiming_uniform_ at 0x7fb0f3804af0>], 'fans': ['fan_in'], 'label': 'uniform__fan_in'}\n",
      "epoch 0,\tmetric 14192.6670\n",
      "epoch 200,\tmetric 4602.4683\n",
      "epoch 400,\tmetric 4559.4443\n",
      "epoch 600,\tmetric 4622.2261\n",
      "epoch 800,\tmetric 4636.4785\n",
      "epoch 1000,\tmetric 4663.9453\n",
      "epoch 1200,\tmetric 4570.5703\n",
      "epoch 1400,\tmetric 4543.9497\n",
      "epoch 1600,\tmetric 4536.5103\n",
      "epoch 1800,\tmetric 4580.4077\n",
      "epoch 2000,\tmetric 4668.5835\n",
      "epoch 2200,\tmetric 4682.0518\n",
      "epoch 2400,\tmetric 4613.1289\n",
      "epoch 2600,\tmetric 4642.6494\n",
      "epoch 2800,\tmetric 4486.1494\n",
      "epoch 3000,\tmetric 4456.9707\n",
      "epoch 3200,\tmetric 4515.8848\n",
      "epoch 3400,\tmetric 4639.8398\n",
      "epoch 3600,\tmetric 4916.5615\n",
      "epoch 3800,\tmetric 5204.2178\n",
      "epoch 4000,\tmetric 5263.1646\n",
      "epoch 4200,\tmetric 5290.7017\n",
      "epoch 4400,\tmetric 5278.2812\n",
      "epoch 4600,\tmetric 5324.0410\n",
      "epoch 4800,\tmetric 5356.4834\n",
      "epoch 4999,\tmetric 5417.9263\n",
      "best 4456.9707 \t (best epoch: 3000 ) ---> \n",
      "---> Testing with params {'epochs': 5000, 'eval_rate': 0.04, 'levels': [13, 9, 5, 1], 'learn_rate': 0.15, 'init_methods': [<function kaiming_uniform_ at 0x7fb0f3804af0>], 'fans': ['fan_in'], 'label': 'uniform__fan_in'}\n",
      "epoch 0,\tmetric 14191.7832\n",
      "epoch 200,\tmetric 4504.4399\n",
      "epoch 400,\tmetric 4621.5718\n",
      "epoch 600,\tmetric 4622.4028\n",
      "epoch 800,\tmetric 4653.6997\n",
      "epoch 1000,\tmetric 4670.9995\n",
      "epoch 1200,\tmetric 4655.3823\n",
      "epoch 1400,\tmetric 4603.2065\n",
      "epoch 1600,\tmetric 4623.9692\n",
      "epoch 1800,\tmetric 4606.8730\n",
      "epoch 2000,\tmetric 4709.0835\n",
      "epoch 2200,\tmetric 4521.5278\n",
      "epoch 2400,\tmetric 4490.0415\n",
      "epoch 2600,\tmetric 4213.4653\n",
      "epoch 2800,\tmetric 4318.9238\n",
      "epoch 3000,\tmetric 4367.4575\n",
      "epoch 3200,\tmetric 4377.7495\n",
      "epoch 3400,\tmetric 4432.8701\n",
      "epoch 3600,\tmetric 4491.3594\n",
      "epoch 3800,\tmetric 4565.3125\n",
      "epoch 4000,\tmetric 4609.4653\n",
      "epoch 4200,\tmetric 4747.3076\n",
      "epoch 4400,\tmetric 5052.5649\n",
      "epoch 4600,\tmetric 5154.0894\n",
      "epoch 4800,\tmetric 5356.9927\n",
      "epoch 4999,\tmetric 5459.7563\n",
      "best 4213.4653 \t (best epoch: 2600 ) ---> \n",
      "---> Testing with params {'epochs': 5000, 'eval_rate': 0.04, 'levels': [13, 9, 5, 1], 'learn_rate': 0.2, 'init_methods': [<function kaiming_uniform_ at 0x7fb0f3804af0>], 'fans': ['fan_in'], 'label': 'uniform__fan_in'}\n",
      "epoch 0,\tmetric 14190.7383\n",
      "epoch 200,\tmetric 4509.9033\n",
      "epoch 400,\tmetric 4624.1875\n",
      "epoch 600,\tmetric 4605.5181\n",
      "epoch 800,\tmetric 4652.9248\n",
      "epoch 1000,\tmetric 4630.2695\n",
      "epoch 1200,\tmetric 4618.5859\n",
      "epoch 1400,\tmetric 4626.9790\n",
      "epoch 1600,\tmetric 4561.2231\n",
      "epoch 1800,\tmetric 4630.1890\n",
      "epoch 2000,\tmetric 4748.2749\n",
      "epoch 2200,\tmetric 4972.6553\n",
      "epoch 2400,\tmetric 4890.1440\n",
      "epoch 2600,\tmetric 5227.6953\n",
      "epoch 2800,\tmetric 5126.9512\n",
      "epoch 3000,\tmetric 5235.6436\n",
      "epoch 3200,\tmetric 4882.0361\n",
      "epoch 3400,\tmetric 4983.3701\n",
      "epoch 3600,\tmetric 5108.2139\n",
      "epoch 3800,\tmetric 5267.0532\n",
      "epoch 4000,\tmetric 4960.7012\n",
      "epoch 4200,\tmetric 5114.2705\n",
      "epoch 4400,\tmetric 5735.1665\n",
      "epoch 4600,\tmetric 6142.4673\n",
      "epoch 4800,\tmetric 5887.2188\n",
      "epoch 4999,\tmetric 6146.1450\n",
      "best 4509.9033 \t (best epoch: 200 ) ---> \n",
      "---> Testing with params {'epochs': 5000, 'eval_rate': 0.04, 'levels': [13, 9, 5, 1], 'learn_rate': 0.27, 'init_methods': [<function kaiming_uniform_ at 0x7fb0f3804af0>], 'fans': ['fan_in'], 'label': 'uniform__fan_in'}\n",
      "epoch 0,\tmetric 14188.9023\n",
      "epoch 200,\tmetric 4712.1006\n",
      "epoch 400,\tmetric 4707.8755\n",
      "epoch 600,\tmetric 4686.8374\n",
      "epoch 800,\tmetric 4771.5879\n",
      "epoch 1000,\tmetric 4848.4644\n",
      "epoch 1200,\tmetric 4857.2749\n",
      "epoch 1400,\tmetric 4848.4033\n",
      "epoch 1600,\tmetric 4848.7676\n",
      "epoch 1800,\tmetric 4868.0405\n",
      "epoch 2000,\tmetric 4750.7588\n",
      "epoch 2200,\tmetric 4664.2075\n",
      "epoch 2400,\tmetric 4554.6001\n",
      "epoch 2600,\tmetric 4619.5630\n",
      "epoch 2800,\tmetric 4750.0791\n",
      "epoch 3000,\tmetric 4932.8804\n",
      "epoch 3200,\tmetric 5263.2827\n",
      "epoch 3400,\tmetric 5458.2407\n",
      "epoch 3600,\tmetric 5626.6074\n",
      "epoch 3800,\tmetric 5837.7656\n",
      "epoch 4000,\tmetric 6008.4800\n",
      "epoch 4200,\tmetric 6280.3027\n",
      "epoch 4400,\tmetric 6416.0752\n",
      "epoch 4600,\tmetric 6614.5610\n",
      "epoch 4800,\tmetric 6789.4932\n",
      "epoch 4999,\tmetric 6916.0859\n",
      "best 4554.6001 \t (best epoch: 2400 ) ---> \n",
      "---> Testing with params {'epochs': 5000, 'eval_rate': 0.04, 'levels': [13, 9, 5, 1], 'learn_rate': 0.35, 'init_methods': [<function kaiming_uniform_ at 0x7fb0f3804af0>], 'fans': ['fan_in'], 'label': 'uniform__fan_in'}\n",
      "epoch 0,\tmetric 14186.1240\n",
      "epoch 200,\tmetric 4760.6025\n",
      "epoch 400,\tmetric 4957.5439\n",
      "epoch 600,\tmetric 5017.4458\n",
      "epoch 800,\tmetric 5007.7739\n",
      "epoch 1000,\tmetric 4988.4785\n",
      "epoch 1200,\tmetric 4785.9434\n",
      "epoch 1400,\tmetric 4799.1255\n",
      "epoch 1600,\tmetric 4620.4600\n",
      "epoch 1800,\tmetric 4448.2793\n",
      "epoch 2000,\tmetric 4401.6279\n",
      "epoch 2200,\tmetric 4397.5210\n",
      "epoch 2400,\tmetric 4523.3252\n",
      "epoch 2600,\tmetric 4619.3135\n",
      "epoch 2800,\tmetric 4660.3120\n",
      "epoch 3000,\tmetric 4800.0986\n",
      "epoch 3200,\tmetric 4902.9844\n",
      "epoch 3400,\tmetric 4994.4043\n",
      "epoch 3600,\tmetric 5070.2988\n",
      "epoch 3800,\tmetric 5060.4731\n",
      "epoch 4000,\tmetric 5038.8247\n",
      "epoch 4200,\tmetric 4987.1875\n",
      "epoch 4400,\tmetric 5062.5181\n",
      "epoch 4600,\tmetric 4987.0337\n",
      "epoch 4800,\tmetric 4989.2104\n",
      "epoch 4999,\tmetric 5042.8223\n",
      "best 4397.5210 \t (best epoch: 2200 ) ---> \n",
      "---> Testing with params {'epochs': 5000, 'eval_rate': 0.04, 'levels': [13, 9, 5, 1], 'learn_rate': 0.01, 'init_methods': [<function kaiming_uniform_ at 0x7fb0f3804af0>], 'fans': ['fan_out'], 'label': 'uniform__fan_out'}\n",
      "epoch 0,\tmetric 14193.7988\n",
      "epoch 200,\tmetric 11086.6006\n",
      "epoch 400,\tmetric 5917.0200\n",
      "epoch 600,\tmetric 5351.0547\n",
      "epoch 800,\tmetric 5021.5288\n",
      "epoch 1000,\tmetric 4823.5420\n",
      "epoch 1200,\tmetric 4741.8008\n",
      "epoch 1400,\tmetric 4644.0840\n",
      "epoch 1600,\tmetric 4582.4517\n",
      "epoch 1800,\tmetric 4525.4194\n",
      "epoch 2000,\tmetric 4473.9351\n",
      "epoch 2200,\tmetric 4453.8394\n",
      "epoch 2400,\tmetric 4459.9224\n",
      "epoch 2600,\tmetric 4465.7939\n",
      "epoch 2800,\tmetric 4487.0649\n",
      "epoch 3000,\tmetric 4505.6963\n",
      "epoch 3200,\tmetric 4515.0181\n",
      "epoch 3400,\tmetric 4528.0640\n",
      "epoch 3600,\tmetric 4545.1069\n",
      "epoch 3800,\tmetric 4555.3467\n",
      "epoch 4000,\tmetric 4568.0244\n",
      "epoch 4200,\tmetric 4577.2622\n",
      "epoch 4400,\tmetric 4584.4033\n",
      "epoch 4600,\tmetric 4593.0688\n",
      "epoch 4800,\tmetric 4597.9976\n",
      "epoch 4999,\tmetric 4616.0581\n",
      "best 4453.8394 \t (best epoch: 2200 ) ---> \n",
      "---> Testing with params {'epochs': 5000, 'eval_rate': 0.04, 'levels': [13, 9, 5, 1], 'learn_rate': 0.03, 'init_methods': [<function kaiming_uniform_ at 0x7fb0f3804af0>], 'fans': ['fan_out'], 'label': 'uniform__fan_out'}\n",
      "epoch 0,\tmetric 14193.2910\n",
      "epoch 200,\tmetric 5527.3149\n",
      "epoch 400,\tmetric 4780.3813\n",
      "epoch 600,\tmetric 4599.1758\n",
      "epoch 800,\tmetric 4465.5381\n",
      "epoch 1000,\tmetric 4385.0190\n",
      "epoch 1200,\tmetric 4424.8018\n",
      "epoch 1400,\tmetric 4483.5762\n",
      "epoch 1600,\tmetric 4560.6270\n",
      "epoch 1800,\tmetric 4632.0234\n",
      "epoch 2000,\tmetric 4680.2905\n",
      "epoch 2200,\tmetric 4697.1694\n",
      "epoch 2400,\tmetric 4692.4849\n",
      "epoch 2600,\tmetric 4688.8774\n",
      "epoch 2800,\tmetric 4705.6099\n",
      "epoch 3000,\tmetric 4721.9873\n",
      "epoch 3200,\tmetric 4744.7056\n",
      "epoch 3400,\tmetric 4765.0728\n",
      "epoch 3600,\tmetric 4776.5649\n",
      "epoch 3800,\tmetric 4790.9458\n",
      "epoch 4000,\tmetric 4646.1143\n",
      "epoch 4200,\tmetric 4573.4082\n",
      "epoch 4400,\tmetric 4590.7119\n",
      "epoch 4600,\tmetric 4634.8325\n",
      "epoch 4800,\tmetric 4682.1411\n",
      "epoch 4999,\tmetric 4637.0742\n",
      "best 4385.0190 \t (best epoch: 1000 ) ---> \n",
      "---> Testing with params {'epochs': 5000, 'eval_rate': 0.04, 'levels': [13, 9, 5, 1], 'learn_rate': 0.06, 'init_methods': [<function kaiming_uniform_ at 0x7fb0f3804af0>], 'fans': ['fan_out'], 'label': 'uniform__fan_out'}\n",
      "epoch 0,\tmetric 14192.4277\n",
      "epoch 200,\tmetric 4696.2310\n",
      "epoch 400,\tmetric 4508.9878\n",
      "epoch 600,\tmetric 4602.8491\n",
      "epoch 800,\tmetric 4637.0796\n",
      "epoch 1000,\tmetric 4606.0864\n",
      "epoch 1200,\tmetric 4632.1147\n",
      "epoch 1400,\tmetric 4673.8599\n",
      "epoch 1600,\tmetric 4702.9595\n",
      "epoch 1800,\tmetric 4721.3628\n",
      "epoch 2000,\tmetric 4645.4058\n",
      "epoch 2200,\tmetric 4631.6362\n",
      "epoch 2400,\tmetric 4607.1797\n",
      "epoch 2600,\tmetric 4654.8008\n",
      "epoch 2800,\tmetric 4713.9810\n",
      "epoch 3000,\tmetric 4843.1152\n",
      "epoch 3200,\tmetric 4961.9663\n",
      "epoch 3400,\tmetric 5094.0732\n",
      "epoch 3600,\tmetric 5125.8203\n",
      "epoch 3800,\tmetric 5208.6704\n",
      "epoch 4000,\tmetric 5266.2861\n",
      "epoch 4200,\tmetric 5351.8506\n",
      "epoch 4400,\tmetric 5448.2026\n",
      "epoch 4600,\tmetric 5485.8101\n",
      "epoch 4800,\tmetric 5551.1675\n",
      "epoch 4999,\tmetric 5626.4272\n",
      "best 4508.9878 \t (best epoch: 400 ) ---> \n",
      "---> Testing with params {'epochs': 5000, 'eval_rate': 0.04, 'levels': [13, 9, 5, 1], 'learn_rate': 0.1, 'init_methods': [<function kaiming_uniform_ at 0x7fb0f3804af0>], 'fans': ['fan_out'], 'label': 'uniform__fan_out'}\n",
      "epoch 0,\tmetric 14191.1768\n",
      "epoch 200,\tmetric 4564.1582\n",
      "epoch 400,\tmetric 4661.3042\n",
      "epoch 600,\tmetric 4709.4165\n",
      "epoch 800,\tmetric 4713.3999\n",
      "epoch 1000,\tmetric 4715.9980\n",
      "epoch 1200,\tmetric 4377.9624\n",
      "epoch 1400,\tmetric 4264.9521\n",
      "epoch 1600,\tmetric 4324.9590\n",
      "epoch 1800,\tmetric 4371.7051\n",
      "epoch 2000,\tmetric 4470.3218\n",
      "epoch 2200,\tmetric 4537.8511\n",
      "epoch 2400,\tmetric 4579.9517\n",
      "epoch 2600,\tmetric 4731.3599\n",
      "epoch 2800,\tmetric 4787.1294\n",
      "epoch 3000,\tmetric 4860.2119\n",
      "epoch 3200,\tmetric 5016.9111\n",
      "epoch 3400,\tmetric 5072.6147\n",
      "epoch 3600,\tmetric 5113.5278\n",
      "epoch 3800,\tmetric 5158.8545\n",
      "epoch 4000,\tmetric 5209.4688\n",
      "epoch 4200,\tmetric 5270.8481\n",
      "epoch 4400,\tmetric 5336.4019\n",
      "epoch 4600,\tmetric 5392.5674\n",
      "epoch 4800,\tmetric 5489.6064\n",
      "epoch 4999,\tmetric 5564.7905\n",
      "best 4264.9521 \t (best epoch: 1400 ) ---> \n",
      "---> Testing with params {'epochs': 5000, 'eval_rate': 0.04, 'levels': [13, 9, 5, 1], 'learn_rate': 0.15, 'init_methods': [<function kaiming_uniform_ at 0x7fb0f3804af0>], 'fans': ['fan_out'], 'label': 'uniform__fan_out'}\n",
      "epoch 0,\tmetric 14189.2598\n",
      "epoch 200,\tmetric 4556.6611\n",
      "epoch 400,\tmetric 4678.8525\n",
      "epoch 600,\tmetric 4703.6602\n",
      "epoch 800,\tmetric 4758.4199\n",
      "epoch 1000,\tmetric 4929.2744\n",
      "epoch 1200,\tmetric 4999.2466\n",
      "epoch 1400,\tmetric 4871.3208\n",
      "epoch 1600,\tmetric 5282.6411\n",
      "epoch 1800,\tmetric 4959.0537\n",
      "epoch 2000,\tmetric 4725.9341\n",
      "epoch 2200,\tmetric 4674.0366\n",
      "epoch 2400,\tmetric 4687.5732\n",
      "epoch 2600,\tmetric 4711.8306\n",
      "epoch 2800,\tmetric 4634.2749\n",
      "epoch 3000,\tmetric 4570.2212\n",
      "epoch 3200,\tmetric 4665.6201\n",
      "epoch 3400,\tmetric 4743.2852\n",
      "epoch 3600,\tmetric 4906.2012\n",
      "epoch 3800,\tmetric 4931.5908\n",
      "epoch 4000,\tmetric 4925.7363\n",
      "epoch 4200,\tmetric 5089.4946\n",
      "epoch 4400,\tmetric 5107.8164\n",
      "epoch 4600,\tmetric 5051.6538\n",
      "epoch 4800,\tmetric 5000.7251\n",
      "epoch 4999,\tmetric 4996.1787\n",
      "best 4556.6611 \t (best epoch: 200 ) ---> \n",
      "---> Testing with params {'epochs': 5000, 'eval_rate': 0.04, 'levels': [13, 9, 5, 1], 'learn_rate': 0.2, 'init_methods': [<function kaiming_uniform_ at 0x7fb0f3804af0>], 'fans': ['fan_out'], 'label': 'uniform__fan_out'}\n",
      "epoch 0,\tmetric 14187.0498\n",
      "epoch 200,\tmetric 4599.1577\n",
      "epoch 400,\tmetric 4691.0107\n",
      "epoch 600,\tmetric 4713.4639\n",
      "epoch 800,\tmetric 4863.0254\n",
      "epoch 1000,\tmetric 4891.3135\n",
      "epoch 1200,\tmetric 4770.2622\n",
      "epoch 1400,\tmetric 4677.4419\n",
      "epoch 1600,\tmetric 4633.6953\n",
      "epoch 1800,\tmetric 4565.5894\n",
      "epoch 2000,\tmetric 4569.5361\n",
      "epoch 2200,\tmetric 4543.9824\n",
      "epoch 2400,\tmetric 4416.0103\n",
      "epoch 2600,\tmetric 4430.1631\n",
      "epoch 2800,\tmetric 4479.5796\n",
      "epoch 3000,\tmetric 4442.1226\n",
      "epoch 3200,\tmetric 4514.4873\n",
      "epoch 3400,\tmetric 4482.9375\n",
      "epoch 3600,\tmetric 4515.0977\n",
      "epoch 3800,\tmetric 4585.8037\n",
      "epoch 4000,\tmetric 5003.9316\n",
      "epoch 4200,\tmetric 5359.8086\n",
      "epoch 4400,\tmetric 5585.4165\n",
      "epoch 4600,\tmetric 5792.3701\n",
      "epoch 4800,\tmetric 5962.6948\n",
      "epoch 4999,\tmetric 5986.4946\n",
      "best 4416.0103 \t (best epoch: 2400 ) ---> \n",
      "---> Testing with params {'epochs': 5000, 'eval_rate': 0.04, 'levels': [13, 9, 5, 1], 'learn_rate': 0.27, 'init_methods': [<function kaiming_uniform_ at 0x7fb0f3804af0>], 'fans': ['fan_out'], 'label': 'uniform__fan_out'}\n",
      "epoch 0,\tmetric 14183.5332\n",
      "epoch 200,\tmetric 4681.1958\n",
      "epoch 400,\tmetric 4724.8770\n",
      "epoch 600,\tmetric 4764.1592\n",
      "epoch 800,\tmetric 4934.6377\n",
      "epoch 1000,\tmetric 4775.0244\n",
      "epoch 1200,\tmetric 4760.1973\n",
      "epoch 1400,\tmetric 4808.1138\n",
      "epoch 1600,\tmetric 4838.8247\n",
      "epoch 1800,\tmetric 4735.2300\n",
      "epoch 2000,\tmetric 4901.6084\n",
      "epoch 2200,\tmetric 4988.6938\n",
      "epoch 2400,\tmetric 5160.3833\n",
      "epoch 2600,\tmetric 5324.7236\n",
      "epoch 2800,\tmetric 5510.1099\n",
      "epoch 3000,\tmetric 5425.9346\n",
      "epoch 3200,\tmetric 5462.1177\n",
      "epoch 3400,\tmetric 5744.6377\n",
      "epoch 3600,\tmetric 5874.8315\n",
      "epoch 3800,\tmetric 5914.4326\n",
      "epoch 4000,\tmetric 6051.9575\n",
      "epoch 4200,\tmetric 6162.5854\n",
      "epoch 4400,\tmetric 6212.7451\n",
      "epoch 4600,\tmetric 6277.2617\n",
      "epoch 4800,\tmetric 6294.2891\n",
      "epoch 4999,\tmetric 6278.5464\n",
      "best 4681.1958 \t (best epoch: 200 ) ---> \n",
      "---> Testing with params {'epochs': 5000, 'eval_rate': 0.04, 'levels': [13, 9, 5, 1], 'learn_rate': 0.35, 'init_methods': [<function kaiming_uniform_ at 0x7fb0f3804af0>], 'fans': ['fan_out'], 'label': 'uniform__fan_out'}\n",
      "epoch 0,\tmetric 14178.6348\n",
      "epoch 200,\tmetric 4656.6567\n",
      "epoch 400,\tmetric 4673.1699\n",
      "epoch 600,\tmetric 4660.4336\n",
      "epoch 800,\tmetric 4504.1089\n",
      "epoch 1000,\tmetric 4349.0298\n",
      "epoch 1200,\tmetric 4530.0713\n",
      "epoch 1400,\tmetric 4327.2148\n",
      "epoch 1600,\tmetric 4598.3062\n",
      "epoch 1800,\tmetric 4711.0645\n",
      "epoch 2000,\tmetric 4568.8203\n",
      "epoch 2200,\tmetric 4574.7236\n",
      "epoch 2400,\tmetric 4482.0649\n",
      "epoch 2600,\tmetric 4543.6753\n",
      "epoch 2800,\tmetric 4673.8354\n",
      "epoch 3000,\tmetric 4832.8447\n",
      "epoch 3200,\tmetric 4808.5449\n",
      "epoch 3400,\tmetric 4835.6978\n",
      "epoch 3600,\tmetric 4826.4458\n",
      "epoch 3800,\tmetric 4750.1128\n",
      "epoch 4000,\tmetric 4911.2251\n",
      "epoch 4200,\tmetric 4939.4209\n",
      "epoch 4400,\tmetric 4887.1562\n",
      "epoch 4600,\tmetric 4839.0977\n",
      "epoch 4800,\tmetric 4863.5093\n",
      "epoch 4999,\tmetric 4920.0547\n",
      "best 4327.2148 \t (best epoch: 1400 ) ---> \n",
      "---> Testing with params {'epochs': 5000, 'eval_rate': 0.04, 'levels': [13, 9, 5, 1], 'learn_rate': 0.01, 'init_methods': [<function kaiming_uniform_ at 0x7fb0f3804af0>], 'fans': ['fan_in', 'fan_out'], 'label': 'uniform__fan_in|fan_out'}\n",
      "epoch 0,\tmetric 14193.8135\n",
      "epoch 200,\tmetric 11303.9902\n",
      "epoch 400,\tmetric 5949.9863\n",
      "epoch 600,\tmetric 5341.5186\n",
      "epoch 800,\tmetric 5021.4355\n",
      "epoch 1000,\tmetric 4827.9663\n",
      "epoch 1200,\tmetric 4762.5713\n",
      "epoch 1400,\tmetric 4659.8726\n",
      "epoch 1600,\tmetric 4620.2612\n",
      "epoch 1800,\tmetric 4581.3184\n",
      "epoch 2000,\tmetric 4547.2803\n",
      "epoch 2200,\tmetric 4581.8760\n",
      "epoch 2400,\tmetric 4637.7759\n",
      "epoch 2600,\tmetric 4672.3867\n",
      "epoch 2800,\tmetric 4676.6035\n",
      "epoch 3000,\tmetric 4629.2314\n",
      "epoch 3200,\tmetric 4555.1660\n",
      "epoch 3400,\tmetric 4492.5293\n",
      "epoch 3600,\tmetric 4461.4834\n",
      "epoch 3800,\tmetric 4451.4741\n",
      "epoch 4000,\tmetric 4442.4570\n",
      "epoch 4200,\tmetric 4469.5229\n",
      "epoch 4400,\tmetric 4503.6421\n",
      "epoch 4600,\tmetric 4529.0137\n",
      "epoch 4800,\tmetric 4565.2290\n",
      "epoch 4999,\tmetric 4605.3960\n",
      "best 4442.4570 \t (best epoch: 4000 ) ---> \n",
      "---> Testing with params {'epochs': 5000, 'eval_rate': 0.04, 'levels': [13, 9, 5, 1], 'learn_rate': 0.03, 'init_methods': [<function kaiming_uniform_ at 0x7fb0f3804af0>], 'fans': ['fan_in', 'fan_out'], 'label': 'uniform__fan_in|fan_out'}\n",
      "epoch 0,\tmetric 14193.5664\n",
      "epoch 200,\tmetric 5575.2959\n",
      "epoch 400,\tmetric 4793.9873\n",
      "epoch 600,\tmetric 4613.5508\n",
      "epoch 800,\tmetric 4481.5972\n",
      "epoch 1000,\tmetric 4403.4355\n",
      "epoch 1200,\tmetric 4411.4204\n",
      "epoch 1400,\tmetric 4471.7168\n",
      "epoch 1600,\tmetric 4502.7134\n",
      "epoch 1800,\tmetric 4520.7104\n",
      "epoch 2000,\tmetric 4566.2725\n",
      "epoch 2200,\tmetric 4619.6558\n",
      "epoch 2400,\tmetric 4467.1646\n",
      "epoch 2600,\tmetric 4367.8062\n",
      "epoch 2800,\tmetric 4344.1650\n",
      "epoch 3000,\tmetric 4284.9199\n",
      "epoch 3200,\tmetric 4269.7383\n",
      "epoch 3400,\tmetric 4243.5493\n",
      "epoch 3600,\tmetric 4199.7754\n",
      "epoch 3800,\tmetric 4156.2759\n",
      "epoch 4000,\tmetric 4104.6211\n",
      "epoch 4200,\tmetric 4075.7852\n",
      "epoch 4400,\tmetric 4044.4358\n",
      "epoch 4600,\tmetric 4006.6211\n",
      "epoch 4800,\tmetric 3989.2744\n",
      "epoch 4999,\tmetric 3977.0063\n",
      "best 3977.0063 \t (best epoch: 4999 ) ---> \n",
      "---> Testing with params {'epochs': 5000, 'eval_rate': 0.04, 'levels': [13, 9, 5, 1], 'learn_rate': 0.06, 'init_methods': [<function kaiming_uniform_ at 0x7fb0f3804af0>], 'fans': ['fan_in', 'fan_out'], 'label': 'uniform__fan_in|fan_out'}\n",
      "epoch 0,\tmetric 14193.1455\n",
      "epoch 200,\tmetric 4733.0728\n",
      "epoch 400,\tmetric 4496.7539\n",
      "epoch 600,\tmetric 4587.3901\n",
      "epoch 800,\tmetric 4633.3325\n",
      "epoch 1000,\tmetric 4660.5640\n",
      "epoch 1200,\tmetric 4663.5483\n",
      "epoch 1400,\tmetric 4794.0996\n",
      "epoch 1600,\tmetric 4826.0757\n",
      "epoch 1800,\tmetric 4932.6484\n",
      "epoch 2000,\tmetric 4981.6650\n",
      "epoch 2200,\tmetric 4915.3115\n",
      "epoch 2400,\tmetric 4912.6357\n",
      "epoch 2600,\tmetric 4898.0215\n",
      "epoch 2800,\tmetric 4949.1650\n",
      "epoch 3000,\tmetric 4783.7021\n",
      "epoch 3200,\tmetric 4776.8506\n",
      "epoch 3400,\tmetric 4773.9131\n",
      "epoch 3600,\tmetric 4848.1577\n",
      "epoch 3800,\tmetric 4888.5337\n",
      "epoch 4000,\tmetric 4869.0864\n",
      "epoch 4200,\tmetric 5089.2715\n",
      "epoch 4400,\tmetric 5236.0278\n",
      "epoch 4600,\tmetric 5467.1450\n",
      "epoch 4800,\tmetric 5782.6323\n",
      "epoch 4999,\tmetric 5939.3008\n",
      "best 4496.7539 \t (best epoch: 400 ) ---> \n",
      "---> Testing with params {'epochs': 5000, 'eval_rate': 0.04, 'levels': [13, 9, 5, 1], 'learn_rate': 0.1, 'init_methods': [<function kaiming_uniform_ at 0x7fb0f3804af0>], 'fans': ['fan_in', 'fan_out'], 'label': 'uniform__fan_in|fan_out'}\n",
      "epoch 0,\tmetric 14192.5234\n",
      "epoch 200,\tmetric 4565.8057\n",
      "epoch 400,\tmetric 4570.6724\n",
      "epoch 600,\tmetric 4621.3408\n",
      "epoch 800,\tmetric 4616.0513\n",
      "epoch 1000,\tmetric 4546.2466\n",
      "epoch 1200,\tmetric 4492.1670\n",
      "epoch 1400,\tmetric 4499.3228\n",
      "epoch 1600,\tmetric 4496.4800\n",
      "epoch 1800,\tmetric 4462.1387\n",
      "epoch 2000,\tmetric 4465.2290\n",
      "epoch 2200,\tmetric 4499.7456\n",
      "epoch 2400,\tmetric 4506.9512\n",
      "epoch 2600,\tmetric 4458.0225\n",
      "epoch 2800,\tmetric 4557.7964\n",
      "epoch 3000,\tmetric 4635.5166\n",
      "epoch 3200,\tmetric 4782.2480\n",
      "epoch 3400,\tmetric 4977.9009\n",
      "epoch 3600,\tmetric 5497.1279\n",
      "epoch 3800,\tmetric 5782.3364\n",
      "epoch 4000,\tmetric 6173.7471\n",
      "epoch 4200,\tmetric 6356.5332\n",
      "epoch 4400,\tmetric 6921.3091\n",
      "epoch 4600,\tmetric 7201.3145\n",
      "epoch 4800,\tmetric 7326.1777\n",
      "epoch 4999,\tmetric 7462.8159\n",
      "best 4458.0225 \t (best epoch: 2600 ) ---> \n",
      "---> Testing with params {'epochs': 5000, 'eval_rate': 0.04, 'levels': [13, 9, 5, 1], 'learn_rate': 0.15, 'init_methods': [<function kaiming_uniform_ at 0x7fb0f3804af0>], 'fans': ['fan_in', 'fan_out'], 'label': 'uniform__fan_in|fan_out'}\n",
      "epoch 0,\tmetric 14191.4932\n",
      "epoch 200,\tmetric 4510.4277\n",
      "epoch 400,\tmetric 4631.5054\n",
      "epoch 600,\tmetric 4626.1089\n",
      "epoch 800,\tmetric 4660.9565\n",
      "epoch 1000,\tmetric 4663.6768\n",
      "epoch 1200,\tmetric 4590.9263\n",
      "epoch 1400,\tmetric 4613.5752\n",
      "epoch 1600,\tmetric 4627.4580\n",
      "epoch 1800,\tmetric 4514.6934\n",
      "epoch 2000,\tmetric 4756.3926\n",
      "epoch 2200,\tmetric 4832.5752\n",
      "epoch 2400,\tmetric 4392.1021\n",
      "epoch 2600,\tmetric 4833.4326\n",
      "epoch 2800,\tmetric 4886.3643\n",
      "epoch 3000,\tmetric 4948.2847\n",
      "epoch 3200,\tmetric 4969.6040\n",
      "epoch 3400,\tmetric 4951.2563\n",
      "epoch 3600,\tmetric 4939.6152\n",
      "epoch 3800,\tmetric 4964.7656\n",
      "epoch 4000,\tmetric 4988.0352\n",
      "epoch 4200,\tmetric 5036.1089\n",
      "epoch 4400,\tmetric 5081.4072\n",
      "epoch 4600,\tmetric 5105.8003\n",
      "epoch 4800,\tmetric 5127.3813\n",
      "epoch 4999,\tmetric 5099.1958\n",
      "best 4392.1021 \t (best epoch: 2400 ) ---> \n",
      "---> Testing with params {'epochs': 5000, 'eval_rate': 0.04, 'levels': [13, 9, 5, 1], 'learn_rate': 0.2, 'init_methods': [<function kaiming_uniform_ at 0x7fb0f3804af0>], 'fans': ['fan_in', 'fan_out'], 'label': 'uniform__fan_in|fan_out'}\n",
      "epoch 0,\tmetric 14190.3174\n",
      "epoch 200,\tmetric 4533.0645\n",
      "epoch 400,\tmetric 4640.1104\n",
      "epoch 600,\tmetric 4622.1230\n",
      "epoch 800,\tmetric 4673.6494\n",
      "epoch 1000,\tmetric 4647.0884\n",
      "epoch 1200,\tmetric 4638.2769\n",
      "epoch 1400,\tmetric 4596.2065\n",
      "epoch 1600,\tmetric 4704.5103\n",
      "epoch 1800,\tmetric 4827.5869\n",
      "epoch 2000,\tmetric 4838.5024\n",
      "epoch 2200,\tmetric 4844.8135\n",
      "epoch 2400,\tmetric 4964.9775\n",
      "epoch 2600,\tmetric 5394.7334\n",
      "epoch 2800,\tmetric 5848.4673\n",
      "epoch 3000,\tmetric 5969.7046\n",
      "epoch 3200,\tmetric 6179.7119\n",
      "epoch 3400,\tmetric 6311.2974\n",
      "epoch 3600,\tmetric 6372.8779\n",
      "epoch 3800,\tmetric 6349.7930\n",
      "epoch 4000,\tmetric 6426.3677\n",
      "epoch 4200,\tmetric 6376.1533\n",
      "epoch 4400,\tmetric 6402.2754\n",
      "epoch 4600,\tmetric 6378.6543\n",
      "epoch 4800,\tmetric 6383.8291\n",
      "epoch 4999,\tmetric 6408.9839\n",
      "best 4533.0645 \t (best epoch: 200 ) ---> \n",
      "---> Testing with params {'epochs': 5000, 'eval_rate': 0.04, 'levels': [13, 9, 5, 1], 'learn_rate': 0.27, 'init_methods': [<function kaiming_uniform_ at 0x7fb0f3804af0>], 'fans': ['fan_in', 'fan_out'], 'label': 'uniform__fan_in|fan_out'}\n",
      "epoch 0,\tmetric 14188.2861\n",
      "epoch 200,\tmetric 4617.4355\n",
      "epoch 400,\tmetric 4697.9624\n",
      "epoch 600,\tmetric 4753.7910\n",
      "epoch 800,\tmetric 4798.6128\n",
      "epoch 1000,\tmetric 4928.5098\n",
      "epoch 1200,\tmetric 4869.0039\n",
      "epoch 1400,\tmetric 4915.4424\n",
      "epoch 1600,\tmetric 5017.7500\n",
      "epoch 1800,\tmetric 5111.7476\n",
      "epoch 2000,\tmetric 5214.1938\n",
      "epoch 2200,\tmetric 5300.1309\n",
      "epoch 2400,\tmetric 5547.6680\n",
      "epoch 2600,\tmetric 6143.8433\n",
      "epoch 2800,\tmetric 6665.7314\n",
      "epoch 3000,\tmetric 6906.4126\n",
      "epoch 3200,\tmetric 6837.4541\n",
      "epoch 3400,\tmetric 6865.1201\n",
      "epoch 3600,\tmetric 7239.4282\n",
      "epoch 3800,\tmetric 7490.2671\n",
      "epoch 4000,\tmetric 7597.9346\n",
      "epoch 4200,\tmetric 7693.6172\n",
      "epoch 4400,\tmetric 7771.0977\n",
      "epoch 4600,\tmetric 7664.9067\n",
      "epoch 4800,\tmetric 7692.9663\n",
      "epoch 4999,\tmetric 7545.2959\n",
      "best 4617.4355 \t (best epoch: 200 ) ---> \n",
      "---> Testing with params {'epochs': 5000, 'eval_rate': 0.04, 'levels': [13, 9, 5, 1], 'learn_rate': 0.35, 'init_methods': [<function kaiming_uniform_ at 0x7fb0f3804af0>], 'fans': ['fan_in', 'fan_out'], 'label': 'uniform__fan_in|fan_out'}\n",
      "epoch 0,\tmetric 14185.2637\n",
      "epoch 200,\tmetric 4663.9849\n",
      "epoch 400,\tmetric 4664.6802\n",
      "epoch 600,\tmetric 4700.2197\n",
      "epoch 800,\tmetric 4808.2637\n",
      "epoch 1000,\tmetric 4687.9766\n",
      "epoch 1200,\tmetric 4572.9224\n",
      "epoch 1400,\tmetric 4385.7705\n",
      "epoch 1600,\tmetric 4406.9556\n",
      "epoch 1800,\tmetric 4538.6938\n",
      "epoch 2000,\tmetric 4625.8999\n",
      "epoch 2200,\tmetric 5114.3550\n",
      "epoch 2400,\tmetric 5222.2104\n",
      "epoch 2600,\tmetric 5469.7959\n",
      "epoch 2800,\tmetric 5597.0210\n",
      "epoch 3000,\tmetric 5644.6133\n",
      "epoch 3200,\tmetric 5778.5259\n",
      "epoch 3400,\tmetric 5715.1479\n",
      "epoch 3600,\tmetric 5822.7695\n",
      "epoch 3800,\tmetric 5717.4434\n",
      "epoch 4000,\tmetric 5760.5312\n",
      "epoch 4200,\tmetric 5773.6011\n",
      "epoch 4400,\tmetric 5732.3110\n",
      "epoch 4600,\tmetric 5758.8848\n",
      "epoch 4800,\tmetric 5811.0938\n",
      "epoch 4999,\tmetric 5807.9443\n",
      "best 4385.7705 \t (best epoch: 1400 ) ---> \n",
      "---> Testing with params {'epochs': 5000, 'eval_rate': 0.04, 'levels': [13, 9, 5, 1], 'learn_rate': 0.01, 'init_methods': [<function kaiming_normal_ at 0x7fb0f3804b80>], 'fans': ['fan_in'], 'label': 'normal__fan_in'}\n",
      "epoch 0,\tmetric 14192.7637\n",
      "epoch 200,\tmetric 10559.4961\n",
      "epoch 400,\tmetric 5685.5942\n",
      "epoch 600,\tmetric 5163.5625\n",
      "epoch 800,\tmetric 4876.5332\n",
      "epoch 1000,\tmetric 4754.1841\n",
      "epoch 1200,\tmetric 4660.3774\n",
      "epoch 1400,\tmetric 4616.3960\n",
      "epoch 1600,\tmetric 4557.7090\n",
      "epoch 1800,\tmetric 4535.8633\n",
      "epoch 2000,\tmetric 4557.1123\n",
      "epoch 2200,\tmetric 4590.0171\n",
      "epoch 2400,\tmetric 4622.4990\n",
      "epoch 2600,\tmetric 4646.8608\n",
      "epoch 2800,\tmetric 4659.1572\n",
      "epoch 3000,\tmetric 4669.2905\n",
      "epoch 3200,\tmetric 4682.1929\n",
      "epoch 3400,\tmetric 4690.1309\n",
      "epoch 3600,\tmetric 4694.8174\n",
      "epoch 3800,\tmetric 4691.6108\n",
      "epoch 4000,\tmetric 4691.6133\n",
      "epoch 4200,\tmetric 4696.3828\n",
      "epoch 4400,\tmetric 4697.1206\n",
      "epoch 4600,\tmetric 4696.6558\n",
      "epoch 4800,\tmetric 4696.1353\n",
      "epoch 4999,\tmetric 4698.9902\n",
      "best 4535.8633 \t (best epoch: 1800 ) ---> \n",
      "---> Testing with params {'epochs': 5000, 'eval_rate': 0.04, 'levels': [13, 9, 5, 1], 'learn_rate': 0.03, 'init_methods': [<function kaiming_normal_ at 0x7fb0f3804b80>], 'fans': ['fan_in'], 'label': 'normal__fan_in'}\n",
      "epoch 0,\tmetric 14192.3271\n",
      "epoch 200,\tmetric 5328.2139\n",
      "epoch 400,\tmetric 4696.5073\n",
      "epoch 600,\tmetric 4519.3838\n",
      "epoch 800,\tmetric 4462.2964\n",
      "epoch 1000,\tmetric 4497.5322\n",
      "epoch 1200,\tmetric 4545.7041\n",
      "epoch 1400,\tmetric 4567.9722\n",
      "epoch 1600,\tmetric 4591.1787\n",
      "epoch 1800,\tmetric 4606.1665\n",
      "epoch 2000,\tmetric 4617.1582\n",
      "epoch 2200,\tmetric 4631.7310\n",
      "epoch 2400,\tmetric 4678.4189\n",
      "epoch 2600,\tmetric 4700.0864\n",
      "epoch 2800,\tmetric 4773.4990\n",
      "epoch 3000,\tmetric 4845.8799\n",
      "epoch 3200,\tmetric 4915.7466\n",
      "epoch 3400,\tmetric 4961.7139\n",
      "epoch 3600,\tmetric 4978.9819\n",
      "epoch 3800,\tmetric 4942.5850\n",
      "epoch 4000,\tmetric 4946.5327\n",
      "epoch 4200,\tmetric 4954.4297\n",
      "epoch 4400,\tmetric 4941.1543\n",
      "epoch 4600,\tmetric 4918.0522\n",
      "epoch 4800,\tmetric 4904.6924\n",
      "epoch 4999,\tmetric 4877.1406\n",
      "best 4462.2964 \t (best epoch: 800 ) ---> \n",
      "---> Testing with params {'epochs': 5000, 'eval_rate': 0.04, 'levels': [13, 9, 5, 1], 'learn_rate': 0.06, 'init_methods': [<function kaiming_normal_ at 0x7fb0f3804b80>], 'fans': ['fan_in'], 'label': 'normal__fan_in'}\n",
      "epoch 0,\tmetric 14191.5967\n",
      "epoch 200,\tmetric 4772.6714\n",
      "epoch 400,\tmetric 4434.7646\n",
      "epoch 600,\tmetric 4500.8877\n",
      "epoch 800,\tmetric 4555.4209\n",
      "epoch 1000,\tmetric 4567.0649\n",
      "epoch 1200,\tmetric 4597.5493\n",
      "epoch 1400,\tmetric 4609.0234\n",
      "epoch 1600,\tmetric 4536.8716\n",
      "epoch 1800,\tmetric 4500.9399\n",
      "epoch 2000,\tmetric 4478.6255\n",
      "epoch 2200,\tmetric 4473.3662\n",
      "epoch 2400,\tmetric 4508.3667\n",
      "epoch 2600,\tmetric 4506.8359\n",
      "epoch 2800,\tmetric 4555.8760\n",
      "epoch 3000,\tmetric 4647.7427\n",
      "epoch 3200,\tmetric 4970.5581\n",
      "epoch 3400,\tmetric 5371.1738\n",
      "epoch 3600,\tmetric 5722.1123\n",
      "epoch 3800,\tmetric 5888.7769\n",
      "epoch 4000,\tmetric 6012.9688\n",
      "epoch 4200,\tmetric 6061.5757\n",
      "epoch 4400,\tmetric 6149.4380\n",
      "epoch 4600,\tmetric 6193.5283\n",
      "epoch 4800,\tmetric 6268.6172\n",
      "epoch 4999,\tmetric 6239.3184\n",
      "best 4434.7646 \t (best epoch: 400 ) ---> \n",
      "---> Testing with params {'epochs': 5000, 'eval_rate': 0.04, 'levels': [13, 9, 5, 1], 'learn_rate': 0.1, 'init_methods': [<function kaiming_normal_ at 0x7fb0f3804b80>], 'fans': ['fan_in'], 'label': 'normal__fan_in'}\n",
      "epoch 0,\tmetric 14190.4824\n",
      "epoch 200,\tmetric 4557.0347\n",
      "epoch 400,\tmetric 4514.9341\n",
      "epoch 600,\tmetric 4575.6997\n",
      "epoch 800,\tmetric 4596.7617\n",
      "epoch 1000,\tmetric 4625.5200\n",
      "epoch 1200,\tmetric 4627.4082\n",
      "epoch 1400,\tmetric 4638.4126\n",
      "epoch 1600,\tmetric 4576.9282\n",
      "epoch 1800,\tmetric 4632.9609\n",
      "epoch 2000,\tmetric 4645.8013\n",
      "epoch 2200,\tmetric 4664.9238\n",
      "epoch 2400,\tmetric 4612.5244\n",
      "epoch 2600,\tmetric 4622.4023\n",
      "epoch 2800,\tmetric 4498.3306\n",
      "epoch 3000,\tmetric 4591.3159\n",
      "epoch 3200,\tmetric 4598.6665\n",
      "epoch 3400,\tmetric 4671.3867\n",
      "epoch 3600,\tmetric 4930.8242\n",
      "epoch 3800,\tmetric 5217.3179\n",
      "epoch 4000,\tmetric 5358.6885\n",
      "epoch 4200,\tmetric 5521.2075\n",
      "epoch 4400,\tmetric 5632.5996\n",
      "epoch 4600,\tmetric 5653.0151\n",
      "epoch 4800,\tmetric 5688.6362\n",
      "epoch 4999,\tmetric 5731.5771\n",
      "best 4498.3306 \t (best epoch: 2800 ) ---> \n",
      "---> Testing with params {'epochs': 5000, 'eval_rate': 0.04, 'levels': [13, 9, 5, 1], 'learn_rate': 0.15, 'init_methods': [<function kaiming_normal_ at 0x7fb0f3804b80>], 'fans': ['fan_in'], 'label': 'normal__fan_in'}\n",
      "epoch 0,\tmetric 14188.8154\n",
      "epoch 200,\tmetric 4468.2241\n",
      "epoch 400,\tmetric 4563.5127\n",
      "epoch 600,\tmetric 4586.5713\n",
      "epoch 800,\tmetric 4643.5889\n",
      "epoch 1000,\tmetric 4670.0293\n",
      "epoch 1200,\tmetric 4667.3203\n",
      "epoch 1400,\tmetric 4614.9932\n",
      "epoch 1600,\tmetric 4627.4956\n",
      "epoch 1800,\tmetric 4632.2983\n",
      "epoch 2000,\tmetric 4533.3232\n",
      "epoch 2200,\tmetric 4619.7891\n",
      "epoch 2400,\tmetric 4578.5303\n",
      "epoch 2600,\tmetric 4320.0479\n",
      "epoch 2800,\tmetric 4275.4214\n",
      "epoch 3000,\tmetric 4283.2412\n",
      "epoch 3200,\tmetric 4381.4727\n",
      "epoch 3400,\tmetric 4447.8657\n",
      "epoch 3600,\tmetric 4403.2095\n",
      "epoch 3800,\tmetric 4467.2949\n",
      "epoch 4000,\tmetric 4568.4331\n",
      "epoch 4200,\tmetric 4570.0146\n",
      "epoch 4400,\tmetric 4636.4863\n",
      "epoch 4600,\tmetric 4636.4673\n",
      "epoch 4800,\tmetric 4690.5127\n",
      "epoch 4999,\tmetric 4747.4731\n",
      "best 4275.4214 \t (best epoch: 2800 ) ---> \n",
      "---> Testing with params {'epochs': 5000, 'eval_rate': 0.04, 'levels': [13, 9, 5, 1], 'learn_rate': 0.2, 'init_methods': [<function kaiming_normal_ at 0x7fb0f3804b80>], 'fans': ['fan_in'], 'label': 'normal__fan_in'}\n",
      "epoch 0,\tmetric 14186.7891\n",
      "epoch 200,\tmetric 4837.2490\n",
      "epoch 400,\tmetric 4994.9395\n",
      "epoch 600,\tmetric 5054.8984\n",
      "epoch 800,\tmetric 5034.0576\n",
      "epoch 1000,\tmetric 5007.4058\n",
      "epoch 1200,\tmetric 4629.1074\n",
      "epoch 1400,\tmetric 4660.3970\n",
      "epoch 1600,\tmetric 4725.4946\n",
      "epoch 1800,\tmetric 4899.1157\n",
      "epoch 2000,\tmetric 5053.8364\n",
      "epoch 2200,\tmetric 5435.3276\n",
      "epoch 2400,\tmetric 5967.4492\n",
      "epoch 2600,\tmetric 6225.5283\n",
      "epoch 2800,\tmetric 6294.8398\n",
      "epoch 3000,\tmetric 6375.8208\n",
      "epoch 3200,\tmetric 6500.2959\n",
      "epoch 3400,\tmetric 6440.5615\n",
      "epoch 3600,\tmetric 6308.8594\n",
      "epoch 3800,\tmetric 6137.6245\n",
      "epoch 4000,\tmetric 6018.3657\n",
      "epoch 4200,\tmetric 5936.6421\n",
      "epoch 4400,\tmetric 5775.9380\n",
      "epoch 4600,\tmetric 5768.3906\n",
      "epoch 4800,\tmetric 5696.7231\n",
      "epoch 4999,\tmetric 5499.3208\n",
      "best 4629.1074 \t (best epoch: 1200 ) ---> \n",
      "---> Testing with params {'epochs': 5000, 'eval_rate': 0.04, 'levels': [13, 9, 5, 1], 'learn_rate': 0.27, 'init_methods': [<function kaiming_normal_ at 0x7fb0f3804b80>], 'fans': ['fan_in'], 'label': 'normal__fan_in'}\n",
      "epoch 0,\tmetric 14183.2539\n",
      "epoch 200,\tmetric 4470.5620\n",
      "epoch 400,\tmetric 4571.1650\n",
      "epoch 600,\tmetric 4564.6499\n",
      "epoch 800,\tmetric 4677.8960\n",
      "epoch 1000,\tmetric 4778.6992\n",
      "epoch 1200,\tmetric 4681.9854\n",
      "epoch 1400,\tmetric 4581.2808\n",
      "epoch 1600,\tmetric 4497.0825\n",
      "epoch 1800,\tmetric 4601.7314\n",
      "epoch 2000,\tmetric 4437.3516\n",
      "epoch 2200,\tmetric 4435.2632\n",
      "epoch 2400,\tmetric 4540.3940\n",
      "epoch 2600,\tmetric 4546.8223\n",
      "epoch 2800,\tmetric 4712.3647\n",
      "epoch 3000,\tmetric 5111.2446\n",
      "epoch 3200,\tmetric 5122.8823\n",
      "epoch 3400,\tmetric 5164.6064\n",
      "epoch 3600,\tmetric 5171.0547\n",
      "epoch 3800,\tmetric 5187.8130\n",
      "epoch 4000,\tmetric 5227.6196\n",
      "epoch 4200,\tmetric 5222.3652\n",
      "epoch 4400,\tmetric 5198.2178\n",
      "epoch 4600,\tmetric 5260.7446\n",
      "epoch 4800,\tmetric 5268.5918\n",
      "epoch 4999,\tmetric 5326.8452\n",
      "best 4435.2632 \t (best epoch: 2200 ) ---> \n",
      "---> Testing with params {'epochs': 5000, 'eval_rate': 0.04, 'levels': [13, 9, 5, 1], 'learn_rate': 0.35, 'init_methods': [<function kaiming_normal_ at 0x7fb0f3804b80>], 'fans': ['fan_in'], 'label': 'normal__fan_in'}\n",
      "epoch 0,\tmetric 14178.0205\n",
      "epoch 200,\tmetric 4537.5186\n",
      "epoch 400,\tmetric 4259.3711\n",
      "epoch 600,\tmetric 4440.9336\n",
      "epoch 800,\tmetric 4456.1030\n",
      "epoch 1000,\tmetric 4720.2305\n",
      "epoch 1200,\tmetric 4980.8408\n",
      "epoch 1400,\tmetric 5155.4062\n",
      "epoch 1600,\tmetric 5391.4131\n",
      "epoch 1800,\tmetric 5653.2554\n",
      "epoch 2000,\tmetric 5704.0786\n",
      "epoch 2200,\tmetric 5773.4277\n",
      "epoch 2400,\tmetric 5877.1001\n",
      "epoch 2600,\tmetric 5770.6421\n",
      "epoch 2800,\tmetric 5760.6748\n",
      "epoch 3000,\tmetric 5716.6904\n",
      "epoch 3200,\tmetric 5740.1597\n",
      "epoch 3400,\tmetric 5692.5215\n",
      "epoch 3600,\tmetric 5739.2998\n",
      "epoch 3800,\tmetric 5824.6440\n",
      "epoch 4000,\tmetric 5962.5918\n",
      "epoch 4200,\tmetric 6000.5210\n",
      "epoch 4400,\tmetric 5904.1997\n",
      "epoch 4600,\tmetric 5903.4795\n",
      "epoch 4800,\tmetric 5852.0977\n",
      "epoch 4999,\tmetric 5885.4570\n",
      "best 4259.3711 \t (best epoch: 400 ) ---> \n",
      "---> Testing with params {'epochs': 5000, 'eval_rate': 0.04, 'levels': [13, 9, 5, 1], 'learn_rate': 0.01, 'init_methods': [<function kaiming_normal_ at 0x7fb0f3804b80>], 'fans': ['fan_out'], 'label': 'normal__fan_out'}\n",
      "epoch 0,\tmetric 14190.3682\n",
      "epoch 200,\tmetric 10155.0469\n",
      "epoch 400,\tmetric 5635.3345\n",
      "epoch 600,\tmetric 5129.5542\n",
      "epoch 800,\tmetric 4844.2827\n",
      "epoch 1000,\tmetric 4713.5518\n",
      "epoch 1200,\tmetric 4601.4790\n",
      "epoch 1400,\tmetric 4551.2329\n",
      "epoch 1600,\tmetric 4481.0435\n",
      "epoch 1800,\tmetric 4486.1753\n",
      "epoch 2000,\tmetric 4539.2500\n",
      "epoch 2200,\tmetric 4587.2578\n",
      "epoch 2400,\tmetric 4626.6543\n",
      "epoch 2600,\tmetric 4627.5381\n",
      "epoch 2800,\tmetric 4642.0659\n",
      "epoch 3000,\tmetric 4634.5967\n",
      "epoch 3200,\tmetric 4599.7715\n",
      "epoch 3400,\tmetric 4562.1118\n",
      "epoch 3600,\tmetric 4541.1895\n",
      "epoch 3800,\tmetric 4492.4448\n",
      "epoch 4000,\tmetric 4450.0396\n",
      "epoch 4200,\tmetric 4395.3965\n",
      "epoch 4400,\tmetric 4348.7573\n",
      "epoch 4600,\tmetric 4330.7432\n",
      "epoch 4800,\tmetric 4344.0923\n",
      "epoch 4999,\tmetric 4357.2510\n",
      "best 4330.7432 \t (best epoch: 4600 ) ---> \n",
      "---> Testing with params {'epochs': 5000, 'eval_rate': 0.04, 'levels': [13, 9, 5, 1], 'learn_rate': 0.03, 'init_methods': [<function kaiming_normal_ at 0x7fb0f3804b80>], 'fans': ['fan_out'], 'label': 'normal__fan_out'}\n",
      "epoch 0,\tmetric 14189.2510\n",
      "epoch 200,\tmetric 5240.3076\n",
      "epoch 400,\tmetric 4633.5952\n",
      "epoch 600,\tmetric 4499.4023\n",
      "epoch 800,\tmetric 4488.2676\n",
      "epoch 1000,\tmetric 4540.9478\n",
      "epoch 1200,\tmetric 4571.9209\n",
      "epoch 1400,\tmetric 4587.5181\n",
      "epoch 1600,\tmetric 4609.4224\n",
      "epoch 1800,\tmetric 4615.6694\n",
      "epoch 2000,\tmetric 4624.0396\n",
      "epoch 2200,\tmetric 4634.5581\n",
      "epoch 2400,\tmetric 4672.7358\n",
      "epoch 2600,\tmetric 4703.7949\n",
      "epoch 2800,\tmetric 4777.7954\n",
      "epoch 3000,\tmetric 4851.0518\n",
      "epoch 3200,\tmetric 4933.3081\n",
      "epoch 3400,\tmetric 4978.7363\n",
      "epoch 3600,\tmetric 4960.8584\n",
      "epoch 3800,\tmetric 4941.2568\n",
      "epoch 4000,\tmetric 4952.2046\n",
      "epoch 4200,\tmetric 4948.3984\n",
      "epoch 4400,\tmetric 4936.7046\n",
      "epoch 4600,\tmetric 4911.9741\n",
      "epoch 4800,\tmetric 4892.8564\n",
      "epoch 4999,\tmetric 4873.4829\n",
      "best 4488.2676 \t (best epoch: 800 ) ---> \n",
      "---> Testing with params {'epochs': 5000, 'eval_rate': 0.04, 'levels': [13, 9, 5, 1], 'learn_rate': 0.06, 'init_methods': [<function kaiming_normal_ at 0x7fb0f3804b80>], 'fans': ['fan_out'], 'label': 'normal__fan_out'}\n",
      "epoch 0,\tmetric 14187.4727\n",
      "epoch 200,\tmetric 4684.3940\n",
      "epoch 400,\tmetric 4446.9375\n",
      "epoch 600,\tmetric 4550.6357\n",
      "epoch 800,\tmetric 4580.8193\n",
      "epoch 1000,\tmetric 4587.1436\n",
      "epoch 1200,\tmetric 4612.3931\n",
      "epoch 1400,\tmetric 4631.1675\n",
      "epoch 1600,\tmetric 4640.9595\n",
      "epoch 1800,\tmetric 4640.8027\n",
      "epoch 2000,\tmetric 4640.0811\n",
      "epoch 2200,\tmetric 4586.1021\n",
      "epoch 2400,\tmetric 4624.4697\n",
      "epoch 2600,\tmetric 4666.1919\n",
      "epoch 2800,\tmetric 4648.6650\n",
      "epoch 3000,\tmetric 4665.0938\n",
      "epoch 3200,\tmetric 4633.4961\n",
      "epoch 3400,\tmetric 4567.4712\n",
      "epoch 3600,\tmetric 4463.7227\n",
      "epoch 3800,\tmetric 4394.2480\n",
      "epoch 4000,\tmetric 4375.0952\n",
      "epoch 4200,\tmetric 4320.6108\n",
      "epoch 4400,\tmetric 4362.3755\n",
      "epoch 4600,\tmetric 4388.1782\n",
      "epoch 4800,\tmetric 4422.9507\n",
      "epoch 4999,\tmetric 4362.1021\n",
      "best 4320.6108 \t (best epoch: 4200 ) ---> \n",
      "---> Testing with params {'epochs': 5000, 'eval_rate': 0.04, 'levels': [13, 9, 5, 1], 'learn_rate': 0.1, 'init_methods': [<function kaiming_normal_ at 0x7fb0f3804b80>], 'fans': ['fan_out'], 'label': 'normal__fan_out'}\n",
      "epoch 0,\tmetric 14184.8975\n",
      "epoch 200,\tmetric 4517.2197\n",
      "epoch 400,\tmetric 4564.4399\n",
      "epoch 600,\tmetric 4656.7710\n",
      "epoch 800,\tmetric 4663.1465\n",
      "epoch 1000,\tmetric 4656.7671\n",
      "epoch 1200,\tmetric 4565.2578\n",
      "epoch 1400,\tmetric 4546.4360\n",
      "epoch 1600,\tmetric 4518.5010\n",
      "epoch 1800,\tmetric 4573.6357\n",
      "epoch 2000,\tmetric 4156.4365\n",
      "epoch 2200,\tmetric 4207.4155\n",
      "epoch 2400,\tmetric 4195.6255\n",
      "epoch 2600,\tmetric 4187.8979\n",
      "epoch 2800,\tmetric 4182.7759\n",
      "epoch 3000,\tmetric 4361.8955\n",
      "epoch 3200,\tmetric 4426.4863\n",
      "epoch 3400,\tmetric 4475.0513\n",
      "epoch 3600,\tmetric 4411.7495\n",
      "epoch 3800,\tmetric 4534.9434\n",
      "epoch 4000,\tmetric 4538.4644\n",
      "epoch 4200,\tmetric 4611.1128\n",
      "epoch 4400,\tmetric 4618.1187\n",
      "epoch 4600,\tmetric 4666.3145\n",
      "epoch 4800,\tmetric 4697.4448\n",
      "epoch 4999,\tmetric 4716.5781\n",
      "best 4156.4365 \t (best epoch: 2000 ) ---> \n",
      "---> Testing with params {'epochs': 5000, 'eval_rate': 0.04, 'levels': [13, 9, 5, 1], 'learn_rate': 0.15, 'init_methods': [<function kaiming_normal_ at 0x7fb0f3804b80>], 'fans': ['fan_out'], 'label': 'normal__fan_out'}\n",
      "epoch 0,\tmetric 14181.3076\n",
      "epoch 200,\tmetric 4532.7710\n",
      "epoch 400,\tmetric 4665.1611\n",
      "epoch 600,\tmetric 4667.6855\n",
      "epoch 800,\tmetric 4634.0620\n",
      "epoch 1000,\tmetric 4495.0962\n",
      "epoch 1200,\tmetric 4463.4263\n",
      "epoch 1400,\tmetric 4209.0161\n",
      "epoch 1600,\tmetric 4098.2598\n",
      "epoch 1800,\tmetric 4136.7827\n",
      "epoch 2000,\tmetric 4068.9014\n",
      "epoch 2200,\tmetric 4166.8770\n",
      "epoch 2400,\tmetric 4259.7808\n",
      "epoch 2600,\tmetric 4337.8965\n",
      "epoch 2800,\tmetric 4355.6543\n",
      "epoch 3000,\tmetric 4325.4409\n",
      "epoch 3200,\tmetric 4405.6147\n",
      "epoch 3400,\tmetric 4478.4995\n",
      "epoch 3600,\tmetric 4471.1138\n",
      "epoch 3800,\tmetric 4509.4302\n",
      "epoch 4000,\tmetric 4360.3638\n",
      "epoch 4200,\tmetric 4564.8706\n",
      "epoch 4400,\tmetric 4475.5386\n",
      "epoch 4600,\tmetric 4474.6484\n",
      "epoch 4800,\tmetric 4400.7930\n",
      "epoch 4999,\tmetric 4292.7500\n",
      "best 4068.9014 \t (best epoch: 2000 ) ---> \n",
      "---> Testing with params {'epochs': 5000, 'eval_rate': 0.04, 'levels': [13, 9, 5, 1], 'learn_rate': 0.2, 'init_methods': [<function kaiming_normal_ at 0x7fb0f3804b80>], 'fans': ['fan_out'], 'label': 'normal__fan_out'}\n",
      "epoch 0,\tmetric 14177.0459\n",
      "epoch 200,\tmetric 4447.9429\n",
      "epoch 400,\tmetric 4538.5449\n",
      "epoch 600,\tmetric 4436.9390\n",
      "epoch 800,\tmetric 4510.3105\n",
      "epoch 1000,\tmetric 4525.0967\n",
      "epoch 1200,\tmetric 4456.9155\n",
      "epoch 1400,\tmetric 4407.7754\n",
      "epoch 1600,\tmetric 4314.6123\n",
      "epoch 1800,\tmetric 4328.3970\n",
      "epoch 2000,\tmetric 4239.0039\n",
      "epoch 2200,\tmetric 4345.1094\n",
      "epoch 2400,\tmetric 4378.9395\n",
      "epoch 2600,\tmetric 4420.1597\n",
      "epoch 2800,\tmetric 4483.4766\n",
      "epoch 3000,\tmetric 4443.9463\n",
      "epoch 3200,\tmetric 4443.9277\n",
      "epoch 3400,\tmetric 4462.9526\n",
      "epoch 3600,\tmetric 4490.1519\n",
      "epoch 3800,\tmetric 4462.9570\n",
      "epoch 4000,\tmetric 4476.7134\n",
      "epoch 4200,\tmetric 4511.0039\n",
      "epoch 4400,\tmetric 4522.9907\n",
      "epoch 4600,\tmetric 4518.4351\n",
      "epoch 4800,\tmetric 4512.8203\n",
      "epoch 4999,\tmetric 4616.0977\n",
      "best 4239.0039 \t (best epoch: 2000 ) ---> \n",
      "---> Testing with params {'epochs': 5000, 'eval_rate': 0.04, 'levels': [13, 9, 5, 1], 'learn_rate': 0.27, 'init_methods': [<function kaiming_normal_ at 0x7fb0f3804b80>], 'fans': ['fan_out'], 'label': 'normal__fan_out'}\n",
      "epoch 0,\tmetric 14170.1553\n",
      "epoch 200,\tmetric 4753.1152\n",
      "epoch 400,\tmetric 4802.2695\n",
      "epoch 600,\tmetric 4772.8579\n",
      "epoch 800,\tmetric 4846.9102\n",
      "epoch 1000,\tmetric 4687.1919\n",
      "epoch 1200,\tmetric 4640.6099\n",
      "epoch 1400,\tmetric 4514.0425\n",
      "epoch 1600,\tmetric 4526.1670\n",
      "epoch 1800,\tmetric 4531.5698\n",
      "epoch 2000,\tmetric 4422.2915\n",
      "epoch 2200,\tmetric 4256.4214\n",
      "epoch 2400,\tmetric 4260.0884\n",
      "epoch 2600,\tmetric 4200.5386\n",
      "epoch 2800,\tmetric 4364.1030\n",
      "epoch 3000,\tmetric 4253.8340\n",
      "epoch 3200,\tmetric 4365.5005\n",
      "epoch 3400,\tmetric 4440.4922\n",
      "epoch 3600,\tmetric 4351.0254\n",
      "epoch 3800,\tmetric 4415.3613\n",
      "epoch 4000,\tmetric 4520.7686\n",
      "epoch 4200,\tmetric 4508.4546\n",
      "epoch 4400,\tmetric 4458.2500\n",
      "epoch 4600,\tmetric 4767.5220\n",
      "epoch 4800,\tmetric 4682.9731\n",
      "epoch 4999,\tmetric 4598.0610\n",
      "best 4200.5386 \t (best epoch: 2600 ) ---> \n",
      "---> Testing with params {'epochs': 5000, 'eval_rate': 0.04, 'levels': [13, 9, 5, 1], 'learn_rate': 0.35, 'init_methods': [<function kaiming_normal_ at 0x7fb0f3804b80>], 'fans': ['fan_out'], 'label': 'normal__fan_out'}\n",
      "epoch 0,\tmetric 14160.6816\n",
      "epoch 200,\tmetric 4839.2373\n",
      "epoch 400,\tmetric 4925.5811\n",
      "epoch 600,\tmetric 4955.3721\n",
      "epoch 800,\tmetric 5009.9771\n",
      "epoch 1000,\tmetric 4840.1060\n",
      "epoch 1200,\tmetric 4396.7656\n",
      "epoch 1400,\tmetric 4324.7275\n",
      "epoch 1600,\tmetric 4376.6245\n",
      "epoch 1800,\tmetric 4332.0278\n",
      "epoch 2000,\tmetric 4352.4351\n",
      "epoch 2200,\tmetric 4224.9600\n",
      "epoch 2400,\tmetric 4291.0088\n",
      "epoch 2600,\tmetric 4255.5747\n",
      "epoch 2800,\tmetric 4182.5718\n",
      "epoch 3000,\tmetric 4175.1504\n",
      "epoch 3200,\tmetric 4237.6182\n",
      "epoch 3400,\tmetric 4209.6719\n",
      "epoch 3600,\tmetric 4234.8521\n",
      "epoch 3800,\tmetric 4264.4922\n",
      "epoch 4000,\tmetric 4449.9883\n",
      "epoch 4200,\tmetric 4340.4536\n",
      "epoch 4400,\tmetric 4240.9976\n",
      "epoch 4600,\tmetric 4346.7559\n",
      "epoch 4800,\tmetric 4778.2812\n",
      "epoch 4999,\tmetric 4582.8613\n",
      "best 4175.1504 \t (best epoch: 3000 ) ---> \n",
      "---> Testing with params {'epochs': 5000, 'eval_rate': 0.04, 'levels': [13, 9, 5, 1], 'learn_rate': 0.01, 'init_methods': [<function kaiming_normal_ at 0x7fb0f3804b80>], 'fans': ['fan_in', 'fan_out'], 'label': 'normal__fan_in|fan_out'}\n",
      "epoch 0,\tmetric 14192.4795\n",
      "epoch 200,\tmetric 10587.4912\n",
      "epoch 400,\tmetric 5678.6680\n",
      "epoch 600,\tmetric 5155.4160\n",
      "epoch 800,\tmetric 4870.1509\n",
      "epoch 1000,\tmetric 4731.2856\n",
      "epoch 1200,\tmetric 4642.9087\n",
      "epoch 1400,\tmetric 4608.2700\n",
      "epoch 1600,\tmetric 4552.6279\n",
      "epoch 1800,\tmetric 4542.9663\n",
      "epoch 2000,\tmetric 4566.9844\n",
      "epoch 2200,\tmetric 4601.3218\n",
      "epoch 2400,\tmetric 4634.3926\n",
      "epoch 2600,\tmetric 4655.3643\n",
      "epoch 2800,\tmetric 4666.6328\n",
      "epoch 3000,\tmetric 4679.2759\n",
      "epoch 3200,\tmetric 4688.1992\n",
      "epoch 3400,\tmetric 4689.7246\n",
      "epoch 3600,\tmetric 4691.1338\n",
      "epoch 3800,\tmetric 4694.1602\n",
      "epoch 4000,\tmetric 4697.7612\n",
      "epoch 4200,\tmetric 4702.3564\n",
      "epoch 4400,\tmetric 4706.9526\n",
      "epoch 4600,\tmetric 4668.8955\n",
      "epoch 4800,\tmetric 4629.8687\n",
      "epoch 4999,\tmetric 4577.4248\n",
      "best 4542.9663 \t (best epoch: 1800 ) ---> \n",
      "---> Testing with params {'epochs': 5000, 'eval_rate': 0.04, 'levels': [13, 9, 5, 1], 'learn_rate': 0.03, 'init_methods': [<function kaiming_normal_ at 0x7fb0f3804b80>], 'fans': ['fan_in', 'fan_out'], 'label': 'normal__fan_in|fan_out'}\n",
      "epoch 0,\tmetric 14191.9648\n",
      "epoch 200,\tmetric 5316.8809\n",
      "epoch 400,\tmetric 4653.7939\n",
      "epoch 600,\tmetric 4507.8857\n",
      "epoch 800,\tmetric 4477.3164\n",
      "epoch 1000,\tmetric 4529.9253\n",
      "epoch 1200,\tmetric 4568.4438\n",
      "epoch 1400,\tmetric 4588.0605\n",
      "epoch 1600,\tmetric 4604.4468\n",
      "epoch 1800,\tmetric 4618.2236\n",
      "epoch 2000,\tmetric 4621.3560\n",
      "epoch 2200,\tmetric 4636.0200\n",
      "epoch 2400,\tmetric 4681.9478\n",
      "epoch 2600,\tmetric 4701.9473\n",
      "epoch 2800,\tmetric 4780.2197\n",
      "epoch 3000,\tmetric 4856.7095\n",
      "epoch 3200,\tmetric 4908.7368\n",
      "epoch 3400,\tmetric 4889.2573\n",
      "epoch 3600,\tmetric 4880.2217\n",
      "epoch 3800,\tmetric 4850.6865\n",
      "epoch 4000,\tmetric 4824.9600\n",
      "epoch 4200,\tmetric 4799.1880\n",
      "epoch 4400,\tmetric 4760.9189\n",
      "epoch 4600,\tmetric 4697.1787\n",
      "epoch 4800,\tmetric 4661.2339\n",
      "epoch 4999,\tmetric 4660.1294\n",
      "best 4477.3164 \t (best epoch: 800 ) ---> \n",
      "---> Testing with params {'epochs': 5000, 'eval_rate': 0.04, 'levels': [13, 9, 5, 1], 'learn_rate': 0.06, 'init_methods': [<function kaiming_normal_ at 0x7fb0f3804b80>], 'fans': ['fan_in', 'fan_out'], 'label': 'normal__fan_in|fan_out'}\n",
      "epoch 0,\tmetric 14191.1162\n",
      "epoch 200,\tmetric 4720.9526\n",
      "epoch 400,\tmetric 4454.1543\n",
      "epoch 600,\tmetric 4541.7788\n",
      "epoch 800,\tmetric 4580.8672\n",
      "epoch 1000,\tmetric 4586.5312\n",
      "epoch 1200,\tmetric 4601.0620\n",
      "epoch 1400,\tmetric 4628.2241\n",
      "epoch 1600,\tmetric 4630.5454\n",
      "epoch 1800,\tmetric 4642.1323\n",
      "epoch 2000,\tmetric 4650.5679\n",
      "epoch 2200,\tmetric 4592.7715\n",
      "epoch 2400,\tmetric 4646.4849\n",
      "epoch 2600,\tmetric 4626.1826\n",
      "epoch 2800,\tmetric 4642.8335\n",
      "epoch 3000,\tmetric 4660.8555\n",
      "epoch 3200,\tmetric 4626.1763\n",
      "epoch 3400,\tmetric 4593.2363\n",
      "epoch 3600,\tmetric 4666.5337\n",
      "epoch 3800,\tmetric 4643.4131\n",
      "epoch 4000,\tmetric 4623.2021\n",
      "epoch 4200,\tmetric 4579.4780\n",
      "epoch 4400,\tmetric 4532.9409\n",
      "epoch 4600,\tmetric 4564.9771\n",
      "epoch 4800,\tmetric 4556.8423\n",
      "epoch 4999,\tmetric 4591.3076\n",
      "best 4454.1543 \t (best epoch: 400 ) ---> \n",
      "---> Testing with params {'epochs': 5000, 'eval_rate': 0.04, 'levels': [13, 9, 5, 1], 'learn_rate': 0.1, 'init_methods': [<function kaiming_normal_ at 0x7fb0f3804b80>], 'fans': ['fan_in', 'fan_out'], 'label': 'normal__fan_in|fan_out'}\n",
      "epoch 0,\tmetric 14189.8359\n",
      "epoch 200,\tmetric 4535.5767\n",
      "epoch 400,\tmetric 4553.3877\n",
      "epoch 600,\tmetric 4603.2891\n",
      "epoch 800,\tmetric 4603.7495\n",
      "epoch 1000,\tmetric 4652.9707\n",
      "epoch 1200,\tmetric 4664.7690\n",
      "epoch 1400,\tmetric 4674.5640\n",
      "epoch 1600,\tmetric 4666.3774\n",
      "epoch 1800,\tmetric 4640.0732\n",
      "epoch 2000,\tmetric 4644.7515\n",
      "epoch 2200,\tmetric 4665.3496\n",
      "epoch 2400,\tmetric 4661.0010\n",
      "epoch 2600,\tmetric 4446.2705\n",
      "epoch 2800,\tmetric 4605.3428\n",
      "epoch 3000,\tmetric 4544.9131\n",
      "epoch 3200,\tmetric 4309.0444\n",
      "epoch 3400,\tmetric 4423.1260\n",
      "epoch 3600,\tmetric 4603.6934\n",
      "epoch 3800,\tmetric 4693.8296\n",
      "epoch 4000,\tmetric 4787.5244\n",
      "epoch 4200,\tmetric 4840.8765\n",
      "epoch 4400,\tmetric 4870.7993\n",
      "epoch 4600,\tmetric 4914.4229\n",
      "epoch 4800,\tmetric 4976.0029\n",
      "epoch 4999,\tmetric 4963.9062\n",
      "best 4309.0444 \t (best epoch: 3200 ) ---> \n",
      "---> Testing with params {'epochs': 5000, 'eval_rate': 0.04, 'levels': [13, 9, 5, 1], 'learn_rate': 0.15, 'init_methods': [<function kaiming_normal_ at 0x7fb0f3804b80>], 'fans': ['fan_in', 'fan_out'], 'label': 'normal__fan_in|fan_out'}\n",
      "epoch 0,\tmetric 14187.9053\n",
      "epoch 200,\tmetric 4517.3848\n",
      "epoch 400,\tmetric 4653.0186\n",
      "epoch 600,\tmetric 4666.1172\n",
      "epoch 800,\tmetric 4637.6724\n",
      "epoch 1000,\tmetric 4514.1650\n",
      "epoch 1200,\tmetric 4552.1572\n",
      "epoch 1400,\tmetric 4285.4312\n",
      "epoch 1600,\tmetric 4152.4175\n",
      "epoch 1800,\tmetric 4094.5940\n",
      "epoch 2000,\tmetric 4137.3477\n",
      "epoch 2200,\tmetric 4182.4819\n",
      "epoch 2400,\tmetric 4178.6958\n",
      "epoch 2600,\tmetric 4202.6758\n",
      "epoch 2800,\tmetric 4212.5239\n",
      "epoch 3000,\tmetric 4251.3540\n",
      "epoch 3200,\tmetric 4272.7275\n",
      "epoch 3400,\tmetric 4343.7329\n",
      "epoch 3600,\tmetric 4314.0132\n",
      "epoch 3800,\tmetric 4376.3911\n",
      "epoch 4000,\tmetric 4509.4507\n",
      "epoch 4200,\tmetric 4479.5635\n",
      "epoch 4400,\tmetric 4590.9824\n",
      "epoch 4600,\tmetric 4637.8159\n",
      "epoch 4800,\tmetric 4681.6533\n",
      "epoch 4999,\tmetric 4736.0942\n",
      "best 4094.5940 \t (best epoch: 1800 ) ---> \n",
      "---> Testing with params {'epochs': 5000, 'eval_rate': 0.04, 'levels': [13, 9, 5, 1], 'learn_rate': 0.2, 'init_methods': [<function kaiming_normal_ at 0x7fb0f3804b80>], 'fans': ['fan_in', 'fan_out'], 'label': 'normal__fan_in|fan_out'}\n",
      "epoch 0,\tmetric 14185.5811\n",
      "epoch 200,\tmetric 4710.0972\n",
      "epoch 400,\tmetric 4723.7441\n",
      "epoch 600,\tmetric 4689.1196\n",
      "epoch 800,\tmetric 4695.3628\n",
      "epoch 1000,\tmetric 4719.9722\n",
      "epoch 1200,\tmetric 4591.3203\n",
      "epoch 1400,\tmetric 4595.1250\n",
      "epoch 1600,\tmetric 4643.3369\n",
      "epoch 1800,\tmetric 4731.4731\n",
      "epoch 2000,\tmetric 4771.6138\n",
      "epoch 2200,\tmetric 4952.8525\n",
      "epoch 2400,\tmetric 4858.9448\n",
      "epoch 2600,\tmetric 4846.4023\n",
      "epoch 2800,\tmetric 4853.6958\n",
      "epoch 3000,\tmetric 4841.6729\n",
      "epoch 3200,\tmetric 4770.1304\n",
      "epoch 3400,\tmetric 4108.4370\n",
      "epoch 3600,\tmetric 3872.0522\n",
      "epoch 3800,\tmetric 3760.9265\n",
      "epoch 4000,\tmetric 3941.5027\n",
      "epoch 4200,\tmetric 4036.2939\n",
      "epoch 4400,\tmetric 4157.9219\n",
      "epoch 4600,\tmetric 4150.8813\n",
      "epoch 4800,\tmetric 4187.9185\n",
      "epoch 4999,\tmetric 4208.4893\n",
      "best 3760.9265 \t (best epoch: 3800 ) ---> \n",
      "---> Testing with params {'epochs': 5000, 'eval_rate': 0.04, 'levels': [13, 9, 5, 1], 'learn_rate': 0.27, 'init_methods': [<function kaiming_normal_ at 0x7fb0f3804b80>], 'fans': ['fan_in', 'fan_out'], 'label': 'normal__fan_in|fan_out'}\n",
      "epoch 0,\tmetric 14181.6631\n",
      "epoch 200,\tmetric 4604.4717\n",
      "epoch 400,\tmetric 4684.0625\n",
      "epoch 600,\tmetric 4607.4614\n",
      "epoch 800,\tmetric 4537.4209\n",
      "epoch 1000,\tmetric 4198.5537\n",
      "epoch 1200,\tmetric 4157.9380\n",
      "epoch 1400,\tmetric 4084.4421\n",
      "epoch 1600,\tmetric 4034.5322\n",
      "epoch 1800,\tmetric 4037.2036\n",
      "epoch 2000,\tmetric 4197.1118\n",
      "epoch 2200,\tmetric 4312.9155\n",
      "epoch 2400,\tmetric 4372.1890\n",
      "epoch 2600,\tmetric 4603.4331\n",
      "epoch 2800,\tmetric 4619.3022\n",
      "epoch 3000,\tmetric 4769.6157\n",
      "epoch 3200,\tmetric 4885.3105\n",
      "epoch 3400,\tmetric 4911.2666\n",
      "epoch 3600,\tmetric 4923.1406\n",
      "epoch 3800,\tmetric 5014.5229\n",
      "epoch 4000,\tmetric 5091.2861\n",
      "epoch 4200,\tmetric 5201.5322\n",
      "epoch 4400,\tmetric 5219.9209\n",
      "epoch 4600,\tmetric 5292.6914\n",
      "epoch 4800,\tmetric 5407.1343\n",
      "epoch 4999,\tmetric 5595.4160\n",
      "best 4034.5322 \t (best epoch: 1600 ) ---> \n",
      "---> Testing with params {'epochs': 5000, 'eval_rate': 0.04, 'levels': [13, 9, 5, 1], 'learn_rate': 0.35, 'init_methods': [<function kaiming_normal_ at 0x7fb0f3804b80>], 'fans': ['fan_in', 'fan_out'], 'label': 'normal__fan_in|fan_out'}\n",
      "epoch 0,\tmetric 14175.9336\n",
      "epoch 200,\tmetric 4684.0122\n",
      "epoch 400,\tmetric 4390.6084\n",
      "epoch 600,\tmetric 4155.4941\n",
      "epoch 800,\tmetric 4184.3242\n",
      "epoch 1000,\tmetric 4208.6851\n",
      "epoch 1200,\tmetric 4195.1763\n",
      "epoch 1400,\tmetric 4206.9043\n",
      "epoch 1600,\tmetric 4254.9370\n",
      "epoch 1800,\tmetric 4453.7642\n",
      "epoch 2000,\tmetric 4537.4741\n",
      "epoch 2200,\tmetric 4574.5518\n",
      "epoch 2400,\tmetric 4483.7939\n",
      "epoch 2600,\tmetric 4573.0200\n",
      "epoch 2800,\tmetric 4666.7715\n",
      "epoch 3000,\tmetric 4636.1069\n",
      "epoch 3200,\tmetric 4630.5757\n",
      "epoch 3400,\tmetric 4768.0879\n",
      "epoch 3600,\tmetric 4915.9590\n",
      "epoch 3800,\tmetric 4837.0547\n",
      "epoch 4000,\tmetric 4969.2759\n",
      "epoch 4200,\tmetric 5057.1558\n",
      "epoch 4400,\tmetric 4980.4443\n",
      "epoch 4600,\tmetric 5036.7520\n",
      "epoch 4800,\tmetric 5149.0107\n",
      "epoch 4999,\tmetric 5074.5156\n",
      "best 4155.4941 \t (best epoch: 600 ) ---> \n",
      "CPU times: user 15min, sys: 3.62 s, total: 15min 4s\n",
      "Wall time: 15min 11s\n"
     ]
    }
   ],
   "source": [
    "%%time\n",
    "t4 = TestLearnRate([.01,.03,.06,.1,.15,.2,.27,.35],params={'levels': [13,9,5,1]},\n",
    "                   epochs={'epochs':5000, 'eval_rate':.04}  ,random_state = 123456789 )\n",
    "t4.run()"
   ]
  },
  {
   "cell_type": "code",
   "execution_count": 40,
   "id": "cf3634eb",
   "metadata": {},
   "outputs": [
    {
     "data": {
      "image/png": "[encoded data removed]",
      "text/plain": [
       "<Figure size 1440x720 with 1 Axes>"
      ]
     },
     "metadata": {
      "needs_background": "light"
     },
     "output_type": "display_data"
    }
   ],
   "source": [
    "t4.plot(ylim=(3500,7000),figsize=(20,10), styles=['r', 'g', 'b', 'r:','g:','b:'])"
   ]
  },
  {
   "cell_type": "markdown",
   "id": "7bc5bfab",
   "metadata": {},
   "source": [
    "Резльтаты близки и относительно мало зависят от параметров инициализации"
   ]
  },
  {
   "cell_type": "code",
   "execution_count": 41,
   "id": "d4f27509",
   "metadata": {},
   "outputs": [
    {
     "data": {
      "image/png": "[encoded data removed]",
      "text/plain": [
       "<Figure size 1440x720 with 1 Axes>"
      ]
     },
     "metadata": {
      "needs_background": "light"
     },
     "output_type": "display_data"
    }
   ],
   "source": [
    "t4.plot(ylim=(3500,5000),figsize=(20,10), styles=['r', 'g', 'b', 'r:','g:','b:'])"
   ]
  },
  {
   "cell_type": "markdown",
   "id": "1369ee06",
   "metadata": {},
   "source": [
    "Более близкий взгляд показывает колебания метрики в диапазоне 3700-4600 \n",
    "Для финалного теста выбрана скорость .2  для линии  normal initialization, fan_in| fan_out "
   ]
  },
  {
   "cell_type": "markdown",
   "id": "4ccca6a1",
   "metadata": {},
   "source": [
    "### Финальный тест"
   ]
  },
  {
   "cell_type": "code",
   "execution_count": 42,
   "id": "295f7246",
   "metadata": {},
   "outputs": [
    {
     "name": "stdout",
     "output_type": "stream",
     "text": [
      "---> Testing with params {'levels': [13, 9, 5, 1], 'learn_rate': 0.2, 'init_methods': [<function kaiming_normal_ at 0x7fb0f3804b80>], 'fans': ['fan_in', 'fan_out'], 'epochs': 3800, 'eval_rate': 0.04}\n",
      "epoch 0,\tmetric 14185.5811\n",
      "epoch 152,\tmetric 4678.9434\n",
      "epoch 304,\tmetric 4725.8604\n",
      "epoch 456,\tmetric 4711.1802\n",
      "epoch 608,\tmetric 4681.0625\n",
      "epoch 760,\tmetric 4677.9219\n",
      "epoch 912,\tmetric 4698.0771\n",
      "epoch 1064,\tmetric 4684.4082\n",
      "epoch 1216,\tmetric 4639.8369\n",
      "epoch 1368,\tmetric 4676.8276\n",
      "epoch 1520,\tmetric 4731.8862\n",
      "epoch 1672,\tmetric 4699.8540\n",
      "epoch 1824,\tmetric 4691.5068\n",
      "epoch 1976,\tmetric 4692.7847\n",
      "epoch 2128,\tmetric 4935.5376\n",
      "epoch 2280,\tmetric 4891.1172\n",
      "epoch 2432,\tmetric 4821.0684\n",
      "epoch 2584,\tmetric 4829.3228\n",
      "epoch 2736,\tmetric 4843.4771\n",
      "epoch 2888,\tmetric 4784.5093\n",
      "epoch 3040,\tmetric 4804.4438\n",
      "epoch 3192,\tmetric 4743.4478\n",
      "epoch 3344,\tmetric 4154.9482\n",
      "epoch 3496,\tmetric 4011.9758\n",
      "epoch 3648,\tmetric 3768.8523\n",
      "epoch 3799,\tmetric 3868.2329\n",
      "best 3768.8523 \t (best epoch: 3648 ) ---> \n"
     ]
    }
   ],
   "source": [
    "params={'levels': [13,9,5,1], \n",
    "        'learn_rate':.2,\n",
    "        'init_methods':[nn.init.kaiming_normal_],'fans':['fan_in','fan_out'],\n",
    "        'epochs':3800, 'eval_rate':.04 \n",
    "       }\n",
    "t_final= Teacher( params,random_state=123456789 )\n",
    "t_final.run()"
   ]
  },
  {
   "cell_type": "code",
   "execution_count": 43,
   "id": "c61f7de0",
   "metadata": {},
   "outputs": [
    {
     "name": "stdout",
     "output_type": "stream",
     "text": [
      " Результат финального теста R2:0.8284, \tRMSE: 3868 \n"
     ]
    },
    {
     "data": {
      "image/png": "[encoded data removed]",
      "text/plain": [
       "<Figure size 1440x432 with 1 Axes>"
      ]
     },
     "metadata": {
      "needs_background": "light"
     },
     "output_type": "display_data"
    }
   ],
   "source": [
    "final_preds = t_final.final_preds.detach().numpy().flatten()\n",
    "r2 = r2_score(y_te.numpy(),final_preds )\n",
    "final_rmse = rmse(y_te.numpy(),final_preds )\n",
    "print(f\" Результат финального теста R2:{r2:.4f}, \\tRMSE: {final_rmse:.0f} \" )\n",
    "\n",
    "plot_match_bar( pd.DataFrame({'target': y_te.numpy().flatten(),'pred':final_preds},index= i_te)\n",
    "               ,'Базовое предсказание температуры звезды')"
   ]
  },
  {
   "cell_type": "markdown",
   "id": "9e3eadaf",
   "metadata": {},
   "source": [
    "Картинка выглядит лучше, визуально ошибок для низкотепмературных звезд не видно, для высокотемпературных наблюдаются ошибки в обе стороны, более- менее сбалансированные  \n",
    "Однако есть несколько объектов для которых прогноз  отличается от факта примерно вдвое "
   ]
  },
  {
   "cell_type": "markdown",
   "id": "accurate-infrastructure",
   "metadata": {},
   "source": [
    "## Выводы"
   ]
  },
  {
   "cell_type": "markdown",
   "id": "b0d56440",
   "metadata": {},
   "source": [
    "* Для анализа использовался набор данны с 240 наблюдениями, 3мя числовыми и 2мя категориальными признаками\n",
    "* Из них проверки модели использованы 60 наблюдений, стратифмцированных по классу звезды \n",
    "* По результатам исследования лучшей оказалась четрехслойная модель с количеством нейронов 13-9-5-1\n",
    "* Эта модель позволяет предсказывать температуру звезды с ошибкой меньше 4000 по метрике RMSE \n",
    "* Для обучения модели требуется 3800 эпох при скорости обучения 0.2\n",
    "* Модели без настройки гиперпараметров обычно предсказывают результат с метрикой r2=0.72-0.75, что хуже линейной регрессии \n",
    "* Возможно модели чувствительны к способу инициализации весов и даже к стартовому значению генератора случайных чисел; этот вопрос требует дополнительного исследования  "
   ]
  },
  {
   "cell_type": "markdown",
   "id": "c32a4aef",
   "metadata": {},
   "source": [
    "<b>Комментарий от ревьюера v1</b>\n",
    "\n",
    "\n",
    "    \n",
    "# Общий вывод\n",
    "\n",
    "Спасибо за работу, у тебя получился хороший проект. Есть ряд замечаний, после устранения которых я готов буду принять твою работу:\n",
    "</div>\n",
    "\n",
    "<div class=\"alert alert-block alert-danger\">\n",
    "❌ В качестве ключевой метрики по условию необходимо выбрать метрику RMSE.По ней мы будем выбирать лучшее решение.\n",
    "    \n",
    "</div>\n",
    "\n",
    "<div class=\"alert alert-warning\">\n",
    " \n",
    "⚠️ В выводы стоит добавить информацию о статистике выборки - количестве наблюдений, числе признаков (категориальных и числовых).\n",
    "        \n",
    "⚠️ Стандартизацию стоит делать после разбиения на `train` и `test`. Подбирать параметры стандартизации необходимо на `train`, а применять на `test`. Это поможет избежать утечки информации из train выборки.\n",
    "        \n",
    "⚠️ В момент валидации (`model.eval`) данных стоит отключать вычиления градиентов (`torch.no_grad()`).\n",
    "</div>\n",
    "    \n",
    "</div>"
   ]
  },
  {
   "cell_type": "markdown",
   "id": "de5e9b67",
   "metadata": {},
   "source": [
    "<b>Комментарий от ревьюера v2</b>\n",
    "<div class=\"alert alert-block alert-success\">\n",
    "\n",
    "    \n",
    "# Общий вывод\n",
    "\n",
    "✔️ Спасибо за работу, я ее принимаю. Удачи в учебе!\n",
    "</div>"
   ]
  }
 ],
 "metadata": {
  "ExecuteTimeLog": [
   {
    "duration": 48,
    "start_time": "2023-08-25T11:43:26.976Z"
   },
   {
    "duration": 417,
    "start_time": "2023-08-25T11:43:30.658Z"
   },
   {
    "duration": 86,
    "start_time": "2023-08-25T11:43:32.555Z"
   },
   {
    "duration": 13,
    "start_time": "2023-08-25T11:44:11.879Z"
   },
   {
    "duration": 35,
    "start_time": "2023-08-25T11:46:56.449Z"
   },
   {
    "duration": 7,
    "start_time": "2023-08-25T11:47:25.190Z"
   },
   {
    "duration": 16,
    "start_time": "2023-08-25T11:47:33.731Z"
   },
   {
    "duration": 519,
    "start_time": "2023-08-25T11:48:42.130Z"
   },
   {
    "duration": 44,
    "start_time": "2023-08-25T11:51:09.602Z"
   },
   {
    "duration": 16,
    "start_time": "2023-08-25T11:51:13.780Z"
   },
   {
    "duration": 10,
    "start_time": "2023-08-25T11:55:42.979Z"
   },
   {
    "duration": 455,
    "start_time": "2023-08-25T11:57:28.748Z"
   },
   {
    "duration": 5,
    "start_time": "2023-08-25T11:57:39.693Z"
   },
   {
    "duration": 513,
    "start_time": "2023-08-25T11:57:49.557Z"
   },
   {
    "duration": 1780,
    "start_time": "2023-08-25T11:58:21.149Z"
   },
   {
    "duration": 9,
    "start_time": "2023-08-25T11:58:48.698Z"
   },
   {
    "duration": 117,
    "start_time": "2023-08-25T11:59:33.818Z"
   },
   {
    "duration": 131,
    "start_time": "2023-08-25T12:01:55.483Z"
   },
   {
    "duration": 138,
    "start_time": "2023-08-25T12:02:43.753Z"
   },
   {
    "duration": 6,
    "start_time": "2023-08-25T12:03:29.788Z"
   },
   {
    "duration": 6,
    "start_time": "2023-08-25T12:04:07.925Z"
   },
   {
    "duration": 42,
    "start_time": "2023-08-25T14:55:51.118Z"
   },
   {
    "duration": 709,
    "start_time": "2023-08-25T14:55:57.388Z"
   },
   {
    "duration": 3,
    "start_time": "2023-08-25T14:56:09.258Z"
   },
   {
    "duration": 3,
    "start_time": "2023-08-25T14:56:26.991Z"
   },
   {
    "duration": 33,
    "start_time": "2023-08-25T14:56:52.759Z"
   },
   {
    "duration": 7,
    "start_time": "2023-08-25T14:57:09.015Z"
   },
   {
    "duration": 7,
    "start_time": "2023-08-25T14:57:18.870Z"
   },
   {
    "duration": 3,
    "start_time": "2023-08-25T14:57:34.466Z"
   },
   {
    "duration": 3,
    "start_time": "2023-08-25T14:57:45.021Z"
   },
   {
    "duration": 3,
    "start_time": "2023-08-25T14:58:27.287Z"
   },
   {
    "duration": 3,
    "start_time": "2023-08-25T15:00:08.209Z"
   },
   {
    "duration": 7,
    "start_time": "2023-08-25T15:00:22.140Z"
   },
   {
    "duration": 3,
    "start_time": "2023-08-25T15:00:28.058Z"
   },
   {
    "duration": 3,
    "start_time": "2023-08-25T15:01:09.695Z"
   },
   {
    "duration": 3,
    "start_time": "2023-08-25T15:01:17.543Z"
   },
   {
    "duration": 6,
    "start_time": "2023-08-25T15:01:24.311Z"
   },
   {
    "duration": 24,
    "start_time": "2023-08-25T15:01:44.063Z"
   },
   {
    "duration": 12,
    "start_time": "2023-08-25T15:01:49.296Z"
   },
   {
    "duration": 12,
    "start_time": "2023-08-25T15:01:55.608Z"
   },
   {
    "duration": 4,
    "start_time": "2023-08-25T15:02:06.097Z"
   },
   {
    "duration": 3,
    "start_time": "2023-08-25T15:02:17.738Z"
   },
   {
    "duration": 8,
    "start_time": "2023-08-25T15:02:36.373Z"
   },
   {
    "duration": 9,
    "start_time": "2023-08-25T15:02:43.257Z"
   },
   {
    "duration": 3,
    "start_time": "2023-08-25T15:03:02.460Z"
   },
   {
    "duration": 3,
    "start_time": "2023-08-25T15:03:43.031Z"
   },
   {
    "duration": 4,
    "start_time": "2023-08-25T15:03:50.457Z"
   },
   {
    "duration": 7,
    "start_time": "2023-08-25T15:03:56.644Z"
   },
   {
    "duration": 4,
    "start_time": "2023-08-25T15:04:34.144Z"
   },
   {
    "duration": 3,
    "start_time": "2023-08-25T15:04:40.242Z"
   },
   {
    "duration": 3,
    "start_time": "2023-08-25T15:04:48.877Z"
   },
   {
    "duration": 3,
    "start_time": "2023-08-25T15:08:58.058Z"
   },
   {
    "duration": 3,
    "start_time": "2023-08-25T15:09:09.856Z"
   },
   {
    "duration": 3,
    "start_time": "2023-08-25T15:09:17.302Z"
   },
   {
    "duration": 93,
    "start_time": "2023-08-25T15:13:09.423Z"
   },
   {
    "duration": 11,
    "start_time": "2023-08-25T15:13:20.328Z"
   },
   {
    "duration": 9,
    "start_time": "2023-08-25T15:15:18.290Z"
   },
   {
    "duration": 10,
    "start_time": "2023-08-25T15:16:05.074Z"
   },
   {
    "duration": 5,
    "start_time": "2023-08-25T15:16:17.691Z"
   },
   {
    "duration": 5,
    "start_time": "2023-08-25T15:17:12.056Z"
   },
   {
    "duration": 4,
    "start_time": "2023-08-25T15:17:23.875Z"
   },
   {
    "duration": 4,
    "start_time": "2023-08-25T15:18:01.162Z"
   },
   {
    "duration": 3,
    "start_time": "2023-08-25T15:18:30.817Z"
   },
   {
    "duration": 4,
    "start_time": "2023-08-25T15:19:01.031Z"
   },
   {
    "duration": 6,
    "start_time": "2023-08-25T15:19:46.573Z"
   },
   {
    "duration": 5,
    "start_time": "2023-08-25T15:20:16.914Z"
   },
   {
    "duration": 6,
    "start_time": "2023-08-25T15:20:38.679Z"
   },
   {
    "duration": 4,
    "start_time": "2023-08-25T15:20:56.726Z"
   },
   {
    "duration": 5,
    "start_time": "2023-08-25T15:21:45.018Z"
   },
   {
    "duration": 11,
    "start_time": "2023-08-25T15:22:15.374Z"
   },
   {
    "duration": 11,
    "start_time": "2023-08-25T15:22:38.031Z"
   },
   {
    "duration": 7,
    "start_time": "2023-08-25T15:24:24.446Z"
   },
   {
    "duration": 5,
    "start_time": "2023-08-25T15:24:53.338Z"
   },
   {
    "duration": 3,
    "start_time": "2023-08-25T15:25:52.164Z"
   },
   {
    "duration": 4,
    "start_time": "2023-08-25T15:26:19.829Z"
   },
   {
    "duration": 4,
    "start_time": "2023-08-25T15:26:45.273Z"
   },
   {
    "duration": 4,
    "start_time": "2023-08-25T15:30:41.918Z"
   },
   {
    "duration": 4,
    "start_time": "2023-08-25T15:31:13.923Z"
   },
   {
    "duration": 3,
    "start_time": "2023-08-25T15:32:43.541Z"
   },
   {
    "duration": 8,
    "start_time": "2023-08-25T15:34:02.493Z"
   },
   {
    "duration": 89,
    "start_time": "2023-08-25T15:34:09.788Z"
   },
   {
    "duration": 17,
    "start_time": "2023-08-25T15:34:16.604Z"
   },
   {
    "duration": 8,
    "start_time": "2023-08-25T15:34:23.493Z"
   },
   {
    "duration": 7,
    "start_time": "2023-08-25T15:34:33.553Z"
   },
   {
    "duration": 8,
    "start_time": "2023-08-25T15:35:12.385Z"
   },
   {
    "duration": 7,
    "start_time": "2023-08-25T15:36:02.478Z"
   },
   {
    "duration": 6,
    "start_time": "2023-08-25T15:36:08.425Z"
   },
   {
    "duration": 8,
    "start_time": "2023-08-25T15:56:24.690Z"
   },
   {
    "duration": 47,
    "start_time": "2023-08-25T17:59:37.179Z"
   },
   {
    "duration": 9,
    "start_time": "2023-08-25T17:59:58.643Z"
   },
   {
    "duration": 4,
    "start_time": "2023-08-25T18:00:08.379Z"
   },
   {
    "duration": 14,
    "start_time": "2023-08-25T18:01:39.740Z"
   },
   {
    "duration": 846,
    "start_time": "2023-08-25T18:01:48.984Z"
   },
   {
    "duration": 82,
    "start_time": "2023-08-25T18:01:50.248Z"
   },
   {
    "duration": 19,
    "start_time": "2023-08-25T18:01:56.362Z"
   },
   {
    "duration": 6,
    "start_time": "2023-08-25T18:02:04.227Z"
   },
   {
    "duration": 11,
    "start_time": "2023-08-25T18:02:34.481Z"
   },
   {
    "duration": 636,
    "start_time": "2023-08-25T18:02:55.568Z"
   },
   {
    "duration": 1513,
    "start_time": "2023-08-26T19:47:11.411Z"
   },
   {
    "duration": 102,
    "start_time": "2023-08-26T19:47:18.526Z"
   },
   {
    "duration": 16,
    "start_time": "2023-08-26T19:47:25.784Z"
   },
   {
    "duration": 7,
    "start_time": "2023-08-26T19:47:40.085Z"
   },
   {
    "duration": 8,
    "start_time": "2023-08-26T19:48:26.724Z"
   },
   {
    "duration": 624,
    "start_time": "2023-08-26T19:48:47.242Z"
   },
   {
    "duration": 574,
    "start_time": "2023-08-26T19:50:26.437Z"
   },
   {
    "duration": 10,
    "start_time": "2023-08-26T19:51:44.401Z"
   },
   {
    "duration": 19,
    "start_time": "2023-08-26T19:52:23.278Z"
   },
   {
    "duration": 12,
    "start_time": "2023-08-26T19:53:36.625Z"
   },
   {
    "duration": 11,
    "start_time": "2023-08-26T19:54:20.429Z"
   },
   {
    "duration": 17,
    "start_time": "2023-08-26T19:54:27.318Z"
   },
   {
    "duration": 1121,
    "start_time": "2023-08-26T19:56:33.885Z"
   },
   {
    "duration": 67,
    "start_time": "2023-08-26T19:57:25.168Z"
   },
   {
    "duration": 14,
    "start_time": "2023-08-26T19:58:40.209Z"
   },
   {
    "duration": 11,
    "start_time": "2023-08-26T19:58:57.810Z"
   },
   {
    "duration": 9,
    "start_time": "2023-08-26T19:59:08.819Z"
   },
   {
    "duration": 6,
    "start_time": "2023-08-26T19:59:23.116Z"
   },
   {
    "duration": 10,
    "start_time": "2023-08-26T20:02:40.412Z"
   },
   {
    "duration": 11,
    "start_time": "2023-08-26T20:03:56.610Z"
   },
   {
    "duration": 17,
    "start_time": "2023-08-26T20:05:06.180Z"
   },
   {
    "duration": 11,
    "start_time": "2023-08-26T20:05:17.741Z"
   },
   {
    "duration": 23,
    "start_time": "2023-08-26T20:08:16.755Z"
   },
   {
    "duration": 18,
    "start_time": "2023-08-26T20:12:11.080Z"
   },
   {
    "duration": 190,
    "start_time": "2023-08-26T20:13:24.933Z"
   },
   {
    "duration": 169,
    "start_time": "2023-08-26T20:14:32.473Z"
   },
   {
    "duration": 738,
    "start_time": "2023-08-26T20:16:18.766Z"
   },
   {
    "duration": 36,
    "start_time": "2023-08-26T20:17:35.048Z"
   },
   {
    "duration": 17,
    "start_time": "2023-08-26T20:19:26.496Z"
   },
   {
    "duration": 36,
    "start_time": "2023-08-26T20:19:47.078Z"
   },
   {
    "duration": 128,
    "start_time": "2023-08-27T10:02:26.731Z"
   },
   {
    "duration": 43,
    "start_time": "2023-08-27T10:02:36.811Z"
   },
   {
    "duration": 43,
    "start_time": "2023-08-27T10:03:06.005Z"
   },
   {
    "duration": 5,
    "start_time": "2023-08-27T10:03:06.818Z"
   },
   {
    "duration": 1515,
    "start_time": "2023-08-27T10:03:13.680Z"
   },
   {
    "duration": 91,
    "start_time": "2023-08-27T10:03:17.701Z"
   },
   {
    "duration": 17,
    "start_time": "2023-08-27T10:03:18.203Z"
   },
   {
    "duration": 7,
    "start_time": "2023-08-27T10:03:19.388Z"
   },
   {
    "duration": 8,
    "start_time": "2023-08-27T10:03:20.348Z"
   },
   {
    "duration": 6,
    "start_time": "2023-08-27T10:03:21.374Z"
   },
   {
    "duration": 612,
    "start_time": "2023-08-27T10:03:22.358Z"
   },
   {
    "duration": 17,
    "start_time": "2023-08-27T10:03:23.173Z"
   },
   {
    "duration": 18,
    "start_time": "2023-08-27T10:03:24.710Z"
   },
   {
    "duration": 183,
    "start_time": "2023-08-27T10:03:26.303Z"
   },
   {
    "duration": 16,
    "start_time": "2023-08-27T10:03:28.754Z"
   },
   {
    "duration": 129,
    "start_time": "2023-08-27T10:03:48.245Z"
   },
   {
    "duration": 15,
    "start_time": "2023-08-27T10:03:53.995Z"
   },
   {
    "duration": 14,
    "start_time": "2023-08-27T10:04:23.490Z"
   },
   {
    "duration": 9,
    "start_time": "2023-08-27T10:05:44.263Z"
   },
   {
    "duration": 14,
    "start_time": "2023-08-27T10:06:07.773Z"
   },
   {
    "duration": 10,
    "start_time": "2023-08-27T10:07:52.832Z"
   },
   {
    "duration": 8,
    "start_time": "2023-08-27T10:09:13.183Z"
   },
   {
    "duration": 7,
    "start_time": "2023-08-27T10:09:21.850Z"
   },
   {
    "duration": 5,
    "start_time": "2023-08-27T10:09:44.745Z"
   },
   {
    "duration": 12,
    "start_time": "2023-08-27T10:13:06.832Z"
   },
   {
    "duration": 21,
    "start_time": "2023-08-27T10:13:56.562Z"
   },
   {
    "duration": 19,
    "start_time": "2023-08-27T10:14:09.063Z"
   },
   {
    "duration": 5,
    "start_time": "2023-08-27T10:14:57.433Z"
   },
   {
    "duration": 20,
    "start_time": "2023-08-27T10:15:01.154Z"
   },
   {
    "duration": 13,
    "start_time": "2023-08-27T10:16:12.566Z"
   },
   {
    "duration": 4,
    "start_time": "2023-08-27T10:16:22.894Z"
   },
   {
    "duration": 9,
    "start_time": "2023-08-27T10:16:36.593Z"
   },
   {
    "duration": 8,
    "start_time": "2023-08-27T10:16:43.761Z"
   },
   {
    "duration": 3,
    "start_time": "2023-08-27T10:17:25.313Z"
   },
   {
    "duration": 57,
    "start_time": "2023-08-27T14:35:08.184Z"
   },
   {
    "duration": 8,
    "start_time": "2023-08-27T14:35:16.201Z"
   },
   {
    "duration": 1515,
    "start_time": "2023-08-27T14:35:24.503Z"
   },
   {
    "duration": 2549,
    "start_time": "2023-08-27T14:35:56.805Z"
   },
   {
    "duration": 5,
    "start_time": "2023-08-27T14:35:59.357Z"
   },
   {
    "duration": 243,
    "start_time": "2023-08-27T14:35:59.366Z"
   },
   {
    "duration": 14,
    "start_time": "2023-08-27T14:35:59.611Z"
   },
   {
    "duration": 7,
    "start_time": "2023-08-27T14:35:59.627Z"
   },
   {
    "duration": 7,
    "start_time": "2023-08-27T14:35:59.635Z"
   },
   {
    "duration": 7,
    "start_time": "2023-08-27T14:35:59.644Z"
   },
   {
    "duration": 672,
    "start_time": "2023-08-27T14:35:59.653Z"
   },
   {
    "duration": 19,
    "start_time": "2023-08-27T14:36:00.326Z"
   },
   {
    "duration": 73,
    "start_time": "2023-08-27T14:36:00.347Z"
   },
   {
    "duration": 215,
    "start_time": "2023-08-27T14:36:00.422Z"
   },
   {
    "duration": 8,
    "start_time": "2023-08-27T14:36:00.639Z"
   },
   {
    "duration": 67,
    "start_time": "2023-08-27T14:36:00.649Z"
   },
   {
    "duration": 63,
    "start_time": "2023-08-27T14:36:00.718Z"
   },
   {
    "duration": 93,
    "start_time": "2023-08-27T14:36:00.783Z"
   },
   {
    "duration": 61,
    "start_time": "2023-08-27T14:36:00.878Z"
   },
   {
    "duration": 519,
    "start_time": "2023-08-27T14:36:00.941Z"
   },
   {
    "duration": 0,
    "start_time": "2023-08-27T14:36:01.462Z"
   },
   {
    "duration": 0,
    "start_time": "2023-08-27T14:36:01.464Z"
   },
   {
    "duration": 9,
    "start_time": "2023-08-27T14:37:58.194Z"
   },
   {
    "duration": 13,
    "start_time": "2023-08-27T14:43:01.615Z"
   },
   {
    "duration": 11,
    "start_time": "2023-08-27T14:43:31.412Z"
   },
   {
    "duration": 22,
    "start_time": "2023-08-27T14:43:49.693Z"
   },
   {
    "duration": 27,
    "start_time": "2023-08-27T14:43:56.550Z"
   },
   {
    "duration": 18,
    "start_time": "2023-08-27T14:44:01.281Z"
   },
   {
    "duration": 11,
    "start_time": "2023-08-27T14:44:06.616Z"
   },
   {
    "duration": 22,
    "start_time": "2023-08-27T14:44:14.882Z"
   },
   {
    "duration": 37,
    "start_time": "2023-08-27T15:07:05.258Z"
   },
   {
    "duration": 11,
    "start_time": "2023-08-27T15:08:07.418Z"
   },
   {
    "duration": 19,
    "start_time": "2023-08-27T15:08:13.705Z"
   },
   {
    "duration": 14,
    "start_time": "2023-08-27T15:09:51.482Z"
   },
   {
    "duration": 10,
    "start_time": "2023-08-27T15:11:15.044Z"
   },
   {
    "duration": 13,
    "start_time": "2023-08-27T15:11:20.506Z"
   },
   {
    "duration": 12,
    "start_time": "2023-08-27T15:11:59.542Z"
   },
   {
    "duration": 16,
    "start_time": "2023-08-27T15:12:09.798Z"
   },
   {
    "duration": 30,
    "start_time": "2023-08-27T15:12:19.787Z"
   },
   {
    "duration": 4,
    "start_time": "2023-08-27T15:20:42.849Z"
   },
   {
    "duration": 22,
    "start_time": "2023-08-27T15:21:14.453Z"
   },
   {
    "duration": 69,
    "start_time": "2023-08-27T15:21:44.181Z"
   },
   {
    "duration": 7,
    "start_time": "2023-08-27T15:24:01.146Z"
   },
   {
    "duration": 2217,
    "start_time": "2023-08-27T15:24:38.116Z"
   },
   {
    "duration": 3,
    "start_time": "2023-08-27T15:24:40.335Z"
   },
   {
    "duration": 191,
    "start_time": "2023-08-27T15:24:40.340Z"
   },
   {
    "duration": 14,
    "start_time": "2023-08-27T15:24:40.533Z"
   },
   {
    "duration": 11,
    "start_time": "2023-08-27T15:24:40.549Z"
   },
   {
    "duration": 21,
    "start_time": "2023-08-27T15:24:40.568Z"
   },
   {
    "duration": 13,
    "start_time": "2023-08-27T15:24:40.591Z"
   },
   {
    "duration": 737,
    "start_time": "2023-08-27T15:24:40.608Z"
   },
   {
    "duration": 23,
    "start_time": "2023-08-27T15:24:41.347Z"
   },
   {
    "duration": 47,
    "start_time": "2023-08-27T15:24:41.372Z"
   },
   {
    "duration": 199,
    "start_time": "2023-08-27T15:24:41.421Z"
   },
   {
    "duration": 8,
    "start_time": "2023-08-27T15:24:41.622Z"
   },
   {
    "duration": 43,
    "start_time": "2023-08-27T15:24:41.631Z"
   },
   {
    "duration": 12,
    "start_time": "2023-08-27T15:24:41.675Z"
   },
   {
    "duration": 16,
    "start_time": "2023-08-27T15:24:41.689Z"
   },
   {
    "duration": 45,
    "start_time": "2023-08-27T15:24:41.706Z"
   },
   {
    "duration": 184,
    "start_time": "2023-08-27T15:24:41.753Z"
   },
   {
    "duration": 0,
    "start_time": "2023-08-27T15:24:41.938Z"
   },
   {
    "duration": 0,
    "start_time": "2023-08-27T15:24:41.940Z"
   },
   {
    "duration": 26,
    "start_time": "2023-08-27T15:44:11.979Z"
   },
   {
    "duration": 42,
    "start_time": "2023-08-28T17:55:22.797Z"
   },
   {
    "duration": 1869,
    "start_time": "2023-08-28T17:55:45.367Z"
   },
   {
    "duration": 3,
    "start_time": "2023-08-28T17:55:47.238Z"
   },
   {
    "duration": 174,
    "start_time": "2023-08-28T17:55:47.242Z"
   },
   {
    "duration": 13,
    "start_time": "2023-08-28T17:55:47.418Z"
   },
   {
    "duration": 6,
    "start_time": "2023-08-28T17:55:47.432Z"
   },
   {
    "duration": 15,
    "start_time": "2023-08-28T17:55:47.439Z"
   },
   {
    "duration": 16,
    "start_time": "2023-08-28T17:55:47.455Z"
   },
   {
    "duration": 495,
    "start_time": "2023-08-28T17:55:47.472Z"
   },
   {
    "duration": 16,
    "start_time": "2023-08-28T17:55:47.968Z"
   },
   {
    "duration": 16,
    "start_time": "2023-08-28T17:55:47.986Z"
   },
   {
    "duration": 140,
    "start_time": "2023-08-28T17:55:48.004Z"
   },
   {
    "duration": 6,
    "start_time": "2023-08-28T17:55:48.149Z"
   },
   {
    "duration": 13,
    "start_time": "2023-08-28T17:55:48.156Z"
   },
   {
    "duration": 3,
    "start_time": "2023-08-28T17:55:48.171Z"
   },
   {
    "duration": 10,
    "start_time": "2023-08-28T17:55:48.175Z"
   },
   {
    "duration": 17,
    "start_time": "2023-08-28T17:55:48.186Z"
   },
   {
    "duration": 7,
    "start_time": "2023-08-28T17:55:48.205Z"
   },
   {
    "duration": 33,
    "start_time": "2023-08-28T17:55:48.213Z"
   },
   {
    "duration": 158,
    "start_time": "2023-08-28T17:55:48.247Z"
   },
   {
    "duration": 6,
    "start_time": "2023-08-28T17:57:02.117Z"
   },
   {
    "duration": 5,
    "start_time": "2023-08-28T17:57:12.930Z"
   },
   {
    "duration": 5,
    "start_time": "2023-08-28T17:57:21.997Z"
   },
   {
    "duration": 5,
    "start_time": "2023-08-28T17:57:35.257Z"
   },
   {
    "duration": 13,
    "start_time": "2023-08-28T17:58:08.616Z"
   },
   {
    "duration": 86,
    "start_time": "2023-08-28T17:58:50.967Z"
   },
   {
    "duration": 8,
    "start_time": "2023-08-28T17:59:15.896Z"
   },
   {
    "duration": 341,
    "start_time": "2023-08-28T17:59:41.813Z"
   },
   {
    "duration": 11,
    "start_time": "2023-08-28T18:00:10.942Z"
   },
   {
    "duration": 332,
    "start_time": "2023-08-28T18:00:14.926Z"
   },
   {
    "duration": 423,
    "start_time": "2023-08-28T18:01:32.033Z"
   },
   {
    "duration": 2092,
    "start_time": "2023-08-29T09:20:41.571Z"
   },
   {
    "duration": 3,
    "start_time": "2023-08-29T09:20:43.665Z"
   },
   {
    "duration": 237,
    "start_time": "2023-08-29T09:20:43.670Z"
   },
   {
    "duration": 16,
    "start_time": "2023-08-29T09:20:43.908Z"
   },
   {
    "duration": 118,
    "start_time": "2023-08-29T09:20:43.932Z"
   },
   {
    "duration": 51,
    "start_time": "2023-08-29T09:20:44.052Z"
   },
   {
    "duration": 38,
    "start_time": "2023-08-29T09:20:44.105Z"
   },
   {
    "duration": 656,
    "start_time": "2023-08-29T09:20:44.145Z"
   },
   {
    "duration": 34,
    "start_time": "2023-08-29T09:20:44.802Z"
   },
   {
    "duration": 60,
    "start_time": "2023-08-29T09:20:44.837Z"
   },
   {
    "duration": 147,
    "start_time": "2023-08-29T09:20:44.899Z"
   },
   {
    "duration": 8,
    "start_time": "2023-08-29T09:20:45.048Z"
   },
   {
    "duration": 51,
    "start_time": "2023-08-29T09:20:45.057Z"
   },
   {
    "duration": 34,
    "start_time": "2023-08-29T09:20:45.110Z"
   },
   {
    "duration": 33,
    "start_time": "2023-08-29T09:20:45.146Z"
   },
   {
    "duration": 58,
    "start_time": "2023-08-29T09:20:45.181Z"
   },
   {
    "duration": 31,
    "start_time": "2023-08-29T09:20:45.240Z"
   },
   {
    "duration": 70,
    "start_time": "2023-08-29T09:20:45.273Z"
   },
   {
    "duration": 683,
    "start_time": "2023-08-29T09:20:45.345Z"
   },
   {
    "duration": 8,
    "start_time": "2023-08-29T09:20:46.030Z"
   },
   {
    "duration": 134,
    "start_time": "2023-08-29T09:22:41.093Z"
   },
   {
    "duration": 10,
    "start_time": "2023-08-29T09:22:50.973Z"
   },
   {
    "duration": 13,
    "start_time": "2023-08-29T09:22:57.814Z"
   },
   {
    "duration": 11,
    "start_time": "2023-08-29T09:23:50.464Z"
   },
   {
    "duration": 27,
    "start_time": "2023-08-29T09:24:05.096Z"
   },
   {
    "duration": 43,
    "start_time": "2023-08-29T09:26:54.976Z"
   },
   {
    "duration": 7,
    "start_time": "2023-08-29T09:27:19.168Z"
   },
   {
    "duration": 910,
    "start_time": "2023-08-29T09:30:14.644Z"
   },
   {
    "duration": 654,
    "start_time": "2023-08-29T09:32:49.385Z"
   },
   {
    "duration": 21,
    "start_time": "2023-08-29T09:35:06.746Z"
   },
   {
    "duration": 15,
    "start_time": "2023-08-29T09:35:23.775Z"
   },
   {
    "duration": 5,
    "start_time": "2023-08-29T09:35:51.096Z"
   },
   {
    "duration": 4,
    "start_time": "2023-08-29T09:36:19.544Z"
   },
   {
    "duration": 7,
    "start_time": "2023-08-29T09:36:20.862Z"
   },
   {
    "duration": 32,
    "start_time": "2023-08-29T09:36:22.247Z"
   },
   {
    "duration": 7,
    "start_time": "2023-08-29T09:36:30.417Z"
   },
   {
    "duration": 5,
    "start_time": "2023-08-29T09:36:33.510Z"
   },
   {
    "duration": 17,
    "start_time": "2023-08-29T09:36:38.866Z"
   },
   {
    "duration": 13,
    "start_time": "2023-08-29T09:38:17.702Z"
   },
   {
    "duration": 6,
    "start_time": "2023-08-29T09:38:28.453Z"
   },
   {
    "duration": 24,
    "start_time": "2023-08-29T09:38:29.406Z"
   },
   {
    "duration": 10,
    "start_time": "2023-08-29T09:38:35.939Z"
   },
   {
    "duration": 6,
    "start_time": "2023-08-29T09:38:38.176Z"
   },
   {
    "duration": 65,
    "start_time": "2023-08-29T09:38:43.455Z"
   },
   {
    "duration": 6,
    "start_time": "2023-08-29T09:39:32.739Z"
   },
   {
    "duration": 33,
    "start_time": "2023-08-29T09:39:33.615Z"
   },
   {
    "duration": 7,
    "start_time": "2023-08-29T09:39:40.970Z"
   },
   {
    "duration": 6,
    "start_time": "2023-08-29T09:39:46.298Z"
   },
   {
    "duration": 58,
    "start_time": "2023-08-29T09:39:50.783Z"
   },
   {
    "duration": 2224,
    "start_time": "2023-08-30T05:00:09.038Z"
   },
   {
    "duration": 3,
    "start_time": "2023-08-30T05:00:11.265Z"
   },
   {
    "duration": 201,
    "start_time": "2023-08-30T05:00:11.270Z"
   },
   {
    "duration": 46,
    "start_time": "2023-08-30T05:00:11.473Z"
   },
   {
    "duration": 12,
    "start_time": "2023-08-30T05:00:11.522Z"
   },
   {
    "duration": 12,
    "start_time": "2023-08-30T05:00:11.535Z"
   },
   {
    "duration": 9,
    "start_time": "2023-08-30T05:00:11.549Z"
   },
   {
    "duration": 647,
    "start_time": "2023-08-30T05:00:11.559Z"
   },
   {
    "duration": 23,
    "start_time": "2023-08-30T05:00:12.208Z"
   },
   {
    "duration": 35,
    "start_time": "2023-08-30T05:00:12.232Z"
   },
   {
    "duration": 171,
    "start_time": "2023-08-30T05:00:12.268Z"
   },
   {
    "duration": 8,
    "start_time": "2023-08-30T05:00:12.447Z"
   },
   {
    "duration": 36,
    "start_time": "2023-08-30T05:00:12.457Z"
   },
   {
    "duration": 32,
    "start_time": "2023-08-30T05:00:12.496Z"
   },
   {
    "duration": 45,
    "start_time": "2023-08-30T05:00:12.530Z"
   },
   {
    "duration": 53,
    "start_time": "2023-08-30T05:00:12.577Z"
   },
   {
    "duration": 29,
    "start_time": "2023-08-30T05:00:12.632Z"
   },
   {
    "duration": 126,
    "start_time": "2023-08-30T05:00:12.664Z"
   },
   {
    "duration": 123,
    "start_time": "2023-08-30T05:00:12.792Z"
   },
   {
    "duration": 4,
    "start_time": "2023-08-30T05:00:12.916Z"
   },
   {
    "duration": 162,
    "start_time": "2023-08-30T05:00:12.922Z"
   },
   {
    "duration": 4,
    "start_time": "2023-08-30T05:01:24.591Z"
   },
   {
    "duration": 1952,
    "start_time": "2023-08-30T05:02:32.237Z"
   },
   {
    "duration": 4,
    "start_time": "2023-08-30T05:02:34.191Z"
   },
   {
    "duration": 130,
    "start_time": "2023-08-30T05:02:34.196Z"
   },
   {
    "duration": 16,
    "start_time": "2023-08-30T05:02:34.328Z"
   },
   {
    "duration": 8,
    "start_time": "2023-08-30T05:02:34.346Z"
   },
   {
    "duration": 13,
    "start_time": "2023-08-30T05:02:34.355Z"
   },
   {
    "duration": 12,
    "start_time": "2023-08-30T05:02:34.369Z"
   },
   {
    "duration": 611,
    "start_time": "2023-08-30T05:02:34.382Z"
   },
   {
    "duration": 21,
    "start_time": "2023-08-30T05:02:34.995Z"
   },
   {
    "duration": 32,
    "start_time": "2023-08-30T05:02:35.019Z"
   },
   {
    "duration": 165,
    "start_time": "2023-08-30T05:02:35.052Z"
   },
   {
    "duration": 8,
    "start_time": "2023-08-30T05:02:35.219Z"
   },
   {
    "duration": 31,
    "start_time": "2023-08-30T05:02:35.229Z"
   },
   {
    "duration": 12,
    "start_time": "2023-08-30T05:02:35.262Z"
   },
   {
    "duration": 9,
    "start_time": "2023-08-30T05:02:35.276Z"
   },
   {
    "duration": 33,
    "start_time": "2023-08-30T05:02:35.287Z"
   },
   {
    "duration": 91,
    "start_time": "2023-08-30T05:02:35.323Z"
   },
   {
    "duration": 0,
    "start_time": "2023-08-30T05:02:35.416Z"
   },
   {
    "duration": 0,
    "start_time": "2023-08-30T05:02:35.417Z"
   },
   {
    "duration": 0,
    "start_time": "2023-08-30T05:02:35.418Z"
   },
   {
    "duration": 0,
    "start_time": "2023-08-30T05:02:35.420Z"
   },
   {
    "duration": 11,
    "start_time": "2023-08-30T05:06:13.213Z"
   },
   {
    "duration": 399,
    "start_time": "2023-08-30T05:06:23.259Z"
   },
   {
    "duration": 151,
    "start_time": "2023-08-30T05:07:14.274Z"
   },
   {
    "duration": 9,
    "start_time": "2023-08-30T05:07:46.282Z"
   },
   {
    "duration": 336,
    "start_time": "2023-08-30T05:07:52.622Z"
   },
   {
    "duration": 1914,
    "start_time": "2023-08-30T05:08:34.907Z"
   },
   {
    "duration": 3,
    "start_time": "2023-08-30T05:08:36.824Z"
   },
   {
    "duration": 129,
    "start_time": "2023-08-30T05:08:36.829Z"
   },
   {
    "duration": 16,
    "start_time": "2023-08-30T05:08:36.960Z"
   },
   {
    "duration": 7,
    "start_time": "2023-08-30T05:08:36.978Z"
   },
   {
    "duration": 19,
    "start_time": "2023-08-30T05:08:36.987Z"
   },
   {
    "duration": 10,
    "start_time": "2023-08-30T05:08:37.008Z"
   },
   {
    "duration": 621,
    "start_time": "2023-08-30T05:08:37.019Z"
   },
   {
    "duration": 22,
    "start_time": "2023-08-30T05:08:37.642Z"
   },
   {
    "duration": 21,
    "start_time": "2023-08-30T05:08:37.666Z"
   },
   {
    "duration": 173,
    "start_time": "2023-08-30T05:08:37.689Z"
   },
   {
    "duration": 9,
    "start_time": "2023-08-30T05:08:37.865Z"
   },
   {
    "duration": 16,
    "start_time": "2023-08-30T05:08:37.876Z"
   },
   {
    "duration": 10,
    "start_time": "2023-08-30T05:08:37.896Z"
   },
   {
    "duration": 18,
    "start_time": "2023-08-30T05:08:37.907Z"
   },
   {
    "duration": 33,
    "start_time": "2023-08-30T05:08:37.926Z"
   },
   {
    "duration": 6,
    "start_time": "2023-08-30T05:08:37.961Z"
   },
   {
    "duration": 8,
    "start_time": "2023-08-30T05:08:37.968Z"
   },
   {
    "duration": 8,
    "start_time": "2023-08-30T05:08:37.978Z"
   },
   {
    "duration": 465,
    "start_time": "2023-08-30T05:08:37.987Z"
   },
   {
    "duration": 3,
    "start_time": "2023-08-30T05:08:38.454Z"
   },
   {
    "duration": 30,
    "start_time": "2023-08-30T05:08:38.459Z"
   },
   {
    "duration": 4773,
    "start_time": "2023-08-30T05:09:08.979Z"
   },
   {
    "duration": 6,
    "start_time": "2023-08-30T05:09:59.073Z"
   },
   {
    "duration": 6,
    "start_time": "2023-08-30T05:10:07.774Z"
   },
   {
    "duration": 6,
    "start_time": "2023-08-30T05:10:14.633Z"
   },
   {
    "duration": 3664,
    "start_time": "2023-08-30T05:10:37.494Z"
   },
   {
    "duration": 5,
    "start_time": "2023-08-30T05:11:12.775Z"
   },
   {
    "duration": 6,
    "start_time": "2023-08-30T06:02:07.797Z"
   },
   {
    "duration": 14,
    "start_time": "2023-08-30T06:02:10.301Z"
   },
   {
    "duration": 3754,
    "start_time": "2023-08-30T06:02:15.509Z"
   },
   {
    "duration": 9,
    "start_time": "2023-08-30T06:03:25.501Z"
   },
   {
    "duration": 11,
    "start_time": "2023-08-30T06:03:31.162Z"
   },
   {
    "duration": 3769,
    "start_time": "2023-08-30T06:03:35.990Z"
   },
   {
    "duration": 6,
    "start_time": "2023-08-30T06:04:09.317Z"
   },
   {
    "duration": 6,
    "start_time": "2023-08-30T06:04:13.790Z"
   },
   {
    "duration": 4419,
    "start_time": "2023-08-30T06:04:18.350Z"
   },
   {
    "duration": 8,
    "start_time": "2023-08-30T06:04:38.599Z"
   },
   {
    "duration": 4018,
    "start_time": "2023-08-30T06:04:46.050Z"
   },
   {
    "duration": 8036,
    "start_time": "2023-08-30T06:05:26.416Z"
   },
   {
    "duration": 7,
    "start_time": "2023-08-30T06:06:23.431Z"
   },
   {
    "duration": 6,
    "start_time": "2023-08-30T06:06:24.483Z"
   },
   {
    "duration": 8110,
    "start_time": "2023-08-30T06:06:26.651Z"
   },
   {
    "duration": 8,
    "start_time": "2023-08-30T06:06:48.584Z"
   },
   {
    "duration": 7807,
    "start_time": "2023-08-30T06:06:58.151Z"
   },
   {
    "duration": 8,
    "start_time": "2023-08-30T06:07:27.716Z"
   },
   {
    "duration": 5,
    "start_time": "2023-08-30T06:07:28.317Z"
   },
   {
    "duration": 8566,
    "start_time": "2023-08-30T06:07:29.684Z"
   },
   {
    "duration": 11,
    "start_time": "2023-08-30T12:34:34.846Z"
   },
   {
    "duration": 42,
    "start_time": "2023-08-30T12:34:57.764Z"
   },
   {
    "duration": 6,
    "start_time": "2023-08-30T12:35:01.812Z"
   },
   {
    "duration": 7,
    "start_time": "2023-08-30T12:35:06.516Z"
   },
   {
    "duration": 6,
    "start_time": "2023-08-30T12:35:11.284Z"
   },
   {
    "duration": 6,
    "start_time": "2023-08-30T12:35:40.805Z"
   },
   {
    "duration": 3,
    "start_time": "2023-08-30T12:35:54.945Z"
   },
   {
    "duration": 7,
    "start_time": "2023-08-30T12:36:33.532Z"
   },
   {
    "duration": 3,
    "start_time": "2023-08-30T12:36:55.126Z"
   },
   {
    "duration": 3,
    "start_time": "2023-08-30T12:37:19.251Z"
   },
   {
    "duration": 1980,
    "start_time": "2023-08-30T16:00:29.980Z"
   },
   {
    "duration": 211,
    "start_time": "2023-08-30T16:00:37.835Z"
   },
   {
    "duration": 127,
    "start_time": "2023-08-30T16:00:48.270Z"
   },
   {
    "duration": 15,
    "start_time": "2023-08-30T16:01:34.829Z"
   },
   {
    "duration": 101,
    "start_time": "2023-08-30T16:02:02.492Z"
   },
   {
    "duration": 14,
    "start_time": "2023-08-30T16:02:52.406Z"
   },
   {
    "duration": 22,
    "start_time": "2023-08-30T16:03:31.430Z"
   },
   {
    "duration": 14,
    "start_time": "2023-08-30T16:04:12.399Z"
   },
   {
    "duration": 22,
    "start_time": "2023-08-30T16:04:28.164Z"
   },
   {
    "duration": 8,
    "start_time": "2023-08-30T16:05:44.661Z"
   },
   {
    "duration": 5,
    "start_time": "2023-08-30T16:05:49.351Z"
   },
   {
    "duration": 4,
    "start_time": "2023-08-30T16:06:08.458Z"
   },
   {
    "duration": 3,
    "start_time": "2023-08-30T16:06:18.180Z"
   },
   {
    "duration": 19,
    "start_time": "2023-08-30T16:06:22.637Z"
   },
   {
    "duration": 20,
    "start_time": "2023-08-30T16:06:53.267Z"
   },
   {
    "duration": 16,
    "start_time": "2023-08-30T18:02:40.867Z"
   },
   {
    "duration": 17,
    "start_time": "2023-08-30T18:03:12.339Z"
   },
   {
    "duration": 18,
    "start_time": "2023-08-30T18:04:13.260Z"
   },
   {
    "duration": 22,
    "start_time": "2023-08-30T18:05:37.757Z"
   },
   {
    "duration": 18,
    "start_time": "2023-08-30T18:06:27.160Z"
   },
   {
    "duration": 25,
    "start_time": "2023-08-30T18:08:29.019Z"
   },
   {
    "duration": 21,
    "start_time": "2023-08-30T18:10:18.551Z"
   },
   {
    "duration": 11,
    "start_time": "2023-08-30T18:10:51.536Z"
   },
   {
    "duration": 11,
    "start_time": "2023-08-30T18:11:16.181Z"
   },
   {
    "duration": 12,
    "start_time": "2023-08-30T18:11:43.962Z"
   },
   {
    "duration": 8,
    "start_time": "2023-08-30T18:12:16.938Z"
   },
   {
    "duration": 118,
    "start_time": "2023-08-30T18:18:51.500Z"
   },
   {
    "duration": 20,
    "start_time": "2023-08-30T18:19:05.367Z"
   },
   {
    "duration": 21,
    "start_time": "2023-08-30T18:19:28.419Z"
   },
   {
    "duration": 19,
    "start_time": "2023-08-30T18:21:10.813Z"
   },
   {
    "duration": 17,
    "start_time": "2023-08-30T18:21:47.130Z"
   },
   {
    "duration": 21,
    "start_time": "2023-08-30T18:22:03.439Z"
   },
   {
    "duration": 1786,
    "start_time": "2023-08-30T18:22:20.896Z"
   },
   {
    "duration": 3,
    "start_time": "2023-08-30T18:22:22.684Z"
   },
   {
    "duration": 174,
    "start_time": "2023-08-30T18:22:22.688Z"
   },
   {
    "duration": 15,
    "start_time": "2023-08-30T18:22:22.863Z"
   },
   {
    "duration": 10,
    "start_time": "2023-08-30T18:22:22.880Z"
   },
   {
    "duration": 41,
    "start_time": "2023-08-30T18:22:22.891Z"
   },
   {
    "duration": 23,
    "start_time": "2023-08-30T18:22:22.934Z"
   },
   {
    "duration": 574,
    "start_time": "2023-08-30T18:22:22.959Z"
   },
   {
    "duration": 17,
    "start_time": "2023-08-30T18:22:23.535Z"
   },
   {
    "duration": 30,
    "start_time": "2023-08-30T18:22:23.554Z"
   },
   {
    "duration": 138,
    "start_time": "2023-08-30T18:22:23.585Z"
   },
   {
    "duration": 7,
    "start_time": "2023-08-30T18:22:23.725Z"
   },
   {
    "duration": 13,
    "start_time": "2023-08-30T18:22:23.734Z"
   },
   {
    "duration": 4,
    "start_time": "2023-08-30T18:22:23.749Z"
   },
   {
    "duration": 11,
    "start_time": "2023-08-30T18:22:23.755Z"
   },
   {
    "duration": 26,
    "start_time": "2023-08-30T18:22:23.767Z"
   },
   {
    "duration": 3,
    "start_time": "2023-08-30T18:22:23.795Z"
   },
   {
    "duration": 24,
    "start_time": "2023-08-30T18:22:23.800Z"
   },
   {
    "duration": 5,
    "start_time": "2023-08-30T18:22:23.825Z"
   },
   {
    "duration": 6900,
    "start_time": "2023-08-30T18:22:23.831Z"
   },
   {
    "duration": 4,
    "start_time": "2023-08-30T18:22:30.733Z"
   },
   {
    "duration": 74,
    "start_time": "2023-08-30T18:22:30.739Z"
   },
   {
    "duration": 7310,
    "start_time": "2023-08-30T18:22:30.814Z"
   },
   {
    "duration": 3,
    "start_time": "2023-08-30T18:22:38.126Z"
   },
   {
    "duration": 6170,
    "start_time": "2023-08-30T18:27:06.063Z"
   },
   {
    "duration": 5,
    "start_time": "2023-08-30T18:31:30.262Z"
   },
   {
    "duration": 136,
    "start_time": "2023-08-30T18:32:37.774Z"
   },
   {
    "duration": 23,
    "start_time": "2023-08-30T18:34:36.614Z"
   },
   {
    "duration": 3230,
    "start_time": "2023-08-30T18:35:24.404Z"
   },
   {
    "duration": 2941,
    "start_time": "2023-08-31T09:05:08.499Z"
   },
   {
    "duration": 3,
    "start_time": "2023-08-31T09:05:11.443Z"
   },
   {
    "duration": 195,
    "start_time": "2023-08-31T09:05:11.447Z"
   },
   {
    "duration": 16,
    "start_time": "2023-08-31T09:05:11.644Z"
   },
   {
    "duration": 9,
    "start_time": "2023-08-31T09:05:11.662Z"
   },
   {
    "duration": 14,
    "start_time": "2023-08-31T09:05:11.673Z"
   },
   {
    "duration": 17,
    "start_time": "2023-08-31T09:05:11.688Z"
   },
   {
    "duration": 604,
    "start_time": "2023-08-31T09:05:11.707Z"
   },
   {
    "duration": 19,
    "start_time": "2023-08-31T09:05:12.314Z"
   },
   {
    "duration": 107,
    "start_time": "2023-08-31T09:05:12.335Z"
   },
   {
    "duration": 254,
    "start_time": "2023-08-31T09:05:12.445Z"
   },
   {
    "duration": 14,
    "start_time": "2023-08-31T09:05:12.702Z"
   },
   {
    "duration": 60,
    "start_time": "2023-08-31T09:05:12.718Z"
   },
   {
    "duration": 8,
    "start_time": "2023-08-31T09:05:12.780Z"
   },
   {
    "duration": 9,
    "start_time": "2023-08-31T09:05:12.790Z"
   },
   {
    "duration": 24,
    "start_time": "2023-08-31T09:05:12.800Z"
   },
   {
    "duration": 4,
    "start_time": "2023-08-31T09:05:12.826Z"
   },
   {
    "duration": 12,
    "start_time": "2023-08-31T09:05:12.831Z"
   },
   {
    "duration": 76,
    "start_time": "2023-08-31T09:05:12.845Z"
   },
   {
    "duration": 8611,
    "start_time": "2023-08-31T09:05:12.923Z"
   },
   {
    "duration": 76,
    "start_time": "2023-08-31T09:05:21.536Z"
   },
   {
    "duration": 51,
    "start_time": "2023-08-31T09:05:21.614Z"
   },
   {
    "duration": 3,
    "start_time": "2023-08-31T09:05:21.667Z"
   },
   {
    "duration": 19,
    "start_time": "2023-08-31T09:05:21.672Z"
   },
   {
    "duration": 7329,
    "start_time": "2023-08-31T09:05:21.692Z"
   },
   {
    "duration": 5,
    "start_time": "2023-08-31T09:05:29.023Z"
   },
   {
    "duration": 9,
    "start_time": "2023-08-31T09:14:53.285Z"
   },
   {
    "duration": 162,
    "start_time": "2023-08-31T09:15:16.628Z"
   },
   {
    "duration": 11,
    "start_time": "2023-08-31T09:16:41.672Z"
   },
   {
    "duration": 7279,
    "start_time": "2023-08-31T09:16:44.548Z"
   },
   {
    "duration": 14448,
    "start_time": "2023-08-31T09:19:19.079Z"
   },
   {
    "duration": 19099,
    "start_time": "2023-08-31T09:21:15.910Z"
   },
   {
    "duration": 11,
    "start_time": "2023-08-31T10:00:35.046Z"
   },
   {
    "duration": 19721,
    "start_time": "2023-08-31T10:00:46.697Z"
   },
   {
    "duration": 10,
    "start_time": "2023-08-31T10:06:47.405Z"
   },
   {
    "duration": 20248,
    "start_time": "2023-08-31T10:06:50.784Z"
   },
   {
    "duration": 2030,
    "start_time": "2023-09-02T16:35:46.628Z"
   },
   {
    "duration": 6,
    "start_time": "2023-09-02T16:35:48.662Z"
   },
   {
    "duration": 171,
    "start_time": "2023-09-02T16:35:48.672Z"
   },
   {
    "duration": 22,
    "start_time": "2023-09-02T16:35:48.849Z"
   },
   {
    "duration": 9,
    "start_time": "2023-09-02T16:35:48.873Z"
   },
   {
    "duration": 5,
    "start_time": "2023-09-02T16:35:48.884Z"
   },
   {
    "duration": 7,
    "start_time": "2023-09-02T16:35:48.891Z"
   },
   {
    "duration": 604,
    "start_time": "2023-09-02T16:35:48.900Z"
   },
   {
    "duration": 19,
    "start_time": "2023-09-02T16:35:49.506Z"
   },
   {
    "duration": 50,
    "start_time": "2023-09-02T16:35:49.528Z"
   },
   {
    "duration": 131,
    "start_time": "2023-09-02T16:35:49.579Z"
   },
   {
    "duration": 8,
    "start_time": "2023-09-02T16:35:49.711Z"
   },
   {
    "duration": 32,
    "start_time": "2023-09-02T16:35:49.721Z"
   },
   {
    "duration": 6,
    "start_time": "2023-09-02T16:35:49.758Z"
   },
   {
    "duration": 12,
    "start_time": "2023-09-02T16:35:49.766Z"
   },
   {
    "duration": 23,
    "start_time": "2023-09-02T16:35:49.779Z"
   },
   {
    "duration": 4,
    "start_time": "2023-09-02T16:35:49.803Z"
   },
   {
    "duration": 14,
    "start_time": "2023-09-02T16:35:49.808Z"
   },
   {
    "duration": 8,
    "start_time": "2023-09-02T16:35:49.824Z"
   },
   {
    "duration": 12832,
    "start_time": "2023-09-02T16:35:49.833Z"
   },
   {
    "duration": 6,
    "start_time": "2023-09-02T16:36:02.668Z"
   },
   {
    "duration": 65,
    "start_time": "2023-09-02T16:36:02.677Z"
   },
   {
    "duration": 21,
    "start_time": "2023-09-02T16:36:02.748Z"
   },
   {
    "duration": 23,
    "start_time": "2023-09-02T16:36:02.771Z"
   },
   {
    "duration": 33381,
    "start_time": "2023-09-02T16:36:02.795Z"
   },
   {
    "duration": 5,
    "start_time": "2023-09-02T16:36:36.178Z"
   },
   {
    "duration": 164,
    "start_time": "2023-09-02T16:38:06.710Z"
   },
   {
    "duration": 4,
    "start_time": "2023-09-02T16:38:12.704Z"
   },
   {
    "duration": 4,
    "start_time": "2023-09-02T16:38:31.295Z"
   },
   {
    "duration": 9,
    "start_time": "2023-09-02T16:38:41.740Z"
   },
   {
    "duration": 4,
    "start_time": "2023-09-02T16:38:46.382Z"
   },
   {
    "duration": 5,
    "start_time": "2023-09-02T16:39:46.887Z"
   },
   {
    "duration": 15,
    "start_time": "2023-09-02T16:39:52.769Z"
   },
   {
    "duration": 4,
    "start_time": "2023-09-02T16:40:06.396Z"
   },
   {
    "duration": 5,
    "start_time": "2023-09-02T16:40:14.400Z"
   },
   {
    "duration": 4,
    "start_time": "2023-09-02T16:40:37.804Z"
   },
   {
    "duration": 4,
    "start_time": "2023-09-02T16:40:56.384Z"
   },
   {
    "duration": 22,
    "start_time": "2023-09-02T16:42:29.789Z"
   },
   {
    "duration": 15,
    "start_time": "2023-09-02T16:42:44.906Z"
   },
   {
    "duration": 52487,
    "start_time": "2023-09-02T16:42:48.085Z"
   },
   {
    "duration": 10,
    "start_time": "2023-09-02T16:44:36.032Z"
   },
   {
    "duration": 34267,
    "start_time": "2023-09-02T16:44:41.932Z"
   },
   {
    "duration": 13,
    "start_time": "2023-09-02T16:46:43.018Z"
   },
   {
    "duration": 122749,
    "start_time": "2023-09-02T16:46:46.614Z"
   },
   {
    "duration": 13,
    "start_time": "2023-09-02T16:49:14.012Z"
   },
   {
    "duration": 514171,
    "start_time": "2023-09-02T16:49:17.678Z"
   },
   {
    "duration": 111,
    "start_time": "2023-09-02T17:50:59.475Z"
   },
   {
    "duration": 10,
    "start_time": "2023-09-02T17:52:12.812Z"
   },
   {
    "duration": 112,
    "start_time": "2023-09-02T17:52:16.409Z"
   },
   {
    "duration": 141,
    "start_time": "2023-09-02T17:52:25.020Z"
   },
   {
    "duration": 105,
    "start_time": "2023-09-02T17:52:47.159Z"
   },
   {
    "duration": 5,
    "start_time": "2023-09-02T17:53:32.599Z"
   },
   {
    "duration": 12,
    "start_time": "2023-09-02T17:53:42.199Z"
   },
   {
    "duration": 17,
    "start_time": "2023-09-02T17:54:35.546Z"
   },
   {
    "duration": 5,
    "start_time": "2023-09-02T17:55:17.066Z"
   },
   {
    "duration": 16,
    "start_time": "2023-09-02T17:55:19.571Z"
   },
   {
    "duration": 4,
    "start_time": "2023-09-02T17:55:33.358Z"
   },
   {
    "duration": 10,
    "start_time": "2023-09-02T17:55:34.966Z"
   },
   {
    "duration": 4,
    "start_time": "2023-09-02T17:55:48.491Z"
   },
   {
    "duration": 30597,
    "start_time": "2023-09-02T17:55:50.665Z"
   },
   {
    "duration": 114,
    "start_time": "2023-09-02T18:15:57.796Z"
   },
   {
    "duration": 124,
    "start_time": "2023-09-02T18:16:40.844Z"
   },
   {
    "duration": 5,
    "start_time": "2023-09-02T18:17:25.852Z"
   },
   {
    "duration": 4,
    "start_time": "2023-09-02T18:18:16.359Z"
   },
   {
    "duration": 19558,
    "start_time": "2023-09-02T18:18:19.814Z"
   },
   {
    "duration": 75598,
    "start_time": "2023-09-02T18:18:46.255Z"
   },
   {
    "duration": 5,
    "start_time": "2023-09-02T18:20:16.438Z"
   },
   {
    "duration": 197,
    "start_time": "2023-09-02T18:20:29.747Z"
   },
   {
    "duration": 178,
    "start_time": "2023-09-02T18:22:15.478Z"
   },
   {
    "duration": 146,
    "start_time": "2023-09-02T18:22:31.630Z"
   },
   {
    "duration": 129,
    "start_time": "2023-09-02T18:22:46.090Z"
   },
   {
    "duration": 137,
    "start_time": "2023-09-02T18:23:08.562Z"
   },
   {
    "duration": 126,
    "start_time": "2023-09-02T18:23:47.061Z"
   },
   {
    "duration": 12,
    "start_time": "2023-09-02T18:25:31.366Z"
   },
   {
    "duration": 4,
    "start_time": "2023-09-02T18:25:36.627Z"
   },
   {
    "duration": 12,
    "start_time": "2023-09-02T18:25:42.483Z"
   },
   {
    "duration": 10,
    "start_time": "2023-09-02T18:25:48.990Z"
   },
   {
    "duration": 4,
    "start_time": "2023-09-02T18:25:58.679Z"
   },
   {
    "duration": 5,
    "start_time": "2023-09-02T18:26:10.174Z"
   },
   {
    "duration": 5,
    "start_time": "2023-09-02T18:26:21.924Z"
   },
   {
    "duration": 10,
    "start_time": "2023-09-02T18:27:50.060Z"
   },
   {
    "duration": 5,
    "start_time": "2023-09-02T18:29:03.676Z"
   },
   {
    "duration": 36412,
    "start_time": "2023-09-02T18:29:05.961Z"
   },
   {
    "duration": 7,
    "start_time": "2023-09-02T18:30:20.561Z"
   },
   {
    "duration": 34076,
    "start_time": "2023-09-02T18:30:23.589Z"
   },
   {
    "duration": 5,
    "start_time": "2023-09-02T18:31:44.687Z"
   },
   {
    "duration": 98582,
    "start_time": "2023-09-02T18:31:47.505Z"
   },
   {
    "duration": 164,
    "start_time": "2023-09-02T18:33:35.121Z"
   },
   {
    "duration": 173,
    "start_time": "2023-09-02T18:33:43.710Z"
   },
   {
    "duration": 134,
    "start_time": "2023-09-02T18:34:11.597Z"
   },
   {
    "duration": 174,
    "start_time": "2023-09-02T18:34:20.124Z"
   },
   {
    "duration": 149,
    "start_time": "2023-09-02T18:34:35.971Z"
   },
   {
    "duration": 144,
    "start_time": "2023-09-02T18:35:05.358Z"
   },
   {
    "duration": 135,
    "start_time": "2023-09-02T18:35:17.167Z"
   },
   {
    "duration": 138,
    "start_time": "2023-09-02T18:35:37.271Z"
   },
   {
    "duration": 142,
    "start_time": "2023-09-02T18:37:18.130Z"
   },
   {
    "duration": 125,
    "start_time": "2023-09-02T18:37:36.192Z"
   },
   {
    "duration": 9,
    "start_time": "2023-09-02T18:38:23.978Z"
   },
   {
    "duration": 6,
    "start_time": "2023-09-02T18:38:30.405Z"
   },
   {
    "duration": 43,
    "start_time": "2023-09-02T18:38:34.039Z"
   },
   {
    "duration": 10,
    "start_time": "2023-09-02T18:38:56.678Z"
   },
   {
    "duration": 6,
    "start_time": "2023-09-02T18:38:59.358Z"
   },
   {
    "duration": 109347,
    "start_time": "2023-09-02T18:39:01.506Z"
   },
   {
    "duration": 119,
    "start_time": "2023-09-02T18:49:11.316Z"
   },
   {
    "duration": 189,
    "start_time": "2023-09-02T18:49:31.220Z"
   },
   {
    "duration": 165,
    "start_time": "2023-09-02T18:49:47.716Z"
   },
   {
    "duration": 144,
    "start_time": "2023-09-02T18:51:55.211Z"
   },
   {
    "duration": 134,
    "start_time": "2023-09-02T18:55:06.612Z"
   },
   {
    "duration": 162,
    "start_time": "2023-09-02T18:55:26.787Z"
   },
   {
    "duration": 149,
    "start_time": "2023-09-02T18:55:39.933Z"
   },
   {
    "duration": 5,
    "start_time": "2023-09-02T18:58:15.313Z"
   },
   {
    "duration": 118,
    "start_time": "2023-09-02T18:58:19.172Z"
   },
   {
    "duration": 15,
    "start_time": "2023-09-02T18:58:28.113Z"
   },
   {
    "duration": 5,
    "start_time": "2023-09-02T18:58:49.566Z"
   },
   {
    "duration": 362702,
    "start_time": "2023-09-02T18:58:51.879Z"
   },
   {
    "duration": 127,
    "start_time": "2023-09-02T19:10:04.686Z"
   },
   {
    "duration": 11,
    "start_time": "2023-09-03T11:35:14.900Z"
   },
   {
    "duration": 5,
    "start_time": "2023-09-03T11:35:19.476Z"
   },
   {
    "duration": 3,
    "start_time": "2023-09-03T11:37:27.628Z"
   },
   {
    "duration": 10,
    "start_time": "2023-09-03T11:37:45.287Z"
   },
   {
    "duration": 4,
    "start_time": "2023-09-03T11:39:21.095Z"
   },
   {
    "duration": 4,
    "start_time": "2023-09-03T11:40:09.190Z"
   },
   {
    "duration": 6,
    "start_time": "2023-09-03T11:41:04.397Z"
   },
   {
    "duration": 5,
    "start_time": "2023-09-03T11:42:14.635Z"
   },
   {
    "duration": 5,
    "start_time": "2023-09-03T11:42:32.033Z"
   },
   {
    "duration": 144,
    "start_time": "2023-09-03T11:42:35.098Z"
   },
   {
    "duration": 6,
    "start_time": "2023-09-03T11:43:05.411Z"
   },
   {
    "duration": 547658,
    "start_time": "2023-09-03T11:43:08.186Z"
   },
   {
    "duration": 307,
    "start_time": "2023-09-03T11:56:03.480Z"
   },
   {
    "duration": 258,
    "start_time": "2023-09-03T11:56:33.428Z"
   },
   {
    "duration": 189,
    "start_time": "2023-09-03T12:01:25.087Z"
   },
   {
    "duration": 311,
    "start_time": "2023-09-03T12:02:10.526Z"
   },
   {
    "duration": 79,
    "start_time": "2023-09-03T12:05:32.890Z"
   },
   {
    "duration": 341,
    "start_time": "2023-09-03T12:05:56.843Z"
   },
   {
    "duration": 220,
    "start_time": "2023-09-03T12:06:15.466Z"
   },
   {
    "duration": 399,
    "start_time": "2023-09-03T12:06:33.938Z"
   },
   {
    "duration": 4,
    "start_time": "2023-09-03T12:12:42.417Z"
   },
   {
    "duration": 6,
    "start_time": "2023-09-03T12:12:47.705Z"
   },
   {
    "duration": 4,
    "start_time": "2023-09-03T12:12:57.387Z"
   },
   {
    "duration": 5,
    "start_time": "2023-09-03T12:15:48.489Z"
   },
   {
    "duration": 238,
    "start_time": "2023-09-03T12:16:14.601Z"
   },
   {
    "duration": 335,
    "start_time": "2023-09-03T12:16:37.253Z"
   },
   {
    "duration": 5,
    "start_time": "2023-09-03T12:20:14.437Z"
   },
   {
    "duration": 12,
    "start_time": "2023-09-03T12:35:21.566Z"
   },
   {
    "duration": 13,
    "start_time": "2023-09-03T12:35:24.041Z"
   },
   {
    "duration": 82,
    "start_time": "2023-09-03T12:35:53.426Z"
   },
   {
    "duration": 183,
    "start_time": "2023-09-03T12:37:20.342Z"
   },
   {
    "duration": 19,
    "start_time": "2023-09-03T12:38:00.565Z"
   },
   {
    "duration": 15,
    "start_time": "2023-09-03T12:38:31.169Z"
   },
   {
    "duration": 6,
    "start_time": "2023-09-03T12:38:40.082Z"
   },
   {
    "duration": 6,
    "start_time": "2023-09-03T12:39:14.235Z"
   },
   {
    "duration": 10,
    "start_time": "2023-09-03T12:39:24.368Z"
   },
   {
    "duration": 1231,
    "start_time": "2023-09-03T12:39:36.138Z"
   },
   {
    "duration": 209,
    "start_time": "2023-09-03T12:39:51.191Z"
   },
   {
    "duration": 97,
    "start_time": "2023-09-03T12:41:01.509Z"
   },
   {
    "duration": 510727,
    "start_time": "2023-09-03T12:41:17.261Z"
   },
   {
    "duration": 551,
    "start_time": "2023-09-03T12:52:09.567Z"
   },
   {
    "duration": 136,
    "start_time": "2023-09-03T12:53:16.789Z"
   },
   {
    "duration": 802,
    "start_time": "2023-09-03T12:53:24.104Z"
   },
   {
    "duration": 1057,
    "start_time": "2023-09-03T12:54:33.713Z"
   },
   {
    "duration": 688,
    "start_time": "2023-09-03T12:54:50.508Z"
   },
   {
    "duration": 685,
    "start_time": "2023-09-03T12:55:16.733Z"
   },
   {
    "duration": 898,
    "start_time": "2023-09-03T12:57:16.122Z"
   },
   {
    "duration": 825,
    "start_time": "2023-09-03T12:57:46.501Z"
   },
   {
    "duration": 4,
    "start_time": "2023-09-03T16:27:40.658Z"
   },
   {
    "duration": 5,
    "start_time": "2023-09-03T16:30:54.114Z"
   },
   {
    "duration": 5,
    "start_time": "2023-09-03T16:38:12.077Z"
   },
   {
    "duration": 8975,
    "start_time": "2023-09-03T16:38:16.487Z"
   },
   {
    "duration": 10,
    "start_time": "2023-09-03T16:38:39.788Z"
   },
   {
    "duration": 10,
    "start_time": "2023-09-03T16:38:52.583Z"
   },
   {
    "duration": 7,
    "start_time": "2023-09-03T16:39:16.351Z"
   },
   {
    "duration": 128097,
    "start_time": "2023-09-03T16:39:22.164Z"
   },
   {
    "duration": 149,
    "start_time": "2023-09-03T16:41:50.640Z"
   },
   {
    "duration": 151,
    "start_time": "2023-09-03T16:42:38.953Z"
   },
   {
    "duration": 193,
    "start_time": "2023-09-03T16:45:02.729Z"
   },
   {
    "duration": 5,
    "start_time": "2023-09-03T16:46:02.292Z"
   },
   {
    "duration": 198,
    "start_time": "2023-09-03T16:46:51.757Z"
   },
   {
    "duration": 178,
    "start_time": "2023-09-03T16:47:17.325Z"
   },
   {
    "duration": 10,
    "start_time": "2023-09-03T16:51:22.939Z"
   },
   {
    "duration": 8,
    "start_time": "2023-09-03T16:51:28.550Z"
   },
   {
    "duration": 396833,
    "start_time": "2023-09-03T16:51:30.534Z"
   },
   {
    "duration": 202,
    "start_time": "2023-09-03T16:58:41.358Z"
   },
   {
    "duration": 248,
    "start_time": "2023-09-03T16:59:30.621Z"
   },
   {
    "duration": 18,
    "start_time": "2023-09-03T17:04:32.241Z"
   },
   {
    "duration": 8,
    "start_time": "2023-09-03T17:04:41.011Z"
   },
   {
    "duration": 255934,
    "start_time": "2023-09-03T17:04:52.735Z"
   },
   {
    "duration": 235,
    "start_time": "2023-09-03T17:09:48.878Z"
   },
   {
    "duration": 15,
    "start_time": "2023-09-03T17:15:36.715Z"
   },
   {
    "duration": 6,
    "start_time": "2023-09-03T17:15:39.420Z"
   },
   {
    "duration": 106,
    "start_time": "2023-09-03T17:15:55.902Z"
   },
   {
    "duration": 7,
    "start_time": "2023-09-03T17:16:06.568Z"
   },
   {
    "duration": 109,
    "start_time": "2023-09-03T17:16:24.636Z"
   },
   {
    "duration": 7,
    "start_time": "2023-09-03T17:16:38.105Z"
   },
   {
    "duration": 352,
    "start_time": "2023-09-03T17:16:50.536Z"
   },
   {
    "duration": 10,
    "start_time": "2023-09-03T17:18:01.526Z"
   },
   {
    "duration": 125,
    "start_time": "2023-09-03T17:18:12.244Z"
   },
   {
    "duration": 7,
    "start_time": "2023-09-03T17:19:47.618Z"
   },
   {
    "duration": 127,
    "start_time": "2023-09-03T17:19:57.170Z"
   },
   {
    "duration": 7,
    "start_time": "2023-09-03T17:20:23.198Z"
   },
   {
    "duration": 363713,
    "start_time": "2023-09-03T17:20:31.159Z"
   },
   {
    "duration": 210,
    "start_time": "2023-09-03T17:43:17.025Z"
   },
   {
    "duration": 203,
    "start_time": "2023-09-03T17:45:43.137Z"
   },
   {
    "duration": 7,
    "start_time": "2023-09-03T17:47:30.109Z"
   },
   {
    "duration": 7,
    "start_time": "2023-09-03T17:47:36.395Z"
   },
   {
    "duration": 79749,
    "start_time": "2023-09-03T17:47:53.938Z"
   },
   {
    "duration": 10,
    "start_time": "2023-09-03T17:50:44.921Z"
   },
   {
    "duration": 10,
    "start_time": "2023-09-03T17:51:07.603Z"
   },
   {
    "duration": 5,
    "start_time": "2023-09-03T17:51:15.367Z"
   },
   {
    "duration": 14,
    "start_time": "2023-09-03T17:51:27.443Z"
   },
   {
    "duration": 4,
    "start_time": "2023-09-03T17:51:44.432Z"
   },
   {
    "duration": 5,
    "start_time": "2023-09-03T17:51:59.934Z"
   },
   {
    "duration": 6,
    "start_time": "2023-09-03T17:52:15.222Z"
   },
   {
    "duration": 5,
    "start_time": "2023-09-03T17:52:25.514Z"
   },
   {
    "duration": 7,
    "start_time": "2023-09-03T17:54:35.613Z"
   },
   {
    "duration": 38148,
    "start_time": "2023-09-03T17:54:45.312Z"
   },
   {
    "duration": 8304,
    "start_time": "2023-09-03T17:55:44.067Z"
   },
   {
    "duration": 122675,
    "start_time": "2023-09-03T17:56:07.192Z"
   },
   {
    "duration": 167,
    "start_time": "2023-09-03T17:58:21.661Z"
   },
   {
    "duration": 566137,
    "start_time": "2023-09-03T17:58:32.106Z"
   },
   {
    "duration": 238,
    "start_time": "2023-09-03T18:08:05.421Z"
   },
   {
    "duration": 288,
    "start_time": "2023-09-03T18:09:00.814Z"
   },
   {
    "duration": 60,
    "start_time": "2023-09-03T18:10:20.842Z"
   },
   {
    "duration": 936987,
    "start_time": "2023-09-03T18:10:34.998Z"
   },
   {
    "duration": 258,
    "start_time": "2023-09-03T18:33:53.650Z"
   },
   {
    "duration": 231,
    "start_time": "2023-09-03T18:34:14.713Z"
   },
   {
    "duration": 228,
    "start_time": "2023-09-03T18:35:45.779Z"
   },
   {
    "duration": 616232,
    "start_time": "2023-09-03T18:37:21.037Z"
   },
   {
    "duration": 254,
    "start_time": "2023-09-03T19:26:32.298Z"
   },
   {
    "duration": 228,
    "start_time": "2023-09-03T19:26:50.974Z"
   },
   {
    "duration": 939456,
    "start_time": "2023-09-03T19:45:35.299Z"
   },
   {
    "duration": 243,
    "start_time": "2023-09-03T20:01:14.756Z"
   },
   {
    "duration": 1728,
    "start_time": "2023-09-03T21:19:19.561Z"
   },
   {
    "duration": 3,
    "start_time": "2023-09-03T21:19:21.291Z"
   },
   {
    "duration": 171,
    "start_time": "2023-09-03T21:19:21.296Z"
   },
   {
    "duration": 13,
    "start_time": "2023-09-03T21:19:21.469Z"
   },
   {
    "duration": 8,
    "start_time": "2023-09-03T21:19:21.483Z"
   },
   {
    "duration": 9,
    "start_time": "2023-09-03T21:19:21.492Z"
   },
   {
    "duration": 16,
    "start_time": "2023-09-03T21:19:21.502Z"
   },
   {
    "duration": 537,
    "start_time": "2023-09-03T21:19:21.519Z"
   },
   {
    "duration": 16,
    "start_time": "2023-09-03T21:19:22.058Z"
   },
   {
    "duration": 16,
    "start_time": "2023-09-03T21:19:22.076Z"
   },
   {
    "duration": 134,
    "start_time": "2023-09-03T21:19:22.094Z"
   },
   {
    "duration": 14,
    "start_time": "2023-09-03T21:19:22.230Z"
   },
   {
    "duration": 9,
    "start_time": "2023-09-03T21:19:22.245Z"
   },
   {
    "duration": 4,
    "start_time": "2023-09-03T21:19:22.255Z"
   },
   {
    "duration": 9,
    "start_time": "2023-09-03T21:19:22.260Z"
   },
   {
    "duration": 17,
    "start_time": "2023-09-03T21:19:22.270Z"
   },
   {
    "duration": 4,
    "start_time": "2023-09-03T21:19:22.288Z"
   },
   {
    "duration": 6,
    "start_time": "2023-09-03T21:19:22.293Z"
   },
   {
    "duration": 44,
    "start_time": "2023-09-03T21:19:22.300Z"
   },
   {
    "duration": 5813,
    "start_time": "2023-09-03T21:19:22.346Z"
   },
   {
    "duration": 3,
    "start_time": "2023-09-03T21:19:28.161Z"
   },
   {
    "duration": 104,
    "start_time": "2023-09-03T21:19:28.165Z"
   },
   {
    "duration": 4,
    "start_time": "2023-09-03T21:19:28.270Z"
   },
   {
    "duration": 16,
    "start_time": "2023-09-03T21:19:28.275Z"
   },
   {
    "duration": 16,
    "start_time": "2023-09-03T21:19:28.293Z"
   },
   {
    "duration": 233853,
    "start_time": "2023-09-03T21:19:28.310Z"
   },
   {
    "duration": 733,
    "start_time": "2023-09-03T21:23:22.165Z"
   },
   {
    "duration": 8,
    "start_time": "2023-09-03T21:23:22.902Z"
   },
   {
    "duration": 960942,
    "start_time": "2023-09-03T21:23:22.911Z"
   },
   {
    "duration": 377,
    "start_time": "2023-09-03T21:39:23.855Z"
   },
   {
    "duration": 0,
    "start_time": "2023-09-03T21:39:24.234Z"
   },
   {
    "duration": 0,
    "start_time": "2023-09-03T21:39:24.236Z"
   },
   {
    "duration": 0,
    "start_time": "2023-09-03T21:39:24.244Z"
   },
   {
    "duration": 0,
    "start_time": "2023-09-03T21:39:24.245Z"
   },
   {
    "duration": 1783,
    "start_time": "2023-09-04T07:04:42.480Z"
   },
   {
    "duration": 7,
    "start_time": "2023-09-04T07:04:44.265Z"
   },
   {
    "duration": 129,
    "start_time": "2023-09-04T07:04:44.274Z"
   },
   {
    "duration": 15,
    "start_time": "2023-09-04T07:04:44.404Z"
   },
   {
    "duration": 9,
    "start_time": "2023-09-04T07:04:44.421Z"
   },
   {
    "duration": 8,
    "start_time": "2023-09-04T07:04:44.431Z"
   },
   {
    "duration": 6,
    "start_time": "2023-09-04T07:04:44.444Z"
   },
   {
    "duration": 651,
    "start_time": "2023-09-04T07:04:44.452Z"
   },
   {
    "duration": 18,
    "start_time": "2023-09-04T07:04:45.104Z"
   },
   {
    "duration": 42,
    "start_time": "2023-09-04T07:04:45.124Z"
   },
   {
    "duration": 159,
    "start_time": "2023-09-04T07:04:45.167Z"
   },
   {
    "duration": 8,
    "start_time": "2023-09-04T07:04:45.327Z"
   },
   {
    "duration": 15,
    "start_time": "2023-09-04T07:04:45.336Z"
   },
   {
    "duration": 10,
    "start_time": "2023-09-04T07:04:45.354Z"
   },
   {
    "duration": 30,
    "start_time": "2023-09-04T07:04:45.366Z"
   },
   {
    "duration": 44,
    "start_time": "2023-09-04T07:04:45.397Z"
   },
   {
    "duration": 4,
    "start_time": "2023-09-04T07:04:45.443Z"
   },
   {
    "duration": 6,
    "start_time": "2023-09-04T07:04:45.448Z"
   },
   {
    "duration": 8,
    "start_time": "2023-09-04T07:04:45.455Z"
   },
   {
    "duration": 6885,
    "start_time": "2023-09-04T07:04:45.464Z"
   },
   {
    "duration": 5,
    "start_time": "2023-09-04T07:04:52.351Z"
   },
   {
    "duration": 29,
    "start_time": "2023-09-04T07:04:52.358Z"
   },
   {
    "duration": 4,
    "start_time": "2023-09-04T07:04:52.389Z"
   },
   {
    "duration": 50,
    "start_time": "2023-09-04T07:04:52.395Z"
   },
   {
    "duration": 24,
    "start_time": "2023-09-04T07:04:52.447Z"
   },
   {
    "duration": 280,
    "start_time": "2023-09-04T07:04:52.473Z"
   },
   {
    "duration": 610,
    "start_time": "2023-09-04T07:04:52.754Z"
   },
   {
    "duration": 6,
    "start_time": "2023-09-04T07:04:53.366Z"
   },
   {
    "duration": 179,
    "start_time": "2023-09-04T07:04:53.374Z"
   },
   {
    "duration": 168,
    "start_time": "2023-09-04T07:04:53.554Z"
   },
   {
    "duration": 124,
    "start_time": "2023-09-04T07:04:53.724Z"
   },
   {
    "duration": 204,
    "start_time": "2023-09-04T07:04:53.850Z"
   },
   {
    "duration": 226,
    "start_time": "2023-09-04T07:04:54.057Z"
   },
   {
    "duration": 6,
    "start_time": "2023-09-04T07:04:54.285Z"
   },
   {
    "duration": 5,
    "start_time": "2023-09-04T07:30:43.372Z"
   },
   {
    "duration": 1818,
    "start_time": "2023-09-04T07:31:04.050Z"
   },
   {
    "duration": 6,
    "start_time": "2023-09-04T07:31:05.870Z"
   },
   {
    "duration": 122,
    "start_time": "2023-09-04T07:31:05.878Z"
   },
   {
    "duration": 15,
    "start_time": "2023-09-04T07:31:06.002Z"
   },
   {
    "duration": 7,
    "start_time": "2023-09-04T07:31:06.018Z"
   },
   {
    "duration": 15,
    "start_time": "2023-09-04T07:31:06.026Z"
   },
   {
    "duration": 7,
    "start_time": "2023-09-04T07:31:06.043Z"
   },
   {
    "duration": 583,
    "start_time": "2023-09-04T07:31:06.052Z"
   },
   {
    "duration": 27,
    "start_time": "2023-09-04T07:31:06.637Z"
   },
   {
    "duration": 20,
    "start_time": "2023-09-04T07:31:06.666Z"
   },
   {
    "duration": 163,
    "start_time": "2023-09-04T07:31:06.687Z"
   },
   {
    "duration": 8,
    "start_time": "2023-09-04T07:31:06.852Z"
   },
   {
    "duration": 25,
    "start_time": "2023-09-04T07:31:06.861Z"
   },
   {
    "duration": 11,
    "start_time": "2023-09-04T07:31:06.887Z"
   },
   {
    "duration": 8,
    "start_time": "2023-09-04T07:31:06.899Z"
   },
   {
    "duration": 20,
    "start_time": "2023-09-04T07:31:06.908Z"
   },
   {
    "duration": 16,
    "start_time": "2023-09-04T07:31:06.930Z"
   },
   {
    "duration": 16,
    "start_time": "2023-09-04T07:31:06.947Z"
   },
   {
    "duration": 7,
    "start_time": "2023-09-04T07:31:06.964Z"
   },
   {
    "duration": 6591,
    "start_time": "2023-09-04T07:31:06.973Z"
   },
   {
    "duration": 79,
    "start_time": "2023-09-04T07:31:13.566Z"
   },
   {
    "duration": 28,
    "start_time": "2023-09-04T07:31:13.647Z"
   },
   {
    "duration": 4,
    "start_time": "2023-09-04T07:31:13.677Z"
   },
   {
    "duration": 16,
    "start_time": "2023-09-04T07:31:13.682Z"
   },
   {
    "duration": 13,
    "start_time": "2023-09-04T07:31:13.700Z"
   },
   {
    "duration": 274453,
    "start_time": "2023-09-04T07:31:13.714Z"
   },
   {
    "duration": 825,
    "start_time": "2023-09-04T07:35:48.169Z"
   },
   {
    "duration": 7,
    "start_time": "2023-09-04T07:35:48.997Z"
   },
   {
    "duration": 1175360,
    "start_time": "2023-09-04T07:35:49.006Z"
   },
   {
    "duration": 295,
    "start_time": "2023-09-04T07:55:24.368Z"
   },
   {
    "duration": 620199,
    "start_time": "2023-09-04T07:55:24.665Z"
   },
   {
    "duration": 340,
    "start_time": "2023-09-04T08:05:44.866Z"
   },
   {
    "duration": 278,
    "start_time": "2023-09-04T08:05:45.207Z"
   },
   {
    "duration": 5,
    "start_time": "2023-09-04T08:05:45.486Z"
   },
   {
    "duration": 117,
    "start_time": "2023-09-04T08:09:42.458Z"
   },
   {
    "duration": 6,
    "start_time": "2023-09-04T08:09:48.723Z"
   },
   {
    "duration": 350981,
    "start_time": "2023-09-04T08:09:52.885Z"
   },
   {
    "duration": 937,
    "start_time": "2023-09-04T08:15:43.868Z"
   },
   {
    "duration": 35984,
    "start_time": "2023-09-04T08:16:27.411Z"
   },
   {
    "duration": 15137,
    "start_time": "2023-09-04T08:18:14.730Z"
   },
   {
    "duration": 37451,
    "start_time": "2023-09-04T08:19:09.028Z"
   },
   {
    "duration": 4138,
    "start_time": "2023-09-04T08:21:04.800Z"
   },
   {
    "duration": 6440,
    "start_time": "2023-09-04T08:42:54.670Z"
   },
   {
    "duration": 6462,
    "start_time": "2023-09-04T08:43:36.172Z"
   },
   {
    "duration": 17,
    "start_time": "2023-09-04T08:44:30.638Z"
   },
   {
    "duration": 6,
    "start_time": "2023-09-04T08:44:35.579Z"
   },
   {
    "duration": 7436,
    "start_time": "2023-09-04T08:45:11.659Z"
   },
   {
    "duration": 12,
    "start_time": "2023-09-04T08:50:21.169Z"
   },
   {
    "duration": 7,
    "start_time": "2023-09-04T08:50:23.085Z"
   },
   {
    "duration": 7313,
    "start_time": "2023-09-04T08:51:42.972Z"
   },
   {
    "duration": 7380,
    "start_time": "2023-09-04T08:51:50.287Z"
   },
   {
    "duration": 7329,
    "start_time": "2023-09-04T09:13:35.733Z"
   },
   {
    "duration": 1820,
    "start_time": "2023-09-04T11:12:06.599Z"
   },
   {
    "duration": 6,
    "start_time": "2023-09-04T11:12:13.278Z"
   },
   {
    "duration": 131,
    "start_time": "2023-09-04T11:12:15.796Z"
   },
   {
    "duration": 8,
    "start_time": "2023-09-04T11:17:13.992Z"
   },
   {
    "duration": 6,
    "start_time": "2023-09-04T11:17:23.663Z"
   },
   {
    "duration": 141,
    "start_time": "2023-09-04T11:19:01.616Z"
   },
   {
    "duration": 15,
    "start_time": "2023-09-04T11:19:18.520Z"
   },
   {
    "duration": 17,
    "start_time": "2023-09-04T11:19:28.883Z"
   },
   {
    "duration": 7,
    "start_time": "2023-09-04T11:19:44.535Z"
   },
   {
    "duration": 8,
    "start_time": "2023-09-04T11:21:58.595Z"
   },
   {
    "duration": 9,
    "start_time": "2023-09-04T11:30:14.098Z"
   },
   {
    "duration": 13,
    "start_time": "2023-09-04T11:31:47.018Z"
   },
   {
    "duration": 13,
    "start_time": "2023-09-04T11:32:03.560Z"
   },
   {
    "duration": 16,
    "start_time": "2023-09-04T11:32:11.275Z"
   },
   {
    "duration": 10,
    "start_time": "2023-09-04T11:32:17.267Z"
   },
   {
    "duration": 4,
    "start_time": "2023-09-04T11:38:25.697Z"
   },
   {
    "duration": 466,
    "start_time": "2023-09-04T11:39:36.598Z"
   },
   {
    "duration": 14,
    "start_time": "2023-09-04T11:41:27.315Z"
   },
   {
    "duration": 475,
    "start_time": "2023-09-04T11:41:34.518Z"
   },
   {
    "duration": 38,
    "start_time": "2023-09-04T11:42:09.967Z"
   },
   {
    "duration": 6,
    "start_time": "2023-09-04T11:44:01.173Z"
   },
   {
    "duration": 5,
    "start_time": "2023-09-04T11:46:39.279Z"
   },
   {
    "duration": 5,
    "start_time": "2023-09-04T11:47:13.560Z"
   },
   {
    "duration": 16,
    "start_time": "2023-09-04T11:47:47.804Z"
   },
   {
    "duration": 7,
    "start_time": "2023-09-04T11:49:17.172Z"
   },
   {
    "duration": 10,
    "start_time": "2023-09-04T11:49:28.986Z"
   },
   {
    "duration": 7,
    "start_time": "2023-09-04T11:49:58.299Z"
   },
   {
    "duration": 8,
    "start_time": "2023-09-04T11:51:46.522Z"
   },
   {
    "duration": 13,
    "start_time": "2023-09-04T11:52:14.323Z"
   },
   {
    "duration": 6,
    "start_time": "2023-09-04T11:52:45.510Z"
   },
   {
    "duration": 6,
    "start_time": "2023-09-04T11:52:58.271Z"
   },
   {
    "duration": 7,
    "start_time": "2023-09-04T11:53:56.222Z"
   },
   {
    "duration": 5,
    "start_time": "2023-09-04T11:54:32.048Z"
   },
   {
    "duration": 14,
    "start_time": "2023-09-04T11:55:12.604Z"
   },
   {
    "duration": 6,
    "start_time": "2023-09-04T11:55:30.462Z"
   },
   {
    "duration": 1805,
    "start_time": "2023-09-04T11:59:17.871Z"
   },
   {
    "duration": 5,
    "start_time": "2023-09-04T11:59:19.678Z"
   },
   {
    "duration": 136,
    "start_time": "2023-09-04T11:59:23.994Z"
   },
   {
    "duration": 15,
    "start_time": "2023-09-04T11:59:33.674Z"
   },
   {
    "duration": 8,
    "start_time": "2023-09-04T11:59:57.931Z"
   },
   {
    "duration": 6,
    "start_time": "2023-09-04T11:59:59.612Z"
   },
   {
    "duration": 6,
    "start_time": "2023-09-04T12:00:09.586Z"
   },
   {
    "duration": 15,
    "start_time": "2023-09-04T12:00:16.434Z"
   },
   {
    "duration": 6,
    "start_time": "2023-09-04T12:00:17.312Z"
   },
   {
    "duration": 6,
    "start_time": "2023-09-04T12:00:18.933Z"
   },
   {
    "duration": 15,
    "start_time": "2023-09-04T12:00:39.985Z"
   },
   {
    "duration": 6,
    "start_time": "2023-09-04T12:00:42.930Z"
   },
   {
    "duration": 610,
    "start_time": "2023-09-04T12:01:35.092Z"
   },
   {
    "duration": 14,
    "start_time": "2023-09-04T12:05:12.522Z"
   },
   {
    "duration": 6,
    "start_time": "2023-09-04T12:05:22.608Z"
   },
   {
    "duration": 8,
    "start_time": "2023-09-04T12:06:34.910Z"
   },
   {
    "duration": 8,
    "start_time": "2023-09-04T12:07:29.876Z"
   },
   {
    "duration": 8,
    "start_time": "2023-09-04T12:07:38.364Z"
   },
   {
    "duration": 8,
    "start_time": "2023-09-04T12:11:02.177Z"
   },
   {
    "duration": 3770,
    "start_time": "2023-09-04T12:13:29.128Z"
   },
   {
    "duration": 312,
    "start_time": "2023-09-04T12:13:55.497Z"
   },
   {
    "duration": 448,
    "start_time": "2023-09-04T12:14:20.796Z"
   },
   {
    "duration": 255,
    "start_time": "2023-09-04T12:14:46.682Z"
   },
   {
    "duration": 208,
    "start_time": "2023-09-04T12:15:44.760Z"
   },
   {
    "duration": 183,
    "start_time": "2023-09-04T12:16:53.785Z"
   },
   {
    "duration": 357,
    "start_time": "2023-09-04T12:18:14.845Z"
   },
   {
    "duration": 271,
    "start_time": "2023-09-04T12:18:36.723Z"
   },
   {
    "duration": 229,
    "start_time": "2023-09-04T12:18:59.806Z"
   },
   {
    "duration": 314,
    "start_time": "2023-09-04T12:19:06.671Z"
   },
   {
    "duration": 353,
    "start_time": "2023-09-04T12:19:27.141Z"
   },
   {
    "duration": 273,
    "start_time": "2023-09-04T12:20:19.801Z"
   },
   {
    "duration": 240,
    "start_time": "2023-09-04T12:20:46.394Z"
   },
   {
    "duration": 212,
    "start_time": "2023-09-04T12:21:05.215Z"
   },
   {
    "duration": 8,
    "start_time": "2023-09-04T12:21:34.373Z"
   },
   {
    "duration": 6,
    "start_time": "2023-09-04T12:21:42.104Z"
   },
   {
    "duration": 273,
    "start_time": "2023-09-04T12:24:09.362Z"
   },
   {
    "duration": 260,
    "start_time": "2023-09-04T12:24:59.724Z"
   },
   {
    "duration": 268,
    "start_time": "2023-09-04T12:25:33.027Z"
   },
   {
    "duration": 419,
    "start_time": "2023-09-04T12:29:11.693Z"
   },
   {
    "duration": 489,
    "start_time": "2023-09-04T12:30:57.359Z"
   },
   {
    "duration": 373,
    "start_time": "2023-09-04T12:31:38.063Z"
   },
   {
    "duration": 366,
    "start_time": "2023-09-04T12:31:56.545Z"
   },
   {
    "duration": 407,
    "start_time": "2023-09-04T12:32:45.684Z"
   },
   {
    "duration": 340,
    "start_time": "2023-09-04T12:32:59.079Z"
   },
   {
    "duration": 12,
    "start_time": "2023-09-04T12:35:57.409Z"
   },
   {
    "duration": 16,
    "start_time": "2023-09-04T12:36:01.838Z"
   },
   {
    "duration": 5,
    "start_time": "2023-09-04T12:42:15.990Z"
   },
   {
    "duration": 6,
    "start_time": "2023-09-04T12:42:16.698Z"
   },
   {
    "duration": 20,
    "start_time": "2023-09-04T12:42:17.197Z"
   },
   {
    "duration": 4,
    "start_time": "2023-09-04T12:42:19.926Z"
   },
   {
    "duration": 6,
    "start_time": "2023-09-04T12:42:20.886Z"
   },
   {
    "duration": 6,
    "start_time": "2023-09-04T12:42:22.047Z"
   },
   {
    "duration": 7214,
    "start_time": "2023-09-04T12:42:31.630Z"
   },
   {
    "duration": 3,
    "start_time": "2023-09-04T12:42:51.120Z"
   },
   {
    "duration": 23,
    "start_time": "2023-09-04T12:43:00.528Z"
   },
   {
    "duration": 358,
    "start_time": "2023-09-04T12:45:35.701Z"
   },
   {
    "duration": 6,
    "start_time": "2023-09-04T12:46:37.056Z"
   },
   {
    "duration": 404,
    "start_time": "2023-09-04T12:46:40.949Z"
   },
   {
    "duration": 6,
    "start_time": "2023-09-04T12:50:13.845Z"
   },
   {
    "duration": 290,
    "start_time": "2023-09-04T12:50:17.674Z"
   },
   {
    "duration": 365,
    "start_time": "2023-09-04T12:51:32.398Z"
   },
   {
    "duration": 6,
    "start_time": "2023-09-04T12:51:39.621Z"
   },
   {
    "duration": 372,
    "start_time": "2023-09-04T12:51:49.178Z"
   },
   {
    "duration": 3810,
    "start_time": "2023-09-04T12:52:06.737Z"
   },
   {
    "duration": 6,
    "start_time": "2023-09-04T12:53:16.360Z"
   },
   {
    "duration": 270,
    "start_time": "2023-09-04T12:53:18.094Z"
   },
   {
    "duration": 22,
    "start_time": "2023-09-04T12:53:29.080Z"
   },
   {
    "duration": 7,
    "start_time": "2023-09-04T12:53:43.829Z"
   },
   {
    "duration": 6,
    "start_time": "2023-09-04T12:56:31.341Z"
   },
   {
    "duration": 399,
    "start_time": "2023-09-04T12:56:32.254Z"
   },
   {
    "duration": 7,
    "start_time": "2023-09-04T12:56:39.058Z"
   },
   {
    "duration": 3625,
    "start_time": "2023-09-04T12:56:43.527Z"
   },
   {
    "duration": 4,
    "start_time": "2023-09-04T12:56:54.547Z"
   },
   {
    "duration": 8,
    "start_time": "2023-09-04T12:57:07.034Z"
   },
   {
    "duration": 21,
    "start_time": "2023-09-04T16:25:09.343Z"
   },
   {
    "duration": 11,
    "start_time": "2023-09-04T16:25:37.716Z"
   },
   {
    "duration": 6,
    "start_time": "2023-09-04T16:28:39.909Z"
   },
   {
    "duration": 6,
    "start_time": "2023-09-04T16:29:06.523Z"
   },
   {
    "duration": 265,
    "start_time": "2023-09-04T16:29:28.436Z"
   },
   {
    "duration": 11,
    "start_time": "2023-09-04T16:30:09.931Z"
   },
   {
    "duration": 2249,
    "start_time": "2023-09-04T16:31:54.993Z"
   },
   {
    "duration": 9,
    "start_time": "2023-09-04T16:31:57.244Z"
   },
   {
    "duration": 170,
    "start_time": "2023-09-04T16:31:57.255Z"
   },
   {
    "duration": 10,
    "start_time": "2023-09-04T16:31:57.428Z"
   },
   {
    "duration": 14,
    "start_time": "2023-09-04T16:31:57.440Z"
   },
   {
    "duration": 30,
    "start_time": "2023-09-04T16:31:57.456Z"
   },
   {
    "duration": 11,
    "start_time": "2023-09-04T16:31:57.489Z"
   },
   {
    "duration": 28,
    "start_time": "2023-09-04T16:31:57.502Z"
   },
   {
    "duration": 12,
    "start_time": "2023-09-04T16:31:57.531Z"
   },
   {
    "duration": 718,
    "start_time": "2023-09-04T16:31:57.547Z"
   },
   {
    "duration": 10,
    "start_time": "2023-09-04T16:31:58.267Z"
   },
   {
    "duration": 249,
    "start_time": "2023-09-04T16:31:58.279Z"
   },
   {
    "duration": 397,
    "start_time": "2023-09-04T16:31:58.530Z"
   },
   {
    "duration": 181,
    "start_time": "2023-09-04T16:31:58.929Z"
   },
   {
    "duration": 0,
    "start_time": "2023-09-04T16:31:59.121Z"
   },
   {
    "duration": 0,
    "start_time": "2023-09-04T16:31:59.123Z"
   },
   {
    "duration": 0,
    "start_time": "2023-09-04T16:31:59.124Z"
   },
   {
    "duration": 0,
    "start_time": "2023-09-04T16:31:59.126Z"
   },
   {
    "duration": 0,
    "start_time": "2023-09-04T16:31:59.127Z"
   },
   {
    "duration": 13,
    "start_time": "2023-09-04T16:32:11.844Z"
   },
   {
    "duration": 442,
    "start_time": "2023-09-04T16:32:13.309Z"
   },
   {
    "duration": 12,
    "start_time": "2023-09-04T16:32:15.899Z"
   },
   {
    "duration": 21,
    "start_time": "2023-09-04T16:32:17.637Z"
   },
   {
    "duration": 4,
    "start_time": "2023-09-04T16:32:28.015Z"
   },
   {
    "duration": 6,
    "start_time": "2023-09-04T16:32:28.493Z"
   },
   {
    "duration": 21,
    "start_time": "2023-09-04T16:32:29.310Z"
   },
   {
    "duration": 4,
    "start_time": "2023-09-04T16:32:31.424Z"
   },
   {
    "duration": 8,
    "start_time": "2023-09-04T16:32:40.689Z"
   },
   {
    "duration": 905,
    "start_time": "2023-09-04T16:32:41.558Z"
   },
   {
    "duration": 6,
    "start_time": "2023-09-04T16:32:43.587Z"
   },
   {
    "duration": 8076,
    "start_time": "2023-09-04T16:32:47.270Z"
   },
   {
    "duration": 3,
    "start_time": "2023-09-04T16:32:57.500Z"
   },
   {
    "duration": 150,
    "start_time": "2023-09-04T16:33:01.738Z"
   },
   {
    "duration": 11,
    "start_time": "2023-09-04T16:33:21.219Z"
   },
   {
    "duration": 146,
    "start_time": "2023-09-04T16:35:34.484Z"
   },
   {
    "duration": 24,
    "start_time": "2023-09-04T16:36:28.836Z"
   },
   {
    "duration": 24,
    "start_time": "2023-09-04T16:36:55.767Z"
   },
   {
    "duration": 18,
    "start_time": "2023-09-04T16:37:14.003Z"
   },
   {
    "duration": 14,
    "start_time": "2023-09-04T16:37:48.772Z"
   },
   {
    "duration": 6,
    "start_time": "2023-09-04T16:38:00.114Z"
   },
   {
    "duration": 5,
    "start_time": "2023-09-04T16:38:22.299Z"
   },
   {
    "duration": 6,
    "start_time": "2023-09-04T16:38:48.320Z"
   },
   {
    "duration": 20,
    "start_time": "2023-09-04T16:39:05.796Z"
   },
   {
    "duration": 5,
    "start_time": "2023-09-04T16:39:34.135Z"
   },
   {
    "duration": 13,
    "start_time": "2023-09-04T16:39:42.263Z"
   },
   {
    "duration": 20,
    "start_time": "2023-09-04T16:39:50.196Z"
   },
   {
    "duration": 916,
    "start_time": "2023-09-04T16:40:51.696Z"
   },
   {
    "duration": 145,
    "start_time": "2023-09-04T16:44:19.959Z"
   },
   {
    "duration": 845,
    "start_time": "2023-09-04T16:44:24.863Z"
   },
   {
    "duration": 932,
    "start_time": "2023-09-04T16:44:55.528Z"
   },
   {
    "duration": 918,
    "start_time": "2023-09-04T16:45:09.781Z"
   },
   {
    "duration": 1085,
    "start_time": "2023-09-04T16:45:19.126Z"
   },
   {
    "duration": 12,
    "start_time": "2023-09-04T16:46:24.410Z"
   },
   {
    "duration": 15,
    "start_time": "2023-09-04T16:47:33.764Z"
   },
   {
    "duration": 113,
    "start_time": "2023-09-04T16:47:40.558Z"
   },
   {
    "duration": 198,
    "start_time": "2023-09-04T16:48:01.119Z"
   },
   {
    "duration": 249,
    "start_time": "2023-09-04T16:48:38.377Z"
   },
   {
    "duration": 117,
    "start_time": "2023-09-04T16:48:55.712Z"
   },
   {
    "duration": 311,
    "start_time": "2023-09-04T16:49:02.125Z"
   },
   {
    "duration": 367,
    "start_time": "2023-09-04T16:49:13.164Z"
   },
   {
    "duration": 280,
    "start_time": "2023-09-04T16:56:11.573Z"
   },
   {
    "duration": 172,
    "start_time": "2023-09-04T16:56:30.135Z"
   },
   {
    "duration": 326,
    "start_time": "2023-09-04T16:56:44.011Z"
   },
   {
    "duration": 340,
    "start_time": "2023-09-04T16:59:52.259Z"
   },
   {
    "duration": 322,
    "start_time": "2023-09-04T17:00:06.590Z"
   },
   {
    "duration": 470,
    "start_time": "2023-09-04T17:01:13.151Z"
   },
   {
    "duration": 332,
    "start_time": "2023-09-04T17:01:40.518Z"
   },
   {
    "duration": 406,
    "start_time": "2023-09-04T17:05:20.362Z"
   },
   {
    "duration": 379,
    "start_time": "2023-09-04T17:10:15.262Z"
   },
   {
    "duration": 348,
    "start_time": "2023-09-04T17:14:42.228Z"
   },
   {
    "duration": 390,
    "start_time": "2023-09-04T17:14:55.086Z"
   },
   {
    "duration": 542,
    "start_time": "2023-09-04T17:17:53.976Z"
   },
   {
    "duration": 369,
    "start_time": "2023-09-04T17:18:08.171Z"
   },
   {
    "duration": 465,
    "start_time": "2023-09-04T17:19:19.361Z"
   },
   {
    "duration": 490,
    "start_time": "2023-09-04T17:21:24.789Z"
   },
   {
    "duration": 374,
    "start_time": "2023-09-04T17:23:42.970Z"
   },
   {
    "duration": 629,
    "start_time": "2023-09-04T17:23:49.991Z"
   },
   {
    "duration": 448,
    "start_time": "2023-09-04T17:26:32.969Z"
   },
   {
    "duration": 436,
    "start_time": "2023-09-04T17:26:57.378Z"
   },
   {
    "duration": 441,
    "start_time": "2023-09-04T17:27:05.178Z"
   },
   {
    "duration": 470,
    "start_time": "2023-09-04T17:27:29.770Z"
   },
   {
    "duration": 496,
    "start_time": "2023-09-04T17:31:56.270Z"
   },
   {
    "duration": 4,
    "start_time": "2023-09-04T17:52:32.163Z"
   },
   {
    "duration": 169,
    "start_time": "2023-09-04T17:52:33.726Z"
   },
   {
    "duration": 6,
    "start_time": "2023-09-04T17:52:36.606Z"
   },
   {
    "duration": 24155,
    "start_time": "2023-09-04T17:52:38.835Z"
   },
   {
    "duration": 6,
    "start_time": "2023-09-04T17:53:44.381Z"
   },
   {
    "duration": 18861,
    "start_time": "2023-09-04T17:54:08.214Z"
   },
   {
    "duration": 19649,
    "start_time": "2023-09-04T17:54:36.453Z"
   },
   {
    "duration": 20601,
    "start_time": "2023-09-04T17:55:14.987Z"
   },
   {
    "duration": 131,
    "start_time": "2023-09-04T18:06:21.975Z"
   },
   {
    "duration": 196,
    "start_time": "2023-09-04T18:06:31.272Z"
   },
   {
    "duration": 210800,
    "start_time": "2023-09-04T18:07:06.868Z"
   },
   {
    "duration": 630,
    "start_time": "2023-09-04T18:25:48.776Z"
   },
   {
    "duration": 564,
    "start_time": "2023-09-04T18:26:16.372Z"
   },
   {
    "duration": 2,
    "start_time": "2023-09-04T18:36:33.101Z"
   },
   {
    "duration": 2,
    "start_time": "2023-09-04T18:36:35.801Z"
   },
   {
    "duration": 147,
    "start_time": "2023-09-04T18:36:36.523Z"
   },
   {
    "duration": 7,
    "start_time": "2023-09-04T18:36:46.135Z"
   },
   {
    "duration": 146,
    "start_time": "2023-09-04T18:36:49.503Z"
   },
   {
    "duration": 7,
    "start_time": "2023-09-04T18:36:58.498Z"
   },
   {
    "duration": 132,
    "start_time": "2023-09-04T18:37:02.786Z"
   },
   {
    "duration": 8,
    "start_time": "2023-09-04T18:39:20.892Z"
   },
   {
    "duration": 35264,
    "start_time": "2023-09-04T18:39:25.312Z"
   },
   {
    "duration": 1833413,
    "start_time": "2023-09-04T18:41:09.487Z"
   },
   {
    "duration": 263,
    "start_time": "2023-09-04T19:11:42.902Z"
   },
   {
    "duration": 33,
    "start_time": "2023-09-04T19:14:45.976Z"
   },
   {
    "duration": 111,
    "start_time": "2023-09-04T19:15:04.578Z"
   },
   {
    "duration": 104,
    "start_time": "2023-09-04T19:15:19.963Z"
   },
   {
    "duration": 132,
    "start_time": "2023-09-04T19:15:44.360Z"
   },
   {
    "duration": 128,
    "start_time": "2023-09-04T19:17:36.343Z"
   },
   {
    "duration": 8,
    "start_time": "2023-09-04T19:17:50.880Z"
   },
   {
    "duration": 1503411,
    "start_time": "2023-09-04T19:18:01.974Z"
   },
   {
    "duration": 293,
    "start_time": "2023-09-04T21:04:51.538Z"
   },
   {
    "duration": 366,
    "start_time": "2023-09-04T21:05:04.035Z"
   },
   {
    "duration": 4,
    "start_time": "2023-09-05T06:03:31.174Z"
   },
   {
    "duration": 401,
    "start_time": "2023-09-05T06:04:41.451Z"
   },
   {
    "duration": 16511,
    "start_time": "2023-09-05T06:04:53.343Z"
   },
   {
    "duration": 15,
    "start_time": "2023-09-05T06:05:16.823Z"
   },
   {
    "duration": 5,
    "start_time": "2023-09-05T06:05:59.220Z"
   },
   {
    "duration": 6,
    "start_time": "2023-09-05T06:06:11.712Z"
   },
   {
    "duration": 15562,
    "start_time": "2023-09-05T06:14:03.489Z"
   },
   {
    "duration": 4,
    "start_time": "2023-09-05T06:14:28.420Z"
   },
   {
    "duration": 15814,
    "start_time": "2023-09-05T06:15:17.634Z"
   },
   {
    "duration": 5,
    "start_time": "2023-09-05T06:15:42.743Z"
   },
   {
    "duration": 15735,
    "start_time": "2023-09-05T06:16:10.309Z"
   },
   {
    "duration": 6,
    "start_time": "2023-09-05T06:16:32.630Z"
   },
   {
    "duration": 15726,
    "start_time": "2023-09-05T06:16:44.535Z"
   },
   {
    "duration": 15690,
    "start_time": "2023-09-05T06:17:13.770Z"
   },
   {
    "duration": 15161,
    "start_time": "2023-09-05T06:18:25.190Z"
   },
   {
    "duration": 16212,
    "start_time": "2023-09-05T06:18:51.554Z"
   },
   {
    "duration": 5,
    "start_time": "2023-09-05T06:19:13.188Z"
   },
   {
    "duration": 15782,
    "start_time": "2023-09-05T06:19:37.062Z"
   },
   {
    "duration": 15741,
    "start_time": "2023-09-05T06:20:41.417Z"
   },
   {
    "duration": 16769,
    "start_time": "2023-09-05T06:22:30.888Z"
   },
   {
    "duration": 16752,
    "start_time": "2023-09-05T06:22:56.997Z"
   },
   {
    "duration": 361,
    "start_time": "2023-09-05T06:23:49.679Z"
   },
   {
    "duration": 18290,
    "start_time": "2023-09-05T07:05:07.771Z"
   },
   {
    "duration": 125,
    "start_time": "2023-09-05T07:09:52.546Z"
   },
   {
    "duration": 11,
    "start_time": "2023-09-05T07:10:02.825Z"
   },
   {
    "duration": 13,
    "start_time": "2023-09-05T07:10:35.615Z"
   },
   {
    "duration": 11,
    "start_time": "2023-09-05T07:11:11.116Z"
   },
   {
    "duration": 22,
    "start_time": "2023-09-05T07:11:22.761Z"
   },
   {
    "duration": 19867,
    "start_time": "2023-09-05T07:11:38.880Z"
   },
   {
    "duration": 18418,
    "start_time": "2023-09-05T07:12:39.942Z"
   },
   {
    "duration": 12,
    "start_time": "2023-09-05T07:14:07.742Z"
   },
   {
    "duration": 8,
    "start_time": "2023-09-05T07:14:15.364Z"
   },
   {
    "duration": 19,
    "start_time": "2023-09-05T07:14:23.567Z"
   },
   {
    "duration": 11,
    "start_time": "2023-09-05T07:15:35.148Z"
   },
   {
    "duration": 20,
    "start_time": "2023-09-05T07:15:49.900Z"
   },
   {
    "duration": 22,
    "start_time": "2023-09-05T07:16:32.206Z"
   },
   {
    "duration": 16,
    "start_time": "2023-09-05T07:17:29.884Z"
   },
   {
    "duration": 18802,
    "start_time": "2023-09-05T07:17:35.942Z"
   },
   {
    "duration": 21666,
    "start_time": "2023-09-05T07:18:17.198Z"
   },
   {
    "duration": 25,
    "start_time": "2023-09-05T07:20:15.494Z"
   },
   {
    "duration": 20233,
    "start_time": "2023-09-05T07:20:27.325Z"
   },
   {
    "duration": 2047,
    "start_time": "2023-09-05T17:18:27.506Z"
   },
   {
    "duration": 11,
    "start_time": "2023-09-05T17:18:29.555Z"
   },
   {
    "duration": 154,
    "start_time": "2023-09-05T17:18:29.568Z"
   },
   {
    "duration": 10,
    "start_time": "2023-09-05T17:18:29.724Z"
   },
   {
    "duration": 8,
    "start_time": "2023-09-05T17:18:29.735Z"
   },
   {
    "duration": 7,
    "start_time": "2023-09-05T17:18:29.745Z"
   },
   {
    "duration": 19,
    "start_time": "2023-09-05T17:18:29.754Z"
   },
   {
    "duration": 18,
    "start_time": "2023-09-05T17:18:29.774Z"
   },
   {
    "duration": 10,
    "start_time": "2023-09-05T17:18:29.793Z"
   },
   {
    "duration": 597,
    "start_time": "2023-09-05T17:18:29.805Z"
   },
   {
    "duration": 9,
    "start_time": "2023-09-05T17:18:30.404Z"
   },
   {
    "duration": 225,
    "start_time": "2023-09-05T17:18:30.415Z"
   },
   {
    "duration": 347,
    "start_time": "2023-09-05T17:18:30.642Z"
   },
   {
    "duration": 6,
    "start_time": "2023-09-05T17:18:30.991Z"
   },
   {
    "duration": 413,
    "start_time": "2023-09-05T17:18:30.999Z"
   },
   {
    "duration": 7,
    "start_time": "2023-09-05T17:18:31.414Z"
   },
   {
    "duration": 45,
    "start_time": "2023-09-05T17:18:31.423Z"
   },
   {
    "duration": 25,
    "start_time": "2023-09-05T17:18:31.469Z"
   },
   {
    "duration": 53,
    "start_time": "2023-09-05T17:18:31.496Z"
   },
   {
    "duration": 41,
    "start_time": "2023-09-05T17:18:31.551Z"
   },
   {
    "duration": 42,
    "start_time": "2023-09-05T17:18:31.594Z"
   },
   {
    "duration": 14,
    "start_time": "2023-09-05T17:18:31.638Z"
   },
   {
    "duration": 314,
    "start_time": "2023-09-05T17:18:31.654Z"
   },
   {
    "duration": 6,
    "start_time": "2023-09-05T17:18:32.045Z"
   },
   {
    "duration": 3500,
    "start_time": "2023-09-05T17:18:32.053Z"
   },
   {
    "duration": 3,
    "start_time": "2023-09-05T17:18:35.555Z"
   },
   {
    "duration": 107,
    "start_time": "2023-09-05T17:18:35.560Z"
   },
   {
    "duration": 483,
    "start_time": "2023-09-05T17:18:35.671Z"
   },
   {
    "duration": 3,
    "start_time": "2023-09-05T17:18:36.156Z"
   },
   {
    "duration": 33,
    "start_time": "2023-09-05T17:18:36.161Z"
   },
   {
    "duration": 33,
    "start_time": "2023-09-05T17:18:36.196Z"
   },
   {
    "duration": 6,
    "start_time": "2023-09-05T17:18:36.231Z"
   },
   {
    "duration": 12379,
    "start_time": "2023-09-05T17:18:36.239Z"
   },
   {
    "duration": 11769,
    "start_time": "2023-09-05T17:18:48.619Z"
   },
   {
    "duration": 12763,
    "start_time": "2023-09-05T17:19:00.390Z"
   },
   {
    "duration": 104097,
    "start_time": "2023-09-05T17:19:13.155Z"
   },
   {
    "duration": 528,
    "start_time": "2023-09-05T17:20:57.254Z"
   },
   {
    "duration": 8,
    "start_time": "2023-09-05T17:20:57.783Z"
   },
   {
    "duration": 838663,
    "start_time": "2023-09-05T17:20:57.792Z"
   },
   {
    "duration": 301,
    "start_time": "2023-09-05T17:34:56.456Z"
   },
   {
    "duration": 261,
    "start_time": "2023-09-05T17:34:56.758Z"
   },
   {
    "duration": 4,
    "start_time": "2023-09-05T17:34:57.020Z"
   },
   {
    "duration": 16525,
    "start_time": "2023-09-05T17:34:57.026Z"
   },
   {
    "duration": 106,
    "start_time": "2023-09-05T17:35:13.553Z"
   },
   {
    "duration": 136,
    "start_time": "2023-09-05T18:06:38.512Z"
   },
   {
    "duration": 5,
    "start_time": "2023-09-05T18:07:51.369Z"
   },
   {
    "duration": 13,
    "start_time": "2023-09-05T18:08:13.713Z"
   },
   {
    "duration": 17,
    "start_time": "2023-09-05T18:08:26.775Z"
   },
   {
    "duration": 468,
    "start_time": "2023-09-05T18:08:54.884Z"
   },
   {
    "duration": 14,
    "start_time": "2023-09-05T18:09:38.597Z"
   },
   {
    "duration": 12,
    "start_time": "2023-09-05T18:09:43.063Z"
   },
   {
    "duration": 363,
    "start_time": "2023-09-05T18:09:57.215Z"
   },
   {
    "duration": 353,
    "start_time": "2023-09-05T18:10:08.373Z"
   },
   {
    "duration": 1893,
    "start_time": "2023-09-05T18:25:22.417Z"
   },
   {
    "duration": 4,
    "start_time": "2023-09-05T18:25:24.312Z"
   },
   {
    "duration": 128,
    "start_time": "2023-09-05T18:25:24.318Z"
   },
   {
    "duration": 10,
    "start_time": "2023-09-05T18:25:24.447Z"
   },
   {
    "duration": 14,
    "start_time": "2023-09-05T18:25:24.460Z"
   },
   {
    "duration": 9,
    "start_time": "2023-09-05T18:25:24.475Z"
   },
   {
    "duration": 9,
    "start_time": "2023-09-05T18:25:24.485Z"
   },
   {
    "duration": 19,
    "start_time": "2023-09-05T18:25:24.495Z"
   },
   {
    "duration": 6,
    "start_time": "2023-09-05T18:25:24.516Z"
   },
   {
    "duration": 556,
    "start_time": "2023-09-05T18:25:24.524Z"
   },
   {
    "duration": 6,
    "start_time": "2023-09-05T18:25:25.082Z"
   },
   {
    "duration": 193,
    "start_time": "2023-09-05T18:25:25.090Z"
   },
   {
    "duration": 282,
    "start_time": "2023-09-05T18:25:25.285Z"
   },
   {
    "duration": 5,
    "start_time": "2023-09-05T18:25:25.570Z"
   },
   {
    "duration": 325,
    "start_time": "2023-09-05T18:25:25.576Z"
   },
   {
    "duration": 7,
    "start_time": "2023-09-05T18:25:25.902Z"
   },
   {
    "duration": 10,
    "start_time": "2023-09-05T18:25:25.911Z"
   },
   {
    "duration": 9,
    "start_time": "2023-09-05T18:25:25.923Z"
   },
   {
    "duration": 6,
    "start_time": "2023-09-05T18:25:25.943Z"
   },
   {
    "duration": 19,
    "start_time": "2023-09-05T18:25:25.951Z"
   },
   {
    "duration": 4,
    "start_time": "2023-09-05T18:25:25.972Z"
   },
   {
    "duration": 6,
    "start_time": "2023-09-05T18:25:25.977Z"
   },
   {
    "duration": 288,
    "start_time": "2023-09-05T18:25:25.984Z"
   },
   {
    "duration": 75,
    "start_time": "2023-09-05T18:25:26.273Z"
   },
   {
    "duration": 3406,
    "start_time": "2023-09-05T18:25:26.350Z"
   },
   {
    "duration": 3,
    "start_time": "2023-09-05T18:25:29.758Z"
   },
   {
    "duration": 84,
    "start_time": "2023-09-05T18:25:29.762Z"
   },
   {
    "duration": 449,
    "start_time": "2023-09-05T18:25:29.847Z"
   },
   {
    "duration": 2,
    "start_time": "2023-09-05T18:25:30.298Z"
   },
   {
    "duration": 59,
    "start_time": "2023-09-05T18:25:30.302Z"
   },
   {
    "duration": 54,
    "start_time": "2023-09-05T18:25:30.362Z"
   },
   {
    "duration": 26,
    "start_time": "2023-09-05T18:25:30.417Z"
   },
   {
    "duration": 11785,
    "start_time": "2023-09-05T18:25:30.445Z"
   },
   {
    "duration": 11202,
    "start_time": "2023-09-05T18:25:42.232Z"
   },
   {
    "duration": 11806,
    "start_time": "2023-09-05T18:25:53.435Z"
   },
   {
    "duration": 95114,
    "start_time": "2023-09-05T18:26:05.244Z"
   },
   {
    "duration": 512,
    "start_time": "2023-09-05T18:27:40.360Z"
   },
   {
    "duration": 7,
    "start_time": "2023-09-05T18:27:40.874Z"
   },
   {
    "duration": 788582,
    "start_time": "2023-09-05T18:27:40.882Z"
   },
   {
    "duration": 330,
    "start_time": "2023-09-05T18:40:49.465Z"
   },
   {
    "duration": 268,
    "start_time": "2023-09-05T18:40:49.799Z"
   },
   {
    "duration": 16476,
    "start_time": "2023-09-05T18:40:50.068Z"
   },
   {
    "duration": 469,
    "start_time": "2023-09-05T18:41:06.546Z"
   },
   {
    "duration": 14,
    "start_time": "2023-09-06T18:10:58.037Z"
   },
   {
    "duration": 2149,
    "start_time": "2023-09-06T18:11:34.648Z"
   },
   {
    "duration": 4,
    "start_time": "2023-09-06T18:11:46.498Z"
   },
   {
    "duration": 160,
    "start_time": "2023-09-06T18:11:46.505Z"
   },
   {
    "duration": 244,
    "start_time": "2023-09-06T18:11:46.668Z"
   },
   {
    "duration": 15,
    "start_time": "2023-09-06T18:11:46.914Z"
   },
   {
    "duration": 11,
    "start_time": "2023-09-06T18:11:46.932Z"
   },
   {
    "duration": 18,
    "start_time": "2023-09-06T18:11:46.945Z"
   },
   {
    "duration": 12,
    "start_time": "2023-09-06T18:11:46.965Z"
   },
   {
    "duration": 35,
    "start_time": "2023-09-06T18:11:46.979Z"
   },
   {
    "duration": 11,
    "start_time": "2023-09-06T18:11:47.016Z"
   },
   {
    "duration": 644,
    "start_time": "2023-09-06T18:11:47.029Z"
   },
   {
    "duration": 9,
    "start_time": "2023-09-06T18:11:47.675Z"
   },
   {
    "duration": 226,
    "start_time": "2023-09-06T18:11:47.686Z"
   },
   {
    "duration": 332,
    "start_time": "2023-09-06T18:11:47.914Z"
   },
   {
    "duration": 8,
    "start_time": "2023-09-06T18:11:48.249Z"
   },
   {
    "duration": 444,
    "start_time": "2023-09-06T18:11:48.259Z"
   },
   {
    "duration": 10,
    "start_time": "2023-09-06T18:11:48.705Z"
   },
   {
    "duration": 30,
    "start_time": "2023-09-06T18:11:48.718Z"
   },
   {
    "duration": 17,
    "start_time": "2023-09-06T18:11:48.750Z"
   },
   {
    "duration": 12,
    "start_time": "2023-09-06T18:11:48.769Z"
   },
   {
    "duration": 28,
    "start_time": "2023-09-06T18:11:48.783Z"
   },
   {
    "duration": 4,
    "start_time": "2023-09-06T18:11:48.813Z"
   },
   {
    "duration": 28,
    "start_time": "2023-09-06T18:11:48.819Z"
   },
   {
    "duration": 468,
    "start_time": "2023-09-06T18:11:48.849Z"
   },
   {
    "duration": 8,
    "start_time": "2023-09-06T18:11:49.319Z"
   },
   {
    "duration": 4585,
    "start_time": "2023-09-06T18:11:49.329Z"
   },
   {
    "duration": 4,
    "start_time": "2023-09-06T18:11:53.916Z"
   },
   {
    "duration": 85,
    "start_time": "2023-09-06T18:11:53.922Z"
   },
   {
    "duration": 607,
    "start_time": "2023-09-06T18:11:54.009Z"
   },
   {
    "duration": 4,
    "start_time": "2023-09-06T18:11:54.619Z"
   },
   {
    "duration": 21,
    "start_time": "2023-09-06T18:11:54.626Z"
   },
   {
    "duration": 38,
    "start_time": "2023-09-06T18:11:54.649Z"
   },
   {
    "duration": 7,
    "start_time": "2023-09-06T18:11:54.689Z"
   },
   {
    "duration": 14638,
    "start_time": "2023-09-06T18:11:54.700Z"
   },
   {
    "duration": 14402,
    "start_time": "2023-09-06T18:12:09.341Z"
   },
   {
    "duration": 13577,
    "start_time": "2023-09-06T18:12:23.745Z"
   },
   {
    "duration": 122579,
    "start_time": "2023-09-06T18:12:37.324Z"
   },
   {
    "duration": 555,
    "start_time": "2023-09-06T18:14:39.905Z"
   },
   {
    "duration": 12,
    "start_time": "2023-09-06T18:14:40.462Z"
   },
   {
    "duration": 989727,
    "start_time": "2023-09-06T18:14:40.476Z"
   },
   {
    "duration": 305,
    "start_time": "2023-09-06T18:31:10.205Z"
   },
   {
    "duration": 310,
    "start_time": "2023-09-06T18:31:10.515Z"
   },
   {
    "duration": 22891,
    "start_time": "2023-09-06T18:31:10.827Z"
   },
   {
    "duration": 625,
    "start_time": "2023-09-06T18:31:33.721Z"
   },
   {
    "duration": 90,
    "start_time": "2023-09-06T18:31:34.349Z"
   },
   {
    "duration": 0,
    "start_time": "2023-09-06T18:31:34.442Z"
   },
   {
    "duration": 0,
    "start_time": "2023-09-06T18:31:34.443Z"
   },
   {
    "duration": 78,
    "start_time": "2023-09-06T18:33:25.254Z"
   },
   {
    "duration": 101,
    "start_time": "2023-09-06T18:40:08.522Z"
   },
   {
    "duration": 399,
    "start_time": "2023-09-06T18:53:30.558Z"
   },
   {
    "duration": 390,
    "start_time": "2023-09-06T18:53:36.564Z"
   },
   {
    "duration": 441,
    "start_time": "2023-09-06T18:53:40.450Z"
   },
   {
    "duration": 395,
    "start_time": "2023-09-06T18:53:46.750Z"
   },
   {
    "duration": 2108,
    "start_time": "2023-09-07T04:39:46.134Z"
   },
   {
    "duration": 11,
    "start_time": "2023-09-07T04:39:48.669Z"
   },
   {
    "duration": 177,
    "start_time": "2023-09-07T04:39:52.740Z"
   },
   {
    "duration": 11,
    "start_time": "2023-09-07T04:42:22.104Z"
   },
   {
    "duration": 7,
    "start_time": "2023-09-07T04:42:28.876Z"
   },
   {
    "duration": 6,
    "start_time": "2023-09-07T04:42:30.901Z"
   },
   {
    "duration": 5,
    "start_time": "2023-09-07T04:42:32.589Z"
   },
   {
    "duration": 17,
    "start_time": "2023-09-07T04:42:36.120Z"
   },
   {
    "duration": 6,
    "start_time": "2023-09-07T04:42:57.586Z"
   },
   {
    "duration": 603,
    "start_time": "2023-09-07T04:47:13.789Z"
   },
   {
    "duration": 765,
    "start_time": "2023-09-07T04:54:08.450Z"
   },
   {
    "duration": 610,
    "start_time": "2023-09-07T04:55:02.848Z"
   },
   {
    "duration": 712,
    "start_time": "2023-09-07T04:55:39.575Z"
   },
   {
    "duration": 612,
    "start_time": "2023-09-07T04:56:12.652Z"
   },
   {
    "duration": 596,
    "start_time": "2023-09-07T04:57:17.835Z"
   },
   {
    "duration": 605,
    "start_time": "2023-09-07T04:57:34.323Z"
   },
   {
    "duration": 756,
    "start_time": "2023-09-07T04:58:26.706Z"
   },
   {
    "duration": 16,
    "start_time": "2023-09-07T05:03:09.231Z"
   },
   {
    "duration": 4,
    "start_time": "2023-09-07T05:03:25.327Z"
   },
   {
    "duration": 12,
    "start_time": "2023-09-07T05:05:00.278Z"
   },
   {
    "duration": 5,
    "start_time": "2023-09-07T05:05:11.431Z"
   },
   {
    "duration": 5,
    "start_time": "2023-09-07T05:05:20.773Z"
   },
   {
    "duration": 2199,
    "start_time": "2023-09-08T09:21:33.205Z"
   },
   {
    "duration": 4,
    "start_time": "2023-09-08T09:21:35.406Z"
   },
   {
    "duration": 162,
    "start_time": "2023-09-08T09:21:35.412Z"
   },
   {
    "duration": 15,
    "start_time": "2023-09-08T09:21:35.578Z"
   },
   {
    "duration": 17,
    "start_time": "2023-09-08T09:21:35.596Z"
   },
   {
    "duration": 19,
    "start_time": "2023-09-08T09:21:35.616Z"
   },
   {
    "duration": 21,
    "start_time": "2023-09-08T09:21:35.637Z"
   },
   {
    "duration": 40,
    "start_time": "2023-09-08T09:21:35.661Z"
   },
   {
    "duration": 15,
    "start_time": "2023-09-08T09:21:35.703Z"
   },
   {
    "duration": 867,
    "start_time": "2023-09-08T09:21:35.720Z"
   },
   {
    "duration": 9,
    "start_time": "2023-09-08T09:21:36.589Z"
   },
   {
    "duration": 240,
    "start_time": "2023-09-08T09:21:36.599Z"
   },
   {
    "duration": 370,
    "start_time": "2023-09-08T09:21:36.847Z"
   },
   {
    "duration": 7,
    "start_time": "2023-09-08T09:21:37.219Z"
   },
   {
    "duration": 450,
    "start_time": "2023-09-08T09:21:37.229Z"
   },
   {
    "duration": 16,
    "start_time": "2023-09-08T09:21:37.681Z"
   },
   {
    "duration": 160,
    "start_time": "2023-09-08T09:21:37.699Z"
   },
   {
    "duration": 0,
    "start_time": "2023-09-08T09:21:37.861Z"
   },
   {
    "duration": 0,
    "start_time": "2023-09-08T09:21:37.862Z"
   },
   {
    "duration": 0,
    "start_time": "2023-09-08T09:21:37.863Z"
   },
   {
    "duration": 0,
    "start_time": "2023-09-08T09:21:37.865Z"
   },
   {
    "duration": 0,
    "start_time": "2023-09-08T09:21:37.866Z"
   },
   {
    "duration": 0,
    "start_time": "2023-09-08T09:21:37.867Z"
   },
   {
    "duration": 0,
    "start_time": "2023-09-08T09:21:37.868Z"
   },
   {
    "duration": 0,
    "start_time": "2023-09-08T09:21:37.869Z"
   },
   {
    "duration": 0,
    "start_time": "2023-09-08T09:21:37.871Z"
   },
   {
    "duration": 0,
    "start_time": "2023-09-08T09:21:37.872Z"
   },
   {
    "duration": 0,
    "start_time": "2023-09-08T09:21:37.873Z"
   },
   {
    "duration": 0,
    "start_time": "2023-09-08T09:21:37.875Z"
   },
   {
    "duration": 0,
    "start_time": "2023-09-08T09:21:37.876Z"
   },
   {
    "duration": 0,
    "start_time": "2023-09-08T09:21:37.877Z"
   },
   {
    "duration": 0,
    "start_time": "2023-09-08T09:21:37.878Z"
   },
   {
    "duration": 0,
    "start_time": "2023-09-08T09:21:37.879Z"
   },
   {
    "duration": 0,
    "start_time": "2023-09-08T09:21:37.880Z"
   },
   {
    "duration": 0,
    "start_time": "2023-09-08T09:21:37.881Z"
   },
   {
    "duration": 0,
    "start_time": "2023-09-08T09:21:37.882Z"
   },
   {
    "duration": 0,
    "start_time": "2023-09-08T09:21:37.883Z"
   },
   {
    "duration": 0,
    "start_time": "2023-09-08T09:21:37.884Z"
   },
   {
    "duration": 0,
    "start_time": "2023-09-08T09:21:37.885Z"
   },
   {
    "duration": 0,
    "start_time": "2023-09-08T09:21:37.886Z"
   },
   {
    "duration": 0,
    "start_time": "2023-09-08T09:21:37.888Z"
   },
   {
    "duration": 0,
    "start_time": "2023-09-08T09:21:37.889Z"
   },
   {
    "duration": 0,
    "start_time": "2023-09-08T09:21:37.890Z"
   },
   {
    "duration": 0,
    "start_time": "2023-09-08T09:21:37.891Z"
   },
   {
    "duration": 0,
    "start_time": "2023-09-08T09:21:37.892Z"
   },
   {
    "duration": 5,
    "start_time": "2023-09-08T09:26:33.211Z"
   },
   {
    "duration": 6,
    "start_time": "2023-09-08T09:26:39.940Z"
   },
   {
    "duration": 7,
    "start_time": "2023-09-08T09:26:43.232Z"
   },
   {
    "duration": 26,
    "start_time": "2023-09-08T09:26:43.701Z"
   },
   {
    "duration": 19,
    "start_time": "2023-09-08T09:26:49.332Z"
   },
   {
    "duration": 73,
    "start_time": "2023-09-08T09:26:50.393Z"
   },
   {
    "duration": 16,
    "start_time": "2023-09-08T09:26:58.669Z"
   },
   {
    "duration": 114,
    "start_time": "2023-09-08T09:27:02.781Z"
   },
   {
    "duration": 2093,
    "start_time": "2023-09-08T09:28:41.568Z"
   },
   {
    "duration": 5,
    "start_time": "2023-09-08T09:28:43.663Z"
   },
   {
    "duration": 164,
    "start_time": "2023-09-08T09:28:43.669Z"
   },
   {
    "duration": 11,
    "start_time": "2023-09-08T09:28:43.836Z"
   },
   {
    "duration": 41,
    "start_time": "2023-09-08T09:28:43.848Z"
   },
   {
    "duration": 41,
    "start_time": "2023-09-08T09:28:43.891Z"
   },
   {
    "duration": 35,
    "start_time": "2023-09-08T09:28:43.934Z"
   },
   {
    "duration": 60,
    "start_time": "2023-09-08T09:28:43.972Z"
   },
   {
    "duration": 63,
    "start_time": "2023-09-08T09:28:44.034Z"
   },
   {
    "duration": 700,
    "start_time": "2023-09-08T09:28:44.101Z"
   },
   {
    "duration": 11,
    "start_time": "2023-09-08T09:28:44.803Z"
   },
   {
    "duration": 256,
    "start_time": "2023-09-08T09:28:44.817Z"
   },
   {
    "duration": 390,
    "start_time": "2023-09-08T09:28:45.076Z"
   },
   {
    "duration": 7,
    "start_time": "2023-09-08T09:28:45.470Z"
   },
   {
    "duration": 480,
    "start_time": "2023-09-08T09:28:45.479Z"
   },
   {
    "duration": 14,
    "start_time": "2023-09-08T09:28:45.962Z"
   },
   {
    "duration": 11,
    "start_time": "2023-09-08T09:28:45.979Z"
   },
   {
    "duration": 28,
    "start_time": "2023-09-08T09:28:45.993Z"
   },
   {
    "duration": 66,
    "start_time": "2023-09-08T09:28:46.023Z"
   },
   {
    "duration": 18,
    "start_time": "2023-09-08T09:28:46.092Z"
   },
   {
    "duration": 16,
    "start_time": "2023-09-08T09:28:52.062Z"
   },
   {
    "duration": 2061,
    "start_time": "2023-09-08T09:29:56.808Z"
   },
   {
    "duration": 6,
    "start_time": "2023-09-08T09:29:58.872Z"
   },
   {
    "duration": 404,
    "start_time": "2023-09-08T09:29:58.880Z"
   },
   {
    "duration": 14,
    "start_time": "2023-09-08T09:29:59.287Z"
   },
   {
    "duration": 15,
    "start_time": "2023-09-08T09:29:59.305Z"
   },
   {
    "duration": 16,
    "start_time": "2023-09-08T09:29:59.322Z"
   },
   {
    "duration": 16,
    "start_time": "2023-09-08T09:29:59.340Z"
   },
   {
    "duration": 21,
    "start_time": "2023-09-08T09:29:59.358Z"
   },
   {
    "duration": 16,
    "start_time": "2023-09-08T09:29:59.381Z"
   },
   {
    "duration": 713,
    "start_time": "2023-09-08T09:29:59.399Z"
   },
   {
    "duration": 10,
    "start_time": "2023-09-08T09:30:00.115Z"
   },
   {
    "duration": 243,
    "start_time": "2023-09-08T09:30:00.127Z"
   },
   {
    "duration": 359,
    "start_time": "2023-09-08T09:30:00.372Z"
   },
   {
    "duration": 13,
    "start_time": "2023-09-08T09:30:00.735Z"
   },
   {
    "duration": 641,
    "start_time": "2023-09-08T09:30:00.750Z"
   },
   {
    "duration": 17,
    "start_time": "2023-09-08T09:30:01.394Z"
   },
   {
    "duration": 561,
    "start_time": "2023-09-08T09:30:01.413Z"
   },
   {
    "duration": 142,
    "start_time": "2023-09-08T09:30:01.975Z"
   },
   {
    "duration": 247,
    "start_time": "2023-09-08T09:30:02.119Z"
   },
   {
    "duration": 2183,
    "start_time": "2023-09-08T09:36:50.012Z"
   },
   {
    "duration": 4,
    "start_time": "2023-09-08T09:36:52.198Z"
   },
   {
    "duration": 166,
    "start_time": "2023-09-08T09:36:52.204Z"
   },
   {
    "duration": 20,
    "start_time": "2023-09-08T09:36:52.373Z"
   },
   {
    "duration": 12,
    "start_time": "2023-09-08T09:36:52.397Z"
   },
   {
    "duration": 10,
    "start_time": "2023-09-08T09:36:52.412Z"
   },
   {
    "duration": 12,
    "start_time": "2023-09-08T09:36:52.447Z"
   },
   {
    "duration": 38,
    "start_time": "2023-09-08T09:36:52.462Z"
   },
   {
    "duration": 8,
    "start_time": "2023-09-08T09:36:52.501Z"
   },
   {
    "duration": 743,
    "start_time": "2023-09-08T09:36:52.511Z"
   },
   {
    "duration": 11,
    "start_time": "2023-09-08T09:36:53.257Z"
   },
   {
    "duration": 242,
    "start_time": "2023-09-08T09:36:53.269Z"
   },
   {
    "duration": 386,
    "start_time": "2023-09-08T09:36:53.513Z"
   },
   {
    "duration": 6,
    "start_time": "2023-09-08T09:36:53.903Z"
   },
   {
    "duration": 493,
    "start_time": "2023-09-08T09:36:53.911Z"
   },
   {
    "duration": 15,
    "start_time": "2023-09-08T09:36:54.406Z"
   },
   {
    "duration": 86,
    "start_time": "2023-09-08T09:36:54.423Z"
   },
   {
    "duration": 12,
    "start_time": "2023-09-08T09:36:54.511Z"
   },
   {
    "duration": 37,
    "start_time": "2023-09-08T09:36:54.525Z"
   },
   {
    "duration": 200,
    "start_time": "2023-09-08T09:36:54.564Z"
   },
   {
    "duration": 0,
    "start_time": "2023-09-08T09:36:54.767Z"
   },
   {
    "duration": 0,
    "start_time": "2023-09-08T09:36:54.768Z"
   },
   {
    "duration": 0,
    "start_time": "2023-09-08T09:36:54.769Z"
   },
   {
    "duration": 0,
    "start_time": "2023-09-08T09:36:54.770Z"
   },
   {
    "duration": 0,
    "start_time": "2023-09-08T09:36:54.771Z"
   },
   {
    "duration": 0,
    "start_time": "2023-09-08T09:36:54.773Z"
   },
   {
    "duration": 0,
    "start_time": "2023-09-08T09:36:54.775Z"
   },
   {
    "duration": 0,
    "start_time": "2023-09-08T09:36:54.776Z"
   },
   {
    "duration": 0,
    "start_time": "2023-09-08T09:36:54.777Z"
   },
   {
    "duration": 0,
    "start_time": "2023-09-08T09:36:54.779Z"
   },
   {
    "duration": 0,
    "start_time": "2023-09-08T09:36:54.780Z"
   },
   {
    "duration": 0,
    "start_time": "2023-09-08T09:36:54.781Z"
   },
   {
    "duration": 0,
    "start_time": "2023-09-08T09:36:54.782Z"
   },
   {
    "duration": 0,
    "start_time": "2023-09-08T09:36:54.783Z"
   },
   {
    "duration": 0,
    "start_time": "2023-09-08T09:36:54.784Z"
   },
   {
    "duration": 0,
    "start_time": "2023-09-08T09:36:54.786Z"
   },
   {
    "duration": 0,
    "start_time": "2023-09-08T09:36:54.787Z"
   },
   {
    "duration": 0,
    "start_time": "2023-09-08T09:36:54.789Z"
   },
   {
    "duration": 0,
    "start_time": "2023-09-08T09:36:54.791Z"
   },
   {
    "duration": 0,
    "start_time": "2023-09-08T09:36:54.793Z"
   },
   {
    "duration": 0,
    "start_time": "2023-09-08T09:36:54.795Z"
   },
   {
    "duration": 0,
    "start_time": "2023-09-08T09:36:54.796Z"
   },
   {
    "duration": 0,
    "start_time": "2023-09-08T09:36:54.848Z"
   },
   {
    "duration": 0,
    "start_time": "2023-09-08T09:36:54.850Z"
   },
   {
    "duration": 0,
    "start_time": "2023-09-08T09:36:54.852Z"
   },
   {
    "duration": 0,
    "start_time": "2023-09-08T09:36:54.854Z"
   },
   {
    "duration": 17,
    "start_time": "2023-09-08T09:58:49.184Z"
   },
   {
    "duration": 23,
    "start_time": "2023-09-08T09:59:07.912Z"
   },
   {
    "duration": 2138,
    "start_time": "2023-09-08T10:00:18.692Z"
   },
   {
    "duration": 3,
    "start_time": "2023-09-08T10:00:20.833Z"
   },
   {
    "duration": 179,
    "start_time": "2023-09-08T10:00:20.838Z"
   },
   {
    "duration": 10,
    "start_time": "2023-09-08T10:00:21.020Z"
   },
   {
    "duration": 31,
    "start_time": "2023-09-08T10:00:21.031Z"
   },
   {
    "duration": 18,
    "start_time": "2023-09-08T10:00:21.064Z"
   },
   {
    "duration": 18,
    "start_time": "2023-09-08T10:00:21.083Z"
   },
   {
    "duration": 23,
    "start_time": "2023-09-08T10:00:21.102Z"
   },
   {
    "duration": 28,
    "start_time": "2023-09-08T10:00:21.126Z"
   },
   {
    "duration": 736,
    "start_time": "2023-09-08T10:00:21.158Z"
   },
   {
    "duration": 10,
    "start_time": "2023-09-08T10:00:21.896Z"
   },
   {
    "duration": 262,
    "start_time": "2023-09-08T10:00:21.908Z"
   },
   {
    "duration": 371,
    "start_time": "2023-09-08T10:00:22.172Z"
   },
   {
    "duration": 24,
    "start_time": "2023-09-08T10:00:22.544Z"
   },
   {
    "duration": 442,
    "start_time": "2023-09-08T10:00:22.573Z"
   },
   {
    "duration": 10,
    "start_time": "2023-09-08T10:00:23.017Z"
   },
   {
    "duration": 35,
    "start_time": "2023-09-08T10:00:23.029Z"
   },
   {
    "duration": 33,
    "start_time": "2023-09-08T10:00:23.067Z"
   },
   {
    "duration": 62,
    "start_time": "2023-09-08T10:00:23.102Z"
   },
   {
    "duration": 10,
    "start_time": "2023-09-08T10:00:53.373Z"
   },
   {
    "duration": 2026,
    "start_time": "2023-09-08T10:08:18.620Z"
   },
   {
    "duration": 6,
    "start_time": "2023-09-08T10:08:20.653Z"
   },
   {
    "duration": 139,
    "start_time": "2023-09-08T10:08:20.661Z"
   },
   {
    "duration": 10,
    "start_time": "2023-09-08T10:08:20.803Z"
   },
   {
    "duration": 11,
    "start_time": "2023-09-08T10:08:20.814Z"
   },
   {
    "duration": 24,
    "start_time": "2023-09-08T10:08:20.827Z"
   },
   {
    "duration": 17,
    "start_time": "2023-09-08T10:08:20.853Z"
   },
   {
    "duration": 33,
    "start_time": "2023-09-08T10:08:20.871Z"
   },
   {
    "duration": 9,
    "start_time": "2023-09-08T10:08:20.906Z"
   },
   {
    "duration": 691,
    "start_time": "2023-09-08T10:08:20.918Z"
   },
   {
    "duration": 8,
    "start_time": "2023-09-08T10:08:21.610Z"
   },
   {
    "duration": 236,
    "start_time": "2023-09-08T10:08:21.619Z"
   },
   {
    "duration": 373,
    "start_time": "2023-09-08T10:08:21.858Z"
   },
   {
    "duration": 18,
    "start_time": "2023-09-08T10:08:22.233Z"
   },
   {
    "duration": 408,
    "start_time": "2023-09-08T10:08:22.254Z"
   },
   {
    "duration": 11,
    "start_time": "2023-09-08T10:08:22.663Z"
   },
   {
    "duration": 22,
    "start_time": "2023-09-08T10:08:22.675Z"
   },
   {
    "duration": 24,
    "start_time": "2023-09-08T10:08:22.699Z"
   },
   {
    "duration": 38,
    "start_time": "2023-09-08T10:08:22.725Z"
   },
   {
    "duration": 9,
    "start_time": "2023-09-08T10:08:25.590Z"
   },
   {
    "duration": 13,
    "start_time": "2023-09-08T10:08:27.463Z"
   },
   {
    "duration": 9,
    "start_time": "2023-09-08T10:08:42.210Z"
   },
   {
    "duration": 9,
    "start_time": "2023-09-08T10:10:00.405Z"
   },
   {
    "duration": 6,
    "start_time": "2023-09-08T10:12:27.404Z"
   },
   {
    "duration": 24,
    "start_time": "2023-09-08T10:12:29.365Z"
   },
   {
    "duration": 7,
    "start_time": "2023-09-08T10:12:33.955Z"
   },
   {
    "duration": 147,
    "start_time": "2023-09-08T10:12:35.394Z"
   },
   {
    "duration": 19,
    "start_time": "2023-09-08T10:12:44.268Z"
   },
   {
    "duration": 20,
    "start_time": "2023-09-08T10:14:28.377Z"
   },
   {
    "duration": 12,
    "start_time": "2023-09-08T10:14:45.581Z"
   },
   {
    "duration": 19,
    "start_time": "2023-09-08T10:27:47.225Z"
   },
   {
    "duration": 8,
    "start_time": "2023-09-08T10:27:54.404Z"
   },
   {
    "duration": 9,
    "start_time": "2023-09-08T10:33:21.728Z"
   },
   {
    "duration": 11,
    "start_time": "2023-09-08T10:33:49.533Z"
   },
   {
    "duration": 20,
    "start_time": "2023-09-08T10:34:10.955Z"
   },
   {
    "duration": 6,
    "start_time": "2023-09-08T10:34:29.750Z"
   },
   {
    "duration": 24,
    "start_time": "2023-09-08T10:34:30.514Z"
   },
   {
    "duration": 17,
    "start_time": "2023-09-08T10:34:38.763Z"
   },
   {
    "duration": 7,
    "start_time": "2023-09-08T10:34:56.799Z"
   },
   {
    "duration": 17,
    "start_time": "2023-09-08T10:35:15.873Z"
   },
   {
    "duration": 9,
    "start_time": "2023-09-08T10:36:02.524Z"
   },
   {
    "duration": 17,
    "start_time": "2023-09-08T10:36:09.708Z"
   },
   {
    "duration": 8,
    "start_time": "2023-09-08T10:36:28.799Z"
   },
   {
    "duration": 6,
    "start_time": "2023-09-08T10:36:58.359Z"
   },
   {
    "duration": 9,
    "start_time": "2023-09-08T10:37:04.688Z"
   },
   {
    "duration": 8,
    "start_time": "2023-09-08T10:46:17.834Z"
   },
   {
    "duration": 101,
    "start_time": "2023-09-08T10:47:15.689Z"
   },
   {
    "duration": 159,
    "start_time": "2023-09-08T10:47:58.521Z"
   },
   {
    "duration": 6,
    "start_time": "2023-09-08T10:48:23.623Z"
   },
   {
    "duration": 4,
    "start_time": "2023-09-08T10:48:44.749Z"
   },
   {
    "duration": 5,
    "start_time": "2023-09-08T10:48:59.872Z"
   },
   {
    "duration": 7,
    "start_time": "2023-09-08T10:49:35.138Z"
   },
   {
    "duration": 8,
    "start_time": "2023-09-08T10:50:13.767Z"
   },
   {
    "duration": 24,
    "start_time": "2023-09-08T10:50:14.568Z"
   },
   {
    "duration": 8,
    "start_time": "2023-09-08T10:50:17.816Z"
   },
   {
    "duration": 14,
    "start_time": "2023-09-08T10:50:19.859Z"
   },
   {
    "duration": 9,
    "start_time": "2023-09-08T10:50:30.741Z"
   },
   {
    "duration": 8,
    "start_time": "2023-09-08T10:50:45.364Z"
   },
   {
    "duration": 12,
    "start_time": "2023-09-08T10:51:04.206Z"
   },
   {
    "duration": 8,
    "start_time": "2023-09-08T10:51:53.667Z"
   },
   {
    "duration": 6,
    "start_time": "2023-09-08T10:52:07.572Z"
   },
   {
    "duration": 23,
    "start_time": "2023-09-08T10:52:08.251Z"
   },
   {
    "duration": 8,
    "start_time": "2023-09-08T10:52:10.190Z"
   },
   {
    "duration": 8,
    "start_time": "2023-09-08T10:52:13.162Z"
   },
   {
    "duration": 6,
    "start_time": "2023-09-08T10:52:50.317Z"
   },
   {
    "duration": 24,
    "start_time": "2023-09-08T10:52:50.961Z"
   },
   {
    "duration": 8,
    "start_time": "2023-09-08T10:52:52.854Z"
   },
   {
    "duration": 8,
    "start_time": "2023-09-08T10:52:54.802Z"
   },
   {
    "duration": 14,
    "start_time": "2023-09-08T10:55:18.625Z"
   },
   {
    "duration": 21,
    "start_time": "2023-09-08T10:55:29.227Z"
   },
   {
    "duration": 13,
    "start_time": "2023-09-08T10:55:34.198Z"
   },
   {
    "duration": 28,
    "start_time": "2023-09-08T10:56:35.843Z"
   },
   {
    "duration": 2199,
    "start_time": "2023-09-08T10:57:34.720Z"
   },
   {
    "duration": 5,
    "start_time": "2023-09-08T10:57:36.923Z"
   },
   {
    "duration": 167,
    "start_time": "2023-09-08T10:57:36.930Z"
   },
   {
    "duration": 11,
    "start_time": "2023-09-08T10:57:37.099Z"
   },
   {
    "duration": 27,
    "start_time": "2023-09-08T10:57:37.113Z"
   },
   {
    "duration": 24,
    "start_time": "2023-09-08T10:57:37.141Z"
   },
   {
    "duration": 31,
    "start_time": "2023-09-08T10:57:37.167Z"
   },
   {
    "duration": 38,
    "start_time": "2023-09-08T10:57:37.200Z"
   },
   {
    "duration": 41,
    "start_time": "2023-09-08T10:57:37.239Z"
   },
   {
    "duration": 824,
    "start_time": "2023-09-08T10:57:37.282Z"
   },
   {
    "duration": 12,
    "start_time": "2023-09-08T10:57:38.108Z"
   },
   {
    "duration": 259,
    "start_time": "2023-09-08T10:57:38.122Z"
   },
   {
    "duration": 439,
    "start_time": "2023-09-08T10:57:38.383Z"
   },
   {
    "duration": 8,
    "start_time": "2023-09-08T10:57:38.825Z"
   },
   {
    "duration": 492,
    "start_time": "2023-09-08T10:57:38.834Z"
   },
   {
    "duration": 20,
    "start_time": "2023-09-08T10:57:39.327Z"
   },
   {
    "duration": 21,
    "start_time": "2023-09-08T10:57:39.349Z"
   },
   {
    "duration": 18,
    "start_time": "2023-09-08T10:57:39.372Z"
   },
   {
    "duration": 39,
    "start_time": "2023-09-08T10:57:39.392Z"
   },
   {
    "duration": 37,
    "start_time": "2023-09-08T10:57:39.433Z"
   },
   {
    "duration": 68,
    "start_time": "2023-09-08T10:57:39.473Z"
   },
   {
    "duration": 44,
    "start_time": "2023-09-08T10:57:39.544Z"
   },
   {
    "duration": 957,
    "start_time": "2023-09-08T10:57:39.590Z"
   },
   {
    "duration": 8,
    "start_time": "2023-09-08T10:57:40.550Z"
   },
   {
    "duration": 5992,
    "start_time": "2023-09-08T10:57:40.561Z"
   },
   {
    "duration": 6,
    "start_time": "2023-09-08T10:57:46.556Z"
   },
   {
    "duration": 43,
    "start_time": "2023-09-08T10:57:46.564Z"
   },
   {
    "duration": 663,
    "start_time": "2023-09-08T10:57:46.609Z"
   },
   {
    "duration": 4,
    "start_time": "2023-09-08T10:57:47.274Z"
   },
   {
    "duration": 7,
    "start_time": "2023-09-08T10:57:47.280Z"
   },
   {
    "duration": 14,
    "start_time": "2023-09-08T10:57:47.289Z"
   },
   {
    "duration": 40,
    "start_time": "2023-09-08T10:57:47.306Z"
   },
   {
    "duration": 20,
    "start_time": "2023-09-08T10:57:47.347Z"
   },
   {
    "duration": 6,
    "start_time": "2023-09-08T10:57:47.369Z"
   },
   {
    "duration": 18642,
    "start_time": "2023-09-08T10:57:47.377Z"
   },
   {
    "duration": 18908,
    "start_time": "2023-09-08T10:58:06.020Z"
   },
   {
    "duration": 20950,
    "start_time": "2023-09-08T10:58:24.930Z"
   },
   {
    "duration": 157771,
    "start_time": "2023-09-08T10:58:45.882Z"
   },
   {
    "duration": 594,
    "start_time": "2023-09-08T11:01:23.655Z"
   },
   {
    "duration": 10,
    "start_time": "2023-09-08T11:01:24.252Z"
   },
   {
    "duration": 1282404,
    "start_time": "2023-09-08T11:01:24.267Z"
   },
   {
    "duration": 299,
    "start_time": "2023-09-08T11:22:46.748Z"
   },
   {
    "duration": 289,
    "start_time": "2023-09-08T11:22:47.049Z"
   },
   {
    "duration": 21608,
    "start_time": "2023-09-08T11:22:47.346Z"
   },
   {
    "duration": 482,
    "start_time": "2023-09-08T11:23:08.957Z"
   },
   {
    "duration": 139,
    "start_time": "2023-09-08T11:24:08.593Z"
   },
   {
    "duration": 7,
    "start_time": "2023-09-08T11:24:13.375Z"
   },
   {
    "duration": 4,
    "start_time": "2023-09-08T11:24:15.373Z"
   },
   {
    "duration": 18272,
    "start_time": "2023-09-08T11:24:19.043Z"
   },
   {
    "duration": 18001,
    "start_time": "2023-09-08T11:26:53.561Z"
   },
   {
    "duration": 17620,
    "start_time": "2023-09-08T11:28:26.105Z"
   },
   {
    "duration": 17532,
    "start_time": "2023-09-08T11:28:47.537Z"
   },
   {
    "duration": 17308,
    "start_time": "2023-09-08T11:29:46.260Z"
   },
   {
    "duration": 2101,
    "start_time": "2023-09-08T11:33:27.137Z"
   },
   {
    "duration": 4,
    "start_time": "2023-09-08T11:33:29.240Z"
   },
   {
    "duration": 139,
    "start_time": "2023-09-08T11:33:29.246Z"
   },
   {
    "duration": 11,
    "start_time": "2023-09-08T11:33:29.388Z"
   },
   {
    "duration": 37,
    "start_time": "2023-09-08T11:33:29.400Z"
   },
   {
    "duration": 29,
    "start_time": "2023-09-08T11:33:29.439Z"
   },
   {
    "duration": 22,
    "start_time": "2023-09-08T11:33:29.470Z"
   },
   {
    "duration": 24,
    "start_time": "2023-09-08T11:33:29.494Z"
   },
   {
    "duration": 13,
    "start_time": "2023-09-08T11:33:29.519Z"
   },
   {
    "duration": 726,
    "start_time": "2023-09-08T11:33:29.534Z"
   },
   {
    "duration": 9,
    "start_time": "2023-09-08T11:33:30.264Z"
   },
   {
    "duration": 265,
    "start_time": "2023-09-08T11:33:30.275Z"
   },
   {
    "duration": 388,
    "start_time": "2023-09-08T11:33:30.542Z"
   },
   {
    "duration": 7,
    "start_time": "2023-09-08T11:33:30.932Z"
   },
   {
    "duration": 465,
    "start_time": "2023-09-08T11:33:30.948Z"
   },
   {
    "duration": 12,
    "start_time": "2023-09-08T11:33:31.414Z"
   },
   {
    "duration": 35,
    "start_time": "2023-09-08T11:33:31.428Z"
   },
   {
    "duration": 52,
    "start_time": "2023-09-08T11:33:31.465Z"
   },
   {
    "duration": 73,
    "start_time": "2023-09-08T11:33:31.519Z"
   },
   {
    "duration": 37,
    "start_time": "2023-09-08T11:33:31.594Z"
   },
   {
    "duration": 44,
    "start_time": "2023-09-08T11:33:31.633Z"
   },
   {
    "duration": 30,
    "start_time": "2023-09-08T11:33:31.679Z"
   },
   {
    "duration": 668,
    "start_time": "2023-09-08T11:33:31.711Z"
   },
   {
    "duration": 8,
    "start_time": "2023-09-08T11:33:32.382Z"
   },
   {
    "duration": 5934,
    "start_time": "2023-09-08T11:33:32.448Z"
   },
   {
    "duration": 5,
    "start_time": "2023-09-08T11:33:38.447Z"
   },
   {
    "duration": 30,
    "start_time": "2023-09-08T11:33:38.455Z"
   },
   {
    "duration": 611,
    "start_time": "2023-09-08T11:33:38.488Z"
   },
   {
    "duration": 3,
    "start_time": "2023-09-08T11:33:39.102Z"
   },
   {
    "duration": 6,
    "start_time": "2023-09-08T11:33:39.107Z"
   },
   {
    "duration": 5,
    "start_time": "2023-09-08T11:33:39.115Z"
   },
   {
    "duration": 33,
    "start_time": "2023-09-08T11:33:39.121Z"
   },
   {
    "duration": 11,
    "start_time": "2023-09-08T11:33:39.156Z"
   },
   {
    "duration": 7,
    "start_time": "2023-09-08T11:33:39.168Z"
   },
   {
    "duration": 20237,
    "start_time": "2023-09-08T11:33:39.177Z"
   },
   {
    "duration": 19274,
    "start_time": "2023-09-08T11:33:59.416Z"
   },
   {
    "duration": 18423,
    "start_time": "2023-09-08T11:34:18.691Z"
   },
   {
    "duration": 168642,
    "start_time": "2023-09-08T11:34:37.116Z"
   },
   {
    "duration": 628,
    "start_time": "2023-09-08T11:37:25.762Z"
   },
   {
    "duration": 9,
    "start_time": "2023-09-08T11:37:26.391Z"
   },
   {
    "duration": 1259266,
    "start_time": "2023-09-08T11:37:26.402Z"
   },
   {
    "duration": 366,
    "start_time": "2023-09-08T11:58:25.671Z"
   },
   {
    "duration": 344,
    "start_time": "2023-09-08T11:58:26.039Z"
   },
   {
    "duration": 22085,
    "start_time": "2023-09-08T11:58:26.385Z"
   },
   {
    "duration": 493,
    "start_time": "2023-09-08T11:58:48.472Z"
   },
   {
    "duration": 17115,
    "start_time": "2023-09-08T12:05:13.636Z"
   },
   {
    "duration": 574,
    "start_time": "2023-09-08T12:05:37.838Z"
   },
   {
    "duration": 134,
    "start_time": "2023-09-08T12:12:51.540Z"
   },
   {
    "duration": 92,
    "start_time": "2023-09-08T12:17:07.508Z"
   },
   {
    "duration": 1922,
    "start_time": "2023-09-08T12:25:00.971Z"
   },
   {
    "duration": 4,
    "start_time": "2023-09-08T12:25:02.895Z"
   },
   {
    "duration": 147,
    "start_time": "2023-09-08T12:25:02.901Z"
   },
   {
    "duration": 9,
    "start_time": "2023-09-08T12:25:03.050Z"
   },
   {
    "duration": 13,
    "start_time": "2023-09-08T12:25:03.061Z"
   },
   {
    "duration": 22,
    "start_time": "2023-09-08T12:25:03.075Z"
   },
   {
    "duration": 11,
    "start_time": "2023-09-08T12:25:03.099Z"
   },
   {
    "duration": 19,
    "start_time": "2023-09-08T12:25:03.111Z"
   },
   {
    "duration": 17,
    "start_time": "2023-09-08T12:25:03.132Z"
   },
   {
    "duration": 651,
    "start_time": "2023-09-08T12:25:03.150Z"
   },
   {
    "duration": 8,
    "start_time": "2023-09-08T12:25:03.803Z"
   },
   {
    "duration": 225,
    "start_time": "2023-09-08T12:25:03.813Z"
   },
   {
    "duration": 363,
    "start_time": "2023-09-08T12:25:04.039Z"
   },
   {
    "duration": 7,
    "start_time": "2023-09-08T12:25:04.405Z"
   },
   {
    "duration": 389,
    "start_time": "2023-09-08T12:25:04.413Z"
   },
   {
    "duration": 12,
    "start_time": "2023-09-08T12:25:04.804Z"
   },
   {
    "duration": 8,
    "start_time": "2023-09-08T12:25:04.817Z"
   },
   {
    "duration": 20,
    "start_time": "2023-09-08T12:25:04.826Z"
   },
   {
    "duration": 23,
    "start_time": "2023-09-08T12:25:04.848Z"
   },
   {
    "duration": 13,
    "start_time": "2023-09-08T12:25:04.873Z"
   },
   {
    "duration": 8,
    "start_time": "2023-09-08T12:25:04.888Z"
   },
   {
    "duration": 12,
    "start_time": "2023-09-08T12:25:04.897Z"
   },
   {
    "duration": 353,
    "start_time": "2023-09-08T12:25:04.911Z"
   },
   {
    "duration": 7,
    "start_time": "2023-09-08T12:25:05.266Z"
   },
   {
    "duration": 3698,
    "start_time": "2023-09-08T12:25:05.275Z"
   },
   {
    "duration": 4,
    "start_time": "2023-09-08T12:25:09.047Z"
   },
   {
    "duration": 78,
    "start_time": "2023-09-08T12:25:09.053Z"
   },
   {
    "duration": 514,
    "start_time": "2023-09-08T12:25:09.133Z"
   },
   {
    "duration": 4,
    "start_time": "2023-09-08T12:25:09.648Z"
   },
   {
    "duration": 56,
    "start_time": "2023-09-08T12:25:09.653Z"
   },
   {
    "duration": 19,
    "start_time": "2023-09-08T12:25:09.711Z"
   },
   {
    "duration": 32,
    "start_time": "2023-09-08T12:25:09.731Z"
   },
   {
    "duration": 13136,
    "start_time": "2023-09-08T12:25:09.765Z"
   },
   {
    "duration": 13185,
    "start_time": "2023-09-08T12:25:22.903Z"
   },
   {
    "duration": 12875,
    "start_time": "2023-09-08T12:25:36.090Z"
   },
   {
    "duration": 112904,
    "start_time": "2023-09-08T12:25:48.967Z"
   },
   {
    "duration": 653,
    "start_time": "2023-09-08T12:27:41.873Z"
   },
   {
    "duration": 9,
    "start_time": "2023-09-08T12:27:42.528Z"
   },
   {
    "duration": 911225,
    "start_time": "2023-09-08T12:27:42.547Z"
   },
   {
    "duration": 356,
    "start_time": "2023-09-08T12:42:53.848Z"
   },
   {
    "duration": 316,
    "start_time": "2023-09-08T12:42:54.208Z"
   },
   {
    "duration": 16632,
    "start_time": "2023-09-08T12:42:54.526Z"
   },
   {
    "duration": 472,
    "start_time": "2023-09-08T12:43:11.160Z"
   },
   {
    "duration": 112,
    "start_time": "2023-09-09T09:53:50.677Z"
   },
   {
    "duration": 127,
    "start_time": "2023-09-09T09:56:16.190Z"
   },
   {
    "duration": 122,
    "start_time": "2023-09-09T09:57:18.803Z"
   },
   {
    "duration": 75,
    "start_time": "2023-09-09T09:58:59.610Z"
   }
  ],
  "kernelspec": {
   "display_name": "Python 3 (ipykernel)",
   "language": "python",
   "name": "python3"
  },
  "language_info": {
   "codemirror_mode": {
    "name": "ipython",
    "version": 3
   },
   "file_extension": ".py",
   "mimetype": "text/x-python",
   "name": "python",
   "nbconvert_exporter": "python",
   "pygments_lexer": "ipython3",
   "version": "3.9.5"
  },
  "toc": {
   "base_numbering": 1,
   "nav_menu": {},
   "number_sections": false,
   "sideBar": true,
   "skip_h1_title": false,
   "title_cell": "Table of Contents",
   "title_sidebar": "Contents",
   "toc_cell": false,
   "toc_position": {},
   "toc_section_display": true,
   "toc_window_display": false
  },
  "varInspector": {
   "cols": {
    "lenName": 16,
    "lenType": 16,
    "lenVar": 40
   },
   "kernels_config": {
    "python": {
     "delete_cmd_postfix": "",
     "delete_cmd_prefix": "del ",
     "library": "var_list.py",
     "varRefreshCmd": "print(var_dic_list())"
    },
    "r": {
     "delete_cmd_postfix": ") ",
     "delete_cmd_prefix": "rm(",
     "library": "var_list.r",
     "varRefreshCmd": "cat(var_dic_list()) "
    }
   },
   "types_to_exclude": [
    "module",
    "function",
    "builtin_function_or_method",
    "instance",
    "_Feature"
   ],
   "window_display": false
  }
 },
 "nbformat": 4,
 "nbformat_minor": 5
}
